{
 "cells": [
  {
   "cell_type": "code",
   "execution_count": 1,
   "id": "74a72d75",
   "metadata": {},
   "outputs": [],
   "source": [
    "# import the TrendReq method from the pytrends request module\n",
    "from pytrends.request import TrendReq\n",
    "\n",
    "# execute the TrendReq method by passing the host language (hl) and timezone (tz) parameters\n",
    "pytrends = TrendReq(hl='en-US', tz=360)"
   ]
  },
  {
   "cell_type": "code",
   "execution_count": 2,
   "id": "4f4bd470",
   "metadata": {},
   "outputs": [],
   "source": [
    "# build list of keywords\n",
    "kw_list = [\"ai\", \"datascience\", \"machinelearning\"] \n",
    "\n",
    "# build the payload\n",
    "pytrends.build_payload(kw_list, timeframe='2015-01-01 2022-01-01', geo='US')"
   ]
  },
  {
   "cell_type": "code",
   "execution_count": 3,
   "id": "37c104ed",
   "metadata": {},
   "outputs": [
    {
     "name": "stdout",
     "output_type": "stream",
     "text": [
      "            ai  datascience  machinelearning  isPartial\n",
      "date                                                   \n",
      "2015-01-01  60            0                0      False\n",
      "2015-02-01  55            0                0      False\n",
      "2015-03-01  54            0                0      False\n",
      "2015-04-01  55            0                0      False\n",
      "2015-05-01  53            0                0      False\n",
      "2015-06-01  48            0                0      False\n",
      "2015-07-01  50            0                0      False\n",
      "2015-08-01  44            0                0      False\n",
      "2015-09-01  46            0                0      False\n",
      "2015-10-01  47            0                0      False\n",
      "2015-11-01  48            0                0      False\n",
      "2015-12-01  50            0                0      False\n",
      "2016-01-01  45            0                0      False\n",
      "2016-02-01  46            0                0      False\n",
      "2016-03-01  54            0                0      False\n",
      "2016-04-01  49            0                0      False\n",
      "2016-05-01  48            0                0      False\n",
      "2016-06-01  50            0                0      False\n",
      "2016-07-01  42            0                0      False\n",
      "2016-08-01  40            0                0      False\n"
     ]
    }
   ],
   "source": [
    "# import pandas module\n",
    "import pandas as pd\n",
    "\n",
    "# store interest over time information in df\n",
    "df = pytrends.interest_over_time()\n",
    "\n",
    "# display the top 20 rows in dataframe\n",
    "print(df.head(20))"
   ]
  },
  {
   "cell_type": "code",
   "execution_count": 4,
   "id": "578e00d6",
   "metadata": {},
   "outputs": [
    {
     "data": {
      "text/plain": [
       "<matplotlib.legend.Legend at 0x27ebeac7af0>"
      ]
     },
     "execution_count": 4,
     "metadata": {},
     "output_type": "execute_result"
    },
    {
     "data": {
      "image/png": "[encoded data removed]",
      "text/plain": [
       "<Figure size 432x288 with 1 Axes>"
      ]
     },
     "metadata": {
      "needs_background": "light"
     },
     "output_type": "display_data"
    }
   ],
   "source": [
    "# #import matplotlib plotting module to visualize data (make sure matplotlib is installed using pip)\n",
    "# import matplotlib.pyplot as plt\n",
    "\n",
    "# # plot all three trends in same chart\n",
    "# plt.figure()\n",
    "# plt.plot(df.index,df.ai,'k*')\n",
    "# plt.plot(df.index,df.datascience,'r*')\n",
    "# plt.plot(df.index,df.machinelearning,'b*')\n",
    "# plt.legend([\"ai\", \"datascience\", \"machinelearning\"])"
   ]
  },
  {
   "cell_type": "code",
   "execution_count": 5,
   "id": "292e1664",
   "metadata": {},
   "outputs": [
    {
     "data": {
      "text/plain": [
       "<matplotlib.legend.Legend at 0x27ebeb0baf0>"
      ]
     },
     "execution_count": 5,
     "metadata": {},
     "output_type": "execute_result"
    },
    {
     "data": {
      "image/png": "[encoded data removed]",
      "text/plain": [
       "<Figure size 432x288 with 1 Axes>"
      ]
     },
     "metadata": {
      "needs_background": "light"
     },
     "output_type": "display_data"
    }
   ],
   "source": [
    "# # build list of keywords\n",
    "# kw_list = [\"ai\", \"datascience\", \"machinelearning\",'blockchain']\n",
    "\n",
    "# # build the payload\n",
    "# pytrends.build_payload(kw_list, cat=None, timeframe='2015-01-01 2022-01-01', geo='US') \n",
    "\n",
    "# # get the interest over time\n",
    "# df = pytrends.interest_over_time()\n",
    "\n",
    "# # plot food trends over time\n",
    "# plt.figure()\n",
    "# plt.plot(df.index,df.ai,'k*')\n",
    "# plt.plot(df.index,df.datascience,'r*')\n",
    "# plt.plot(df.index,df.machinelearning,'b*')\n",
    "# plt.plot(df.index,df.blockchain,'g*')\n",
    "# plt.legend([\"ai\", \"datascience\", \"machinelearning\",'blockchain'])\n"
   ]
  },
  {
   "cell_type": "code",
   "execution_count": 6,
   "id": "9aacfff7",
   "metadata": {},
   "outputs": [
    {
     "data": {
      "text/plain": [
       "<matplotlib.legend.Legend at 0x27ebec6a460>"
      ]
     },
     "execution_count": 6,
     "metadata": {},
     "output_type": "execute_result"
    },
    {
     "data": {
      "image/png": "[encoded data removed]",
      "text/plain": [
       "<Figure size 432x288 with 1 Axes>"
      ]
     },
     "metadata": {
      "needs_background": "light"
     },
     "output_type": "display_data"
    }
   ],
   "source": [
    "# #plot normalized trends over time\n",
    "# plt.figure()\n",
    "# plt.plot(df.index,df.ai/df.ai.iloc[0],'k*')\n",
    "# plt.plot(df.index,df.datascience/df.datascience.iloc[0],'r*')\n",
    "# plt.plot(df.index,df.machinelearning/df.machinelearning.iloc[0],'b*')\n",
    "# plt.plot(df.index,df.blockchain/df.blockchain.iloc[0],'g*')\n",
    "# plt.legend([\"ai\", \"datascience\", \"machinelearning\",'blockchain'])"
   ]
  },
  {
   "cell_type": "code",
   "execution_count": 7,
   "id": "aa6145cd",
   "metadata": {},
   "outputs": [],
   "source": [
    "# build the payload\n",
    "pytrends.build_payload(kw_list=['datascience'], timeframe='2015-01-01 2022-01-01', geo='US') \n",
    "\n",
    "# get related topics\n",
    "df_rt = pytrends.related_topics()"
   ]
  },
  {
   "cell_type": "code",
   "execution_count": 8,
   "id": "9cf56bf4",
   "metadata": {},
   "outputs": [
    {
     "name": "stdout",
     "output_type": "stream",
     "text": [
      "    value formattedValue                                               link  \\\n",
      "0  341300       Breakout  /trends/explore?q=/m/0191f8&date=2015-01-01+20...   \n",
      "1  246150       Breakout  /trends/explore?q=/m/01hyh_&date=2015-01-01+20...   \n",
      "2  222800       Breakout  /trends/explore?q=/m/0ryppmg&date=2015-01-01+2...   \n",
      "3  206800       Breakout  /trends/explore?q=/m/0156dy&date=2015-01-01+20...   \n",
      "4  187700       Breakout  /trends/explore?q=/m/04g0kcw&date=2015-01-01+2...   \n",
      "\n",
      "    topic_mid       topic_title          topic_type  \n",
      "0   /m/0191f8          Learning               Topic  \n",
      "1   /m/01hyh_  Machine learning      Field of study  \n",
      "2  /m/0ryppmg            GitHub  Software developer  \n",
      "3   /m/0156dy           Project               Topic  \n",
      "4  /m/04g0kcw            GitHub  Software developer  \n"
     ]
    }
   ],
   "source": [
    "# display top 5 rising results for the datascience keyword\n",
    "print(df_rt['datascience']['rising'].head(5))"
   ]
  },
  {
   "cell_type": "code",
   "execution_count": 9,
   "id": "48505971",
   "metadata": {},
   "outputs": [
    {
     "name": "stdout",
     "output_type": "stream",
     "text": [
      "   value formattedValue  hasData  \\\n",
      "0    100            100     True   \n",
      "1     22             22     True   \n",
      "2     14             14     True   \n",
      "3      9              9     True   \n",
      "4      3              3     True   \n",
      "\n",
      "                                                link   topic_mid  \\\n",
      "0  /trends/explore?q=/m/0jt3_q3&date=2015-01-01+2...  /m/0jt3_q3   \n",
      "1  /trends/explore?q=/m/026sq&date=2015-01-01+202...    /m/026sq   \n",
      "2  /trends/explore?q=/m/06mq7&date=2015-01-01+202...    /m/06mq7   \n",
      "3  /trends/explore?q=/m/05z1_&date=2015-01-01+202...    /m/05z1_   \n",
      "4  /trends/explore?q=/m/0191f8&date=2015-01-01+20...   /m/0191f8   \n",
      "\n",
      "    topic_title            topic_type  \n",
      "0  Data science        Field of study  \n",
      "1          Data                 Topic  \n",
      "2       Science                 Topic  \n",
      "3        Python  Programming language  \n",
      "4      Learning                 Topic  \n"
     ]
    }
   ],
   "source": [
    "# display top 5 top results for the datascience keyword\n",
    "print(df_rt['datascience']['top'].head(5))"
   ]
  },
  {
   "cell_type": "code",
   "execution_count": 10,
   "id": "537bdca2",
   "metadata": {},
   "outputs": [
    {
     "name": "stdout",
     "output_type": "stream",
     "text": [
      "                    query  value\n",
      "0            data science    100\n",
      "1                  github     17\n",
      "2         datascience inc      9\n",
      "3                coursera      8\n",
      "4    what is data science      8\n",
      "5       data science jobs      7\n",
      "6   data science bootcamp      7\n",
      "7                  kaggle      7\n",
      "8                datacamp      6\n",
      "9                   udemy      5\n",
      "10              dataquest      3\n",
      "11        datascience.com      3\n",
      "12                datarpm      1\n"
     ]
    }
   ],
   "source": [
    "# build the payload\n",
    "pytrends.build_payload(kw_list=['datascience'], timeframe='2015-01-01 2022-01-01', geo='US') \n",
    "\n",
    "# get related queries\n",
    "df_rq = pytrends.related_queries()\n",
    "\n",
    "# display df_rq\n",
    "print(df_rq['datascience']['top'])\n",
    "# print(df_rq['datascience']['top'].values.tolist())"
   ]
  },
  {
   "cell_type": "code",
   "execution_count": 11,
   "id": "e7ce72e2",
   "metadata": {},
   "outputs": [
    {
     "name": "stdout",
     "output_type": "stream",
     "text": [
      "{'mid': '/g/11c3n_86gg', 'title': 'ITvitae - ICT Academy voor Autisme en/of Hoogbegaafdheid - ICT-specialisaties DataEngineering/DataScience, Cyber Security, Development, Beveiligingstechnicus', 'type': 'College in Amersfoort, Netherlands'}\n"
     ]
    }
   ],
   "source": [
    "# get suggestions\n",
    "df_s = pytrends.suggestions('datascience')\n",
    "# display df_rq\n",
    "print(df_s[0])"
   ]
  },
  {
   "cell_type": "code",
   "execution_count": 12,
   "id": "50ce4a1c",
   "metadata": {},
   "outputs": [
    {
     "data": {
      "text/html": [
       "<div>\n",
       "<style scoped>\n",
       "    .dataframe tbody tr th:only-of-type {\n",
       "        vertical-align: middle;\n",
       "    }\n",
       "\n",
       "    .dataframe tbody tr th {\n",
       "        vertical-align: top;\n",
       "    }\n",
       "\n",
       "    .dataframe thead th {\n",
       "        text-align: right;\n",
       "    }\n",
       "</style>\n",
       "<table border=\"1\" class=\"dataframe\">\n",
       "  <thead>\n",
       "    <tr style=\"text-align: right;\">\n",
       "      <th></th>\n",
       "      <th>0</th>\n",
       "    </tr>\n",
       "  </thead>\n",
       "  <tbody>\n",
       "    <tr>\n",
       "      <th>0</th>\n",
       "      <td>Umbrella Academy season 3</td>\n",
       "    </tr>\n",
       "    <tr>\n",
       "      <th>1</th>\n",
       "      <td>Caleb Swanigan</td>\n",
       "    </tr>\n",
       "    <tr>\n",
       "      <th>2</th>\n",
       "      <td>Rob Gronkowski</td>\n",
       "    </tr>\n",
       "    <tr>\n",
       "      <th>3</th>\n",
       "      <td>Brooks Koepka</td>\n",
       "    </tr>\n",
       "    <tr>\n",
       "      <th>4</th>\n",
       "      <td>Elon Musk</td>\n",
       "    </tr>\n",
       "    <tr>\n",
       "      <th>5</th>\n",
       "      <td>Mo Brooks</td>\n",
       "    </tr>\n",
       "    <tr>\n",
       "      <th>6</th>\n",
       "      <td>Jan. 6 hearings</td>\n",
       "    </tr>\n",
       "    <tr>\n",
       "      <th>7</th>\n",
       "      <td>Epic Games</td>\n",
       "    </tr>\n",
       "    <tr>\n",
       "      <th>8</th>\n",
       "      <td>Fall Guys</td>\n",
       "    </tr>\n",
       "    <tr>\n",
       "      <th>9</th>\n",
       "      <td>Bill Cosby</td>\n",
       "    </tr>\n",
       "    <tr>\n",
       "      <th>10</th>\n",
       "      <td>Cloudflare</td>\n",
       "    </tr>\n",
       "    <tr>\n",
       "      <th>11</th>\n",
       "      <td>Supreme Court</td>\n",
       "    </tr>\n",
       "    <tr>\n",
       "      <th>12</th>\n",
       "      <td>The Visit</td>\n",
       "    </tr>\n",
       "    <tr>\n",
       "      <th>13</th>\n",
       "      <td>Ron Johnson</td>\n",
       "    </tr>\n",
       "    <tr>\n",
       "      <th>14</th>\n",
       "      <td>Brittney Griner</td>\n",
       "    </tr>\n",
       "    <tr>\n",
       "      <th>15</th>\n",
       "      <td>Grimes</td>\n",
       "    </tr>\n",
       "    <tr>\n",
       "      <th>16</th>\n",
       "      <td>Stephen Colbert</td>\n",
       "    </tr>\n",
       "    <tr>\n",
       "      <th>17</th>\n",
       "      <td>Katie Ledecky</td>\n",
       "    </tr>\n",
       "    <tr>\n",
       "      <th>18</th>\n",
       "      <td>Ben Stiller</td>\n",
       "    </tr>\n",
       "    <tr>\n",
       "      <th>19</th>\n",
       "      <td>Kaliningrad</td>\n",
       "    </tr>\n",
       "  </tbody>\n",
       "</table>\n",
       "</div>"
      ],
      "text/plain": [
       "                            0\n",
       "0   Umbrella Academy season 3\n",
       "1              Caleb Swanigan\n",
       "2              Rob Gronkowski\n",
       "3               Brooks Koepka\n",
       "4                   Elon Musk\n",
       "5                   Mo Brooks\n",
       "6             Jan. 6 hearings\n",
       "7                  Epic Games\n",
       "8                   Fall Guys\n",
       "9                  Bill Cosby\n",
       "10                 Cloudflare\n",
       "11              Supreme Court\n",
       "12                  The Visit\n",
       "13                Ron Johnson\n",
       "14            Brittney Griner\n",
       "15                     Grimes\n",
       "16            Stephen Colbert\n",
       "17              Katie Ledecky\n",
       "18                Ben Stiller\n",
       "19                Kaliningrad"
      ]
     },
     "execution_count": 12,
     "metadata": {},
     "output_type": "execute_result"
    }
   ],
   "source": [
    "pytrends.trending_searches(pn='united_states')"
   ]
  },
  {
   "cell_type": "code",
   "execution_count": 13,
   "id": "9717e3b3",
   "metadata": {},
   "outputs": [
    {
     "data": {
      "text/html": [
       "<div>\n",
       "<style scoped>\n",
       "    .dataframe tbody tr th:only-of-type {\n",
       "        vertical-align: middle;\n",
       "    }\n",
       "\n",
       "    .dataframe tbody tr th {\n",
       "        vertical-align: top;\n",
       "    }\n",
       "\n",
       "    .dataframe thead th {\n",
       "        text-align: right;\n",
       "    }\n",
       "</style>\n",
       "<table border=\"1\" class=\"dataframe\">\n",
       "  <thead>\n",
       "    <tr style=\"text-align: right;\">\n",
       "      <th></th>\n",
       "      <th>title</th>\n",
       "      <th>exploreQuery</th>\n",
       "    </tr>\n",
       "  </thead>\n",
       "  <tbody>\n",
       "    <tr>\n",
       "      <th>0</th>\n",
       "      <td>NBA</td>\n",
       "      <td></td>\n",
       "    </tr>\n",
       "    <tr>\n",
       "      <th>1</th>\n",
       "      <td>DMX</td>\n",
       "      <td></td>\n",
       "    </tr>\n",
       "    <tr>\n",
       "      <th>2</th>\n",
       "      <td>Gabby Petito</td>\n",
       "      <td></td>\n",
       "    </tr>\n",
       "    <tr>\n",
       "      <th>3</th>\n",
       "      <td>Kyle Rittenhouse</td>\n",
       "      <td></td>\n",
       "    </tr>\n",
       "    <tr>\n",
       "      <th>4</th>\n",
       "      <td>Brian Laundrie</td>\n",
       "      <td></td>\n",
       "    </tr>\n",
       "    <tr>\n",
       "      <th>5</th>\n",
       "      <td>Mega Millions</td>\n",
       "      <td></td>\n",
       "    </tr>\n",
       "    <tr>\n",
       "      <th>6</th>\n",
       "      <td>AMC Stock</td>\n",
       "      <td></td>\n",
       "    </tr>\n",
       "    <tr>\n",
       "      <th>7</th>\n",
       "      <td>Stimulus Check</td>\n",
       "      <td></td>\n",
       "    </tr>\n",
       "    <tr>\n",
       "      <th>8</th>\n",
       "      <td>Georgia Senate Race</td>\n",
       "      <td></td>\n",
       "    </tr>\n",
       "    <tr>\n",
       "      <th>9</th>\n",
       "      <td>Squid Game</td>\n",
       "      <td></td>\n",
       "    </tr>\n",
       "  </tbody>\n",
       "</table>\n",
       "</div>"
      ],
      "text/plain": [
       "                 title exploreQuery\n",
       "0                  NBA             \n",
       "1                  DMX             \n",
       "2         Gabby Petito             \n",
       "3     Kyle Rittenhouse             \n",
       "4       Brian Laundrie             \n",
       "5        Mega Millions             \n",
       "6            AMC Stock             \n",
       "7       Stimulus Check             \n",
       "8  Georgia Senate Race             \n",
       "9           Squid Game             "
      ]
     },
     "execution_count": 13,
     "metadata": {},
     "output_type": "execute_result"
    }
   ],
   "source": [
    "# get top charts results. Note that date must be provided in the following format: 'YYYY' or 'YYYYMM'\n",
    "pytrends.top_charts(date='2021', hl='en-US', tz=360, geo='US')"
   ]
  },
  {
   "cell_type": "code",
   "execution_count": 14,
   "id": "2f4034c9",
   "metadata": {},
   "outputs": [
    {
     "name": "stdout",
     "output_type": "stream",
     "text": [
      "Requirement already satisfied: requests in c:\\programdata\\anaconda3\\lib\\site-packages (2.25.1)\n",
      "Requirement already satisfied: certifi>=2017.4.17 in c:\\programdata\\anaconda3\\lib\\site-packages (from requests) (2020.12.5)\n",
      "Requirement already satisfied: idna<3,>=2.5 in c:\\programdata\\anaconda3\\lib\\site-packages (from requests) (2.10)\n",
      "Requirement already satisfied: urllib3<1.27,>=1.21.1 in c:\\programdata\\anaconda3\\lib\\site-packages (from requests) (1.26.4)\n",
      "Requirement already satisfied: chardet<5,>=3.0.2 in c:\\programdata\\anaconda3\\lib\\site-packages (from requests) (4.0.0)\n",
      "Requirement already satisfied: beautifulsoup4 in c:\\programdata\\anaconda3\\lib\\site-packages (4.9.3)\n",
      "Requirement already satisfied: soupsieve>1.2 in c:\\programdata\\anaconda3\\lib\\site-packages (from beautifulsoup4) (2.2.1)\n"
     ]
    }
   ],
   "source": [
    "# PART B - Scrapping Data from wikipedia \n",
    "!pip install requests\n",
    "!pip install beautifulsoup4\n"
   ]
  },
  {
   "cell_type": "code",
   "execution_count": 15,
   "id": "1a2b8d99",
   "metadata": {},
   "outputs": [],
   "source": [
    "import requests\n",
    "from bs4 import BeautifulSoup\n",
    "import random\n",
    "import re\n",
    "\n",
    "TAG_RE = re.compile(r'<[^>]+>')\n",
    "def remove_tags(text):\n",
    "    return TAG_RE.sub('', text)\n",
    "def scrapeWikiArticle(url):\n",
    "    response = requests.get(url=url)\n",
    "    soup = BeautifulSoup(response.content, 'html.parser')\n",
    "    list(soup.children)\n",
    "    \n",
    "    value = remove_tags(' '.join([str(elem) for elem in soup.find_all('p')]))\n",
    "    return value\n",
    "\n",
    "scrapdata=scrapeWikiArticle(\"https://en.wikipedia.org/wiki/Web_scraping\")"
   ]
  },
  {
   "cell_type": "code",
   "execution_count": 16,
   "id": "ba0db572",
   "metadata": {},
   "outputs": [
    {
     "name": "stdout",
     "output_type": "stream",
     "text": [
      "<class 'str'>\n"
     ]
    },
    {
     "name": "stderr",
     "output_type": "stream",
     "text": [
      "[nltk_data] Downloading package punkt to\n",
      "[nltk_data]     C:\\Users\\RishabhS\\AppData\\Roaming\\nltk_data...\n",
      "[nltk_data]   Package punkt is already up-to-date!\n",
      "[nltk_data] Downloading package stopwords to\n",
      "[nltk_data]     C:\\Users\\RishabhS\\AppData\\Roaming\\nltk_data...\n",
      "[nltk_data]   Package stopwords is already up-to-date!\n"
     ]
    },
    {
     "data": {
      "text/plain": [
       "True"
      ]
     },
     "execution_count": 16,
     "metadata": {},
     "output_type": "execute_result"
    }
   ],
   "source": [
    "# Input text - to summarize \n",
    "DOCUMENT = str(scrapdata)\n",
    "print(type(DOCUMENT))\n",
    "import nltk\n",
    "nltk.download('punkt')\n",
    "nltk.download('stopwords')"
   ]
  },
  {
   "cell_type": "code",
   "execution_count": 17,
   "id": "3bb157c7",
   "metadata": {},
   "outputs": [],
   "source": [
    "import re\n",
    "\n",
    "DOCUMENT = re.sub(r'\\n|\\r', ' ', DOCUMENT)\n",
    "DOCUMENT = re.sub(r' +', ' ', DOCUMENT)\n",
    "DOCUMENT = DOCUMENT.strip()"
   ]
  },
  {
   "cell_type": "code",
   "execution_count": 24,
   "id": "58cd3191",
   "metadata": {},
   "outputs": [
    {
     "name": "stdout",
     "output_type": "stream",
     "text": [
      "Percent summary\n",
      "Amitabh Bachchan (pronounced [mtb btn]; born Amitabh Srivastava; 11 October 1942) is an Indian actor, film producer, television host, occasional playback singer and former politician known for his work in Hindi cinema.\n",
      "Referred to as the Shahenshah of Bollywood (in reference to his 1988 film Shahenshah), Sadi ka Mahanayak (Hindi for, \"Greatest actor of the century\"), Star of the Millennium, or Big B, he has since appeared in over 200 Indian films in a career spanning more than five decades, and has won numerous accolades in his career, including four National Film Awards as Best Actor, Dadasaheb Phalke Award as lifetime achievement award and many awards at international film festivals and award ceremonies.\n",
      "Salim Khan introduced Bachchan to Prakash Mehra, and Salim-Javed insisted that Bachchan be cast for the role.Zanjeer was a crime film with violent action, in sharp contrast to the romantically themed films that had generally preceded it, and it established Amitabh in a new personathe \"angry young man\" of Bollywood cinema.\n",
      "The film was a huge success and one of the highest-grossing films of that year, breaking Bachchan's dry spell at the box office and making him a star.\n",
      "This led to Bachchan being dubbed as the \"angry young man\", a journalistic catchphrase which became a metaphor for the dormant rage, frustration, restlessness, sense of rebellion and anti-establishment disposition of an entire generation, prevalent in 1970s India.The year 1973 was also when he married Jaya, and around this time they appeared in several films together: not only Zanjeer but also subsequent films such as Abhimaan, which was released only a month after their marriage and was also successful at the box office.\n",
      "His supporting role won him his second Filmfare Award for Best Supporting Actor.In 1974, Bachchan made several guest appearances in films such as Kunwara Baap and Dost, before playing a supporting role in Roti Kapda Aur Makaan.\n",
      "The other, released on 15 August 1975, was Sholay, which became the highest-grossing film ever in India at the time, in which Bachchan played the role of Jaidev.\n",
      "Bachchan was again nominated for the Filmfare Best Actor Award for his role in the film.\n",
      "In 1977, he won his first Filmfare Best Actor Award for his performance in Amar Akbar Anthony, in which he played the third lead opposite Vinod Khanna and Rishi Kapoor as Anthony Gonsalves.\n",
      "Other successful films of this period include Shaan (1980), Ram Balram (1980), Naseeb (1981), Lawaaris (1981), Kaalia (1981), Yaarana (1981), Barsaat Ki Ek Raat (1981) and Shakti (1982), also starring Dilip Kumar.In 1982, he played double roles in the musical Satte Pe Satta and action drama Desh Premee which succeeded at the box office along with mega hits like action comedy Namak Halaal, action drama Khud-Daar and the critically acclaimed drama Bemisal.\n",
      "Bachchan had played a role in a special appearance for the movie Kaun Jeeta Kaun Haara in the year 1987 and he sang a playback song with Kishore Kumar in this movie.On 26 July 1982, while filming a fight scene with co-actor Puneet Issar for Coolie, Bachchan had near-fatal intestinal injury.\n",
      "After a three-year stint in politics from 1984 to 1987, Bachchan returned to films in 1988, playing the title role in Shahenshah, which was a box office success.\n",
      "He gained success during this period with the crime drama Aaj Ka Arjun (1990) and action crime drama Hum (1991), for which he won his third Filmfare Best Actor Award, but this momentum was short-lived and his string of box office failures continued.\n",
      "Bachchan was slated to play a supporting role in his first international film, Shantaram, directed by Mira Nair and starring Hollywood actor Johnny Depp in the lead.\n",
      "Apart from industry awards won for his performances throughout the years, Bachchan has received several honours for his achievements in the Indian film industry.\n",
      "Word count summary\n",
      "Amitabh Bachchan (pronounced [mtb btn]; born Amitabh Srivastava; 11 October 1942) is an Indian actor, film producer, television host, occasional playback singer and former politician known for his work in Hindi cinema.\n",
      "This led to Bachchan being dubbed as the \"angry young man\", a journalistic catchphrase which became a metaphor for the dormant rage, frustration, restlessness, sense of rebellion and anti-establishment disposition of an entire generation, prevalent in 1970s India.The year 1973 was also when he married Jaya, and around this time they appeared in several films together: not only Zanjeer but also subsequent films such as Abhimaan, which was released only a month after their marriage and was also successful at the box office.\n",
      "His supporting role won him his second Filmfare Award for Best Supporting Actor.In 1974, Bachchan made several guest appearances in films such as Kunwara Baap and Dost, before playing a supporting role in Roti Kapda Aur Makaan.\n",
      "After a three-year stint in politics from 1984 to 1987, Bachchan returned to films in 1988, playing the title role in Shahenshah, which was a box office success.\n",
      "Apart from industry awards won for his performances throughout the years, Bachchan has received several honours for his achievements in the Indian film industry.\n"
     ]
    }
   ],
   "source": [
    "# !pip install gensim==3.4.0 --user\n",
    "# !pip install wikipedia --user\n",
    "# !pip install https://github.com/explosion/spacy-models/releases/download/en_core_web_sm-2.2.0/en_core_web_sm-2.2.0.tar.gz --user\n",
    "# !pip install nltk --user\n",
    "\n",
    "# !pip install spacy==2.3.5 --user\n",
    "\n",
    "# !pip install https://github.com/explosion/spacy-models/releases/download/en_core_web_sm-2.3.1/en_core_web_sm-2.3.1.tar.gz --user\n",
    "import en_core_web_sm\n",
    "from gensim.summarization.summarizer import summarize\n",
    "from gensim.summarization import keywords\n",
    "import wikipedia\n",
    "import en_core_web_sm\n",
    " \n",
    "# Get wiki content.\n",
    "wikisearch = wikipedia.page(\"Amitabh Bachchan\")\n",
    "wikicontent = wikisearch.content.encode('utf-8').decode('ascii', 'ignore')\n",
    "nlp = en_core_web_sm.load()\n",
    "doc = nlp(wikicontent)\n",
    " \n",
    "# Save the wiki content to a file\n",
    "# (for reference).\n",
    "f = open(\"wikicontent.txt\", \"w\")\n",
    "f.write(wikicontent)\n",
    "f.close()\n",
    " \n",
    "# Summary (0.5% of the original content).\n",
    "summ_per = summarize(wikicontent, ratio = 0.05)\n",
    "print(\"Percent summary\")\n",
    "print(summ_per)\n",
    " \n",
    "# Summary (200 words)\n",
    "summ_words = summarize(wikicontent, word_count = 200)\n",
    "print(\"Word count summary\")\n",
    "print(summ_words)"
   ]
  },
  {
   "cell_type": "code",
   "execution_count": null,
   "id": "892c18cd",
   "metadata": {},
   "outputs": [],
   "source": [
    "GPT2_model = TransformerSummarizer(transformer_type=\"GPT2\",transformer_model_key=\"gpt2-medium\")\n",
    "full = ''.join(GPT2_model(body, min_length=250,max_length=260))\n",
    "print(full)"
   ]
  },
  {
   "cell_type": "code",
   "execution_count": null,
   "id": "609e9a11",
   "metadata": {},
   "outputs": [],
   "source": [
    "model = TransformerSummarizer(transformer_type=\"XLNet\",transformer_model_key=\"xlnet-base-cased\")\n",
    "full = ''.join(model(body, min_length=250,max_length=260))\n",
    "print(full)"
   ]
  },
  {
   "cell_type": "code",
   "execution_count": null,
   "id": "880ff706",
   "metadata": {},
   "outputs": [],
   "source": []
  }
 ],
 "metadata": {
  "kernelspec": {
   "display_name": "Python 3",
   "language": "python",
   "name": "python3"
  },
  "language_info": {
   "codemirror_mode": {
    "name": "ipython",
    "version": 3
   },
   "file_extension": ".py",
   "mimetype": "text/x-python",
   "name": "python",
   "nbconvert_exporter": "python",
   "pygments_lexer": "ipython3",
   "version": "3.8.8"
  }
 },
 "nbformat": 4,
 "nbformat_minor": 5
}
