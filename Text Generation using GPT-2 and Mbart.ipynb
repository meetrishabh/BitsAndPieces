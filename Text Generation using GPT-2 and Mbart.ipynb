{
 "cells": [
  {
   "cell_type": "code",
   "execution_count": 1,
   "id": "e9b293c8",
   "metadata": {},
   "outputs": [
    {
     "name": "stdout",
     "output_type": "stream",
     "text": [
      "Requirement already satisfied: transformers[sentencepiece] in c:\\users\\risha\\anaconda3\\lib\\site-packages (4.16.2)\n",
      "Requirement already satisfied: requests in c:\\users\\risha\\anaconda3\\lib\\site-packages (from transformers[sentencepiece]) (2.26.0)\n",
      "Requirement already satisfied: numpy>=1.17 in c:\\users\\risha\\anaconda3\\lib\\site-packages (from transformers[sentencepiece]) (1.20.3)\n",
      "Requirement already satisfied: sacremoses in c:\\users\\risha\\anaconda3\\lib\\site-packages (from transformers[sentencepiece]) (0.0.47)\n",
      "Requirement already satisfied: huggingface-hub<1.0,>=0.1.0 in c:\\users\\risha\\anaconda3\\lib\\site-packages (from transformers[sentencepiece]) (0.4.0)\n",
      "Requirement already satisfied: packaging>=20.0 in c:\\users\\risha\\anaconda3\\lib\\site-packages (from transformers[sentencepiece]) (21.0)\n",
      "Requirement already satisfied: tokenizers!=0.11.3,>=0.10.1 in c:\\users\\risha\\anaconda3\\lib\\site-packages (from transformers[sentencepiece]) (0.11.4)\n",
      "Requirement already satisfied: filelock in c:\\users\\risha\\appdata\\roaming\\python\\python39\\site-packages (from transformers[sentencepiece]) (3.0.12)\n",
      "Requirement already satisfied: tqdm>=4.27 in c:\\users\\risha\\anaconda3\\lib\\site-packages (from transformers[sentencepiece]) (4.62.3)\n",
      "Requirement already satisfied: pyyaml>=5.1 in c:\\users\\risha\\anaconda3\\lib\\site-packages (from transformers[sentencepiece]) (6.0)\n",
      "Requirement already satisfied: regex!=2019.12.17 in c:\\users\\risha\\anaconda3\\lib\\site-packages (from transformers[sentencepiece]) (2021.8.3)\n",
      "Requirement already satisfied: sentencepiece!=0.1.92,>=0.1.91 in c:\\users\\risha\\anaconda3\\lib\\site-packages (from transformers[sentencepiece]) (0.1.96)\n",
      "Requirement already satisfied: protobuf in c:\\users\\risha\\anaconda3\\lib\\site-packages (from transformers[sentencepiece]) (3.19.1)\n",
      "Requirement already satisfied: typing-extensions>=3.7.4.3 in c:\\users\\risha\\anaconda3\\lib\\site-packages (from huggingface-hub<1.0,>=0.1.0->transformers[sentencepiece]) (3.10.0.2)\n",
      "Requirement already satisfied: pyparsing>=2.0.2 in c:\\users\\risha\\anaconda3\\lib\\site-packages (from packaging>=20.0->transformers[sentencepiece]) (3.0.4)\n",
      "Requirement already satisfied: colorama in c:\\users\\risha\\anaconda3\\lib\\site-packages (from tqdm>=4.27->transformers[sentencepiece]) (0.4.4)\n",
      "Requirement already satisfied: idna<4,>=2.5 in c:\\users\\risha\\anaconda3\\lib\\site-packages (from requests->transformers[sentencepiece]) (3.2)\n",
      "Requirement already satisfied: certifi>=2017.4.17 in c:\\users\\risha\\anaconda3\\lib\\site-packages (from requests->transformers[sentencepiece]) (2021.10.8)\n",
      "Requirement already satisfied: urllib3<1.27,>=1.21.1 in c:\\users\\risha\\anaconda3\\lib\\site-packages (from requests->transformers[sentencepiece]) (1.26.7)\n",
      "Requirement already satisfied: charset-normalizer~=2.0.0 in c:\\users\\risha\\anaconda3\\lib\\site-packages (from requests->transformers[sentencepiece]) (2.0.4)\n",
      "Requirement already satisfied: six in c:\\users\\risha\\anaconda3\\lib\\site-packages (from sacremoses->transformers[sentencepiece]) (1.16.0)\n",
      "Requirement already satisfied: click in c:\\users\\risha\\anaconda3\\lib\\site-packages (from sacremoses->transformers[sentencepiece]) (8.0.3)\n",
      "Requirement already satisfied: joblib in c:\\users\\risha\\anaconda3\\lib\\site-packages (from sacremoses->transformers[sentencepiece]) (1.1.0)\n"
     ]
    }
   ],
   "source": [
    "!pip install transformers[sentencepiece]"
   ]
  },
  {
   "cell_type": "code",
   "execution_count": 2,
   "id": "5c8c41f8",
   "metadata": {},
   "outputs": [],
   "source": [
    "from transformers import GPT2LMHeadModel, GPT2Tokenizer"
   ]
  },
  {
   "cell_type": "code",
   "execution_count": 3,
   "id": "683d2f99",
   "metadata": {},
   "outputs": [],
   "source": [
    "import torch"
   ]
  },
  {
   "cell_type": "code",
   "execution_count": 4,
   "id": "df05ea54",
   "metadata": {},
   "outputs": [],
   "source": [
    "tokenizer = GPT2Tokenizer.from_pretrained(\"gpt2-large\")\n",
    "\n",
    "\n",
    "model = GPT2LMHeadModel.from_pretrained(\"gpt2-large\", pad_token_id=tokenizer.eos_token_id)"
   ]
  },
  {
   "cell_type": "code",
   "execution_count": 5,
   "id": "bc92cfe6",
   "metadata": {},
   "outputs": [],
   "source": [
    "topic = 'Benefits of Sleeping Early'"
   ]
  },
  {
   "cell_type": "code",
   "execution_count": 6,
   "id": "b8584929",
   "metadata": {},
   "outputs": [],
   "source": [
    "input_ids = tokenizer.encode(topic, return_tensors='pt')\n"
   ]
  },
  {
   "cell_type": "code",
   "execution_count": 7,
   "id": "bc8ccd17",
   "metadata": {},
   "outputs": [],
   "source": [
    "# Generate Blog\n",
    "#max_lenth-Number of Words in the Article\n",
    "#num_beams-Number of different combination of words that can be chained together\n",
    "#no_repeat_ngram_size-No of words that be combined together and repeated, example: ['benefits of sleeping' can be repeated 2 times but not more ]\n",
    "\n",
    "\n",
    "output = model.generate(input_ids, max_length=200, num_beams=30, \n",
    "\n",
    "no_repeat_ngram_size=4, early_stopping=True)"
   ]
  },
  {
   "cell_type": "code",
   "execution_count": 8,
   "id": "4f3c9a50",
   "metadata": {},
   "outputs": [
    {
     "name": "stdout",
     "output_type": "stream",
     "text": [
      "Benefits of Sleeping Early in the Morning\n",
      "\n",
      "Sleeping early in the morning is one of the most important things you can do to improve your health and well-being. Here are some of the benefits of getting up earlier in the morning:\n",
      "\n",
      "Improves Sleep Quality\n",
      "\n",
      "A study published in the Journal of the American Medical Association (JAMA) found that people who get an early start in the morning are more likely to get a good night's sleep than those who get up later in the morning.\n",
      "\n",
      "According to the study, people who get up at 6:30 a.m. are less likely to wake up in the middle of the night than those who don't get up at all.\n",
      "\n",
      "People who get up early are also less likely to suffer from sleep apnea, a sleep disorder that makes it difficult for people to fall asleep.\n",
      "\n",
      "Reduces the Risk of Heart Disease\n",
      "\n",
      "One of the most common causes of death in the United States is\n"
     ]
    }
   ],
   "source": [
    "print(tokenizer.decode(output[0], skip_special_tokens=True))\n"
   ]
  },
  {
   "cell_type": "code",
   "execution_count": 9,
   "id": "07ac2396",
   "metadata": {},
   "outputs": [],
   "source": [
    "article_en = tokenizer.decode(output[0], skip_special_tokens=True)"
   ]
  },
  {
   "cell_type": "code",
   "execution_count": 10,
   "id": "8e02fb59",
   "metadata": {},
   "outputs": [],
   "source": [
    "#import MBart model and tokenizer\n",
    "from transformers import MBartForConditionalGeneration, MBart50TokenizerFast\n",
    "\n",
    "\n",
    "model = MBartForConditionalGeneration.from_pretrained(\"facebook/mbart-large-50-one-to-many-mmt\")\n",
    "\n",
    "\n",
    "tokenizer = MBart50TokenizerFast.from_pretrained(\"facebook/mbart-large-50-one-to-many-mmt\", src_lang=\"en_XX\")"
   ]
  },
  {
   "cell_type": "code",
   "execution_count": 11,
   "id": "978675b8",
   "metadata": {},
   "outputs": [],
   "source": [
    "model_inputs = tokenizer(article_en, return_tensors=\"pt\")"
   ]
  },
  {
   "cell_type": "code",
   "execution_count": 12,
   "id": "6fc67a61",
   "metadata": {},
   "outputs": [],
   "source": [
    "# translate from English to Polish\n",
    "generated_tokens = model.generate(\n",
    "    **model_inputs,\n",
    "    forced_bos_token_id=tokenizer.lang_code_to_id[\"pl_PL\"]\n",
    ")"
   ]
  },
  {
   "cell_type": "code",
   "execution_count": 13,
   "id": "c57d638d",
   "metadata": {},
   "outputs": [
    {
     "data": {
      "text/plain": [
       "['Korzyści spania wczesnym rankiem Śniadanie wczesnym rankiem jest jedną z najważniejszych rzeczy, które można zrobić, aby poprawić swoje zdrowie i samopoczucie. Oto niektóre z korzyści wstawania wcześniej rano: Poprawia jakość snu Badanie opublikowane w Journal of the American Medical Association (JAMA) stwierdziło, że ludzie, którzy dostają się wczesnym rankiem są bardziej prawdopodobne, aby uzyskać dobry sen nocy niż ci, którzy wstają później rano. Według badania, ludzie, którzy wstają o 6:30 rano są mniej prawdopodobne, aby obudzić się w środku nocy niż ci, którzy nie wstają w ogóle.']"
      ]
     },
     "execution_count": 13,
     "metadata": {},
     "output_type": "execute_result"
    }
   ],
   "source": [
    "translation = tokenizer.batch_decode(generated_tokens, skip_special_tokens=True)\n",
    "\n",
    "\n",
    "translation"
   ]
  },
  {
   "cell_type": "code",
   "execution_count": 14,
   "id": "d5a83f0a",
   "metadata": {},
   "outputs": [],
   "source": [
    "# translate from English to Hindi\n",
    "generated_tokens = model.generate(\n",
    "    **model_inputs,\n",
    "    forced_bos_token_id=tokenizer.lang_code_to_id[\"hi_IN\"]\n",
    ") "
   ]
  },
  {
   "cell_type": "code",
   "execution_count": 15,
   "id": "056e7681",
   "metadata": {},
   "outputs": [
    {
     "data": {
      "text/plain": [
       "['सुबह जल्दी सोने के लाभ सुबह जल्दी सोने अपने स्वास्थ्य और कुशलता में सुधार लाने के लिए सबसे महत्वपूर्ण चीजों में से एक है। यहां सुबह जल्दी उठने के कुछ लाभ हैंः नींद की गुणवत्ता में सुधार एक अध्ययन जो अमेरिका मेडिकल एसोसिएशन (JAMA) के जर्नल में प्रकाशित किया गया है कि जो लोग सुबह जल्दी उठते हैं वे उन लोगों से अधिक संभावित होते हैं जो सुबह के बाद उठते हैं। अध्ययन के अनुसार, जो लोग सुबह 6:30 बजे उठते हैं वे उन लोगों से कम संभावित होते हैं जो रात के मध्य में उठते हैं जो कुछ भी नहीं उठते। जो लोग सुबह जल्दी उठते हैं वे भी कम संभावित होते हैं कि नींद के अश्वसन से पीड़ित हों, एक नींद की विकार जिससे लोगों को सोना कठिन हो जाता है।']"
      ]
     },
     "execution_count": 15,
     "metadata": {},
     "output_type": "execute_result"
    }
   ],
   "source": [
    "translation = tokenizer.batch_decode(generated_tokens, skip_special_tokens=True)\n",
    "\n",
    "\n",
    "translation"
   ]
  },
  {
   "cell_type": "code",
   "execution_count": null,
   "id": "a2a000a1",
   "metadata": {},
   "outputs": [],
   "source": []
  }
 ],
 "metadata": {
  "kernelspec": {
   "display_name": "Python 3 (ipykernel)",
   "language": "python",
   "name": "python3"
  },
  "language_info": {
   "codemirror_mode": {
    "name": "ipython",
    "version": 3
   },
   "file_extension": ".py",
   "mimetype": "text/x-python",
   "name": "python",
   "nbconvert_exporter": "python",
   "pygments_lexer": "ipython3",
   "version": "3.9.7"
  }
 },
 "nbformat": 4,
 "nbformat_minor": 5
}
