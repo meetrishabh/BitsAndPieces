{
 "cells": [
  {
   "cell_type": "markdown",
   "id": "2a196c6f",
   "metadata": {},
   "source": [
    "# Stock Sentiment Analysis and Summarization via Web scrapping \n",
    "**CHECK OUT**<br>\n",
    "<a href=\"https://github.com/ArshidSri/Sentiment_Analysis_Summarization_webscrapping\"> source_code_github </a>(Jupyter Notebook and Python file)<br>\n",
    "<a href=\"https://jovian.ai/arshidsriraam7/sentiment-analysis-finviz\"> source_code_jovian </a>(Jupyter Notebook)"
   ]
  },
  {
   "cell_type": "markdown",
   "id": "f24c5f30",
   "metadata": {},
   "source": [
    "### Inspiration for the project:\n",
    "Stock Market is a huge gamble for some because they are not informed with proper data to make the right decisions. People take a lot of time in deciding which Cafe they would walk into but not spend enough time on the stock they invest. It is because people have less time but this is when AI comes to the rescue. Abstractive summarization and webscrapping seems to aid us more to gather the required information to make the right decisions.\n",
    "<br>\n",
    "Big thumbs up to <a href=\"https://www.jovian.ai\">Jovian</a> team for introducing the concept of sentiment analysis in their free course assignments which paved the way for the current pipelines of the project. \n",
    "<br>\n",
    "Thanks to <a href=\"https://github.com/nicknochnack/Stock-and-Crypto-News-ScrapingSummarizationSentiment\">Nicholas Reonette</a> for his work on NLP code which is highly customizable for any NLP project which is the base for the pipeline 2 of my project."
   ]
  },
  {
   "cell_type": "markdown",
   "id": "e26dfcfc",
   "metadata": {},
   "source": [
    "##### Structure of the project:\n",
    "1. Install and Import Dependencies\n",
    "2. Summarization models\n",
    "- Type1: Summarization Model ------------>(Basic newspaper3k)\n",
    "- Type2 Summarization Model ------------>(Financial Summarization Pegasus model)\n",
    "3. News and Sentiment Pipeline 1: Finiviz website\n",
    "- 3a_1 Web Scrapping from finviz website using the ticker (Output: CSV file)\n",
    "- 3a_2 Web Scrapping from finviz website using the ticker_list (Output: CSV file)  \n",
    "- 3a_3  View the stock as a Data_frame and perform sentiment analysis\n",
    "- 3a_4 Cleaning the data in the data frame\n",
    "- 3a_5 Sentiment Analysis\n",
    "- 3a_6 Scraping Articles\n",
    "4. News and Sentiment Pipeline 2: Stock News from Google & any Stock NEWS  website \n",
    "- 4a_1 Search for Stock News using Google and Yahoo Finance and strip out unwanted URLs\n",
    "- 4a_2 Searching and Webscrapping final URLs\n",
    "- 4a_3 Summarizing\n",
    "- 4a_4 Adding Sentiment Analysis (Using transformers)\n",
    "- 4a_5 Export to CSV "
   ]
  },
  {
   "cell_type": "markdown",
   "id": "b743bf95",
   "metadata": {},
   "source": [
    "##### Module references:\n",
    "1. Webscraping modules:\n",
    "- <a href=\"https://pypi.org/project/requests/\">Requests Module</a>:\n",
    "The request module is a boon for webscrappers. It helps developers to return back the HTML code of the target webpage.\n",
    "- <a href=\"https://pypi.org/project/beautifulsoup4/\">Beautiful soup</a>:\n",
    "If you are a web developer you will parreciate BeautifulSoup for it will breakdown the complex HTML page to readable and scrappable soup object.(bs4.BeautifulSoup)\n",
    "2. Standard modules:\n",
    "- <a href =\"https://pandas.pydata.org/docs/getting_started/install.html\">Pandas module</a>:\n",
    "It is well know tool in a data developers tool kit to handle large volumes of data and to gain inference or search information via corelation, grouping, sorting and extended data analysis.\n",
    "- <a href=\"https://numpy.org/install/\">Numpy module</a>:\n",
    "In simple words it makes mathematical operations on data a piece of cake.Application of matrices and array calculation form the heart of this modules. Pandas is built on it as well.\n",
    "- <a href=\"https://pypi.org/project/matplotlib/\">Matplotlib</a>:\n",
    "Ofcourse people want to see cool visuals and also visuals convey a lot better than texts on the screen. Dont worry matplotlib has got your back.\n",
    "3. Sentiment analyser modules:\n",
    "- <a href = \"https://www.nltk.org/\">NLTK</a>:\n",
    "Thanks to Jovian team for introducing me to the concept of sentiment analysis. It is basically processing text data and infer emotions from them. When it comes to Natural Language Processing NLTK and Hugging face transformers sought of have an edge in the present market.\n",
    "- <a href='https://textblob.readthedocs.io/en/dev/'>Textblob</a>:\n",
    "A light weight sentiment analyser used in the first pipeline of my project.\n",
    "- <a href=\"https://huggingface.co/transformers/\">Transformers</a>:\n",
    "A sentiment analyzer in transformer's arsenal.\n",
    "4. Article summarization:\n",
    "- <a href=\"https://newspaper.readthedocs.io/en/latest/Newspaper3k\">Newspaper3k</a>:\n",
    "It is a light abstractive summarization python library that helps you to summarize the given text.\n",
    "- <a href=\"https://huggingface.co/human-centered-summarization/financial-summarization-pegasus\">financial-summarization-pegasus</a>:\n",
    "A deep learning arsenal basically meant for NLP projects. In this project we will be using pegaus financial summarization."
   ]
  },
  {
   "cell_type": "markdown",
   "id": "a55fb247",
   "metadata": {},
   "source": [
    "# 1. Install and Import Dependencies"
   ]
  },
  {
   "cell_type": "code",
   "execution_count": 1,
   "id": "558fbd07",
   "metadata": {},
   "outputs": [
    {
     "name": "stdout",
     "output_type": "stream",
     "text": [
      "Requirement already satisfied: requests in c:\\users\\rishabhs\\appdata\\roaming\\python\\python38\\site-packages (2.28.1)\n",
      "Requirement already satisfied: urllib3<1.27,>=1.21.1 in c:\\programdata\\anaconda3\\lib\\site-packages (from requests) (1.26.4)\n",
      "Requirement already satisfied: charset-normalizer<3,>=2 in c:\\programdata\\anaconda3\\lib\\site-packages (from requests) (2.1.0)\n",
      "Requirement already satisfied: idna<4,>=2.5 in c:\\programdata\\anaconda3\\lib\\site-packages (from requests) (2.10)\n",
      "Requirement already satisfied: certifi>=2017.4.17 in c:\\programdata\\anaconda3\\lib\\site-packages (from requests) (2020.12.5)\n"
     ]
    }
   ],
   "source": [
    "# Requests Module\n",
    "!pip install requests --user"
   ]
  },
  {
   "cell_type": "code",
   "execution_count": 2,
   "id": "ee230237",
   "metadata": {},
   "outputs": [
    {
     "name": "stdout",
     "output_type": "stream",
     "text": [
      "Requirement already satisfied: beautifulsoup4 in c:\\programdata\\anaconda3\\lib\\site-packages (4.9.3)\n",
      "Requirement already satisfied: soupsieve>1.2 in c:\\programdata\\anaconda3\\lib\\site-packages (from beautifulsoup4) (2.2.1)\n"
     ]
    }
   ],
   "source": [
    "# Parse and read html\n",
    "!pip install beautifulsoup4 --user"
   ]
  },
  {
   "cell_type": "code",
   "execution_count": 3,
   "id": "9b002181",
   "metadata": {},
   "outputs": [
    {
     "name": "stdout",
     "output_type": "stream",
     "text": [
      "Requirement already satisfied: pandas in c:\\programdata\\anaconda3\\lib\\site-packages (1.2.4)\n",
      "Requirement already satisfied: numpy>=1.16.5 in c:\\programdata\\anaconda3\\lib\\site-packages (from pandas) (1.20.1)\n",
      "Requirement already satisfied: pytz>=2017.3 in c:\\programdata\\anaconda3\\lib\\site-packages (from pandas) (2021.1)\n",
      "Requirement already satisfied: python-dateutil>=2.7.3 in c:\\programdata\\anaconda3\\lib\\site-packages (from pandas) (2.8.1)\n",
      "Requirement already satisfied: six>=1.5 in c:\\programdata\\anaconda3\\lib\\site-packages (from python-dateutil>=2.7.3->pandas) (1.15.0)\n",
      "Requirement already satisfied: numpy in c:\\programdata\\anaconda3\\lib\\site-packages (1.20.1)\n",
      "Requirement already satisfied: matplotlib in c:\\programdata\\anaconda3\\lib\\site-packages (3.3.4)\n",
      "Requirement already satisfied: pyparsing!=2.0.4,!=2.1.2,!=2.1.6,>=2.0.3 in c:\\programdata\\anaconda3\\lib\\site-packages (from matplotlib) (2.4.7)\n",
      "Requirement already satisfied: pillow>=6.2.0 in c:\\programdata\\anaconda3\\lib\\site-packages (from matplotlib) (8.2.0)\n",
      "Requirement already satisfied: numpy>=1.15 in c:\\programdata\\anaconda3\\lib\\site-packages (from matplotlib) (1.20.1)\n",
      "Requirement already satisfied: cycler>=0.10 in c:\\programdata\\anaconda3\\lib\\site-packages (from matplotlib) (0.10.0)\n",
      "Requirement already satisfied: kiwisolver>=1.0.1 in c:\\programdata\\anaconda3\\lib\\site-packages (from matplotlib) (1.3.1)\n",
      "Requirement already satisfied: python-dateutil>=2.1 in c:\\programdata\\anaconda3\\lib\\site-packages (from matplotlib) (2.8.1)\n",
      "Requirement already satisfied: six in c:\\programdata\\anaconda3\\lib\\site-packages (from cycler>=0.10->matplotlib) (1.15.0)\n"
     ]
    }
   ],
   "source": [
    "# handling and Manipulating Tabular Data\n",
    "!pip install pandas --user\n",
    "# Numerical operations\n",
    "!pip install numpy\n",
    "# visualizer\n",
    "!pip install matplotlib"
   ]
  },
  {
   "cell_type": "code",
   "execution_count": 4,
   "id": "cdd18047",
   "metadata": {},
   "outputs": [
    {
     "name": "stdout",
     "output_type": "stream",
     "text": [
      "Requirement already satisfied: textblob in c:\\programdata\\anaconda3\\lib\\site-packages (0.17.1)\n",
      "Requirement already satisfied: nltk>=3.1 in c:\\programdata\\anaconda3\\lib\\site-packages (from textblob) (3.6.1)\n",
      "Requirement already satisfied: click in c:\\programdata\\anaconda3\\lib\\site-packages (from nltk>=3.1->textblob) (7.1.2)\n",
      "Requirement already satisfied: tqdm in c:\\programdata\\anaconda3\\lib\\site-packages (from nltk>=3.1->textblob) (4.59.0)\n",
      "Requirement already satisfied: joblib in c:\\programdata\\anaconda3\\lib\\site-packages (from nltk>=3.1->textblob) (1.0.1)\n",
      "Requirement already satisfied: regex in c:\\programdata\\anaconda3\\lib\\site-packages (from nltk>=3.1->textblob) (2021.4.4)\n"
     ]
    }
   ],
   "source": [
    "# Sentiment analyzer\n",
    "!pip install -U textblob --user"
   ]
  },
  {
   "cell_type": "code",
   "execution_count": 5,
   "id": "d01bcf20",
   "metadata": {},
   "outputs": [
    {
     "name": "stdout",
     "output_type": "stream",
     "text": [
      "Requirement already satisfied: nltk in c:\\programdata\\anaconda3\\lib\\site-packages (3.6.1)\n",
      "Requirement already satisfied: tqdm in c:\\programdata\\anaconda3\\lib\\site-packages (from nltk) (4.59.0)\n",
      "Requirement already satisfied: joblib in c:\\programdata\\anaconda3\\lib\\site-packages (from nltk) (1.0.1)\n",
      "Requirement already satisfied: click in c:\\programdata\\anaconda3\\lib\\site-packages (from nltk) (7.1.2)\n",
      "Requirement already satisfied: regex in c:\\programdata\\anaconda3\\lib\\site-packages (from nltk) (2021.4.4)\n"
     ]
    }
   ],
   "source": [
    "# NLTK Module\n",
    "# Using natural language tool kit to import stop words\n",
    "# Sentiment analyzer\n",
    "!pip install nltk --user"
   ]
  },
  {
   "cell_type": "code",
   "execution_count": 6,
   "id": "0d1b0816",
   "metadata": {},
   "outputs": [
    {
     "name": "stderr",
     "output_type": "stream",
     "text": [
      "[nltk_data] Downloading package vader_lexicon to\n",
      "[nltk_data]     C:\\Users\\RishabhS\\AppData\\Roaming\\nltk_data...\n",
      "[nltk_data]   Package vader_lexicon is already up-to-date!\n",
      "[nltk_data] Downloading package stopwords to\n",
      "[nltk_data]     C:\\Users\\RishabhS\\AppData\\Roaming\\nltk_data...\n",
      "[nltk_data]   Package stopwords is already up-to-date!\n",
      "[nltk_data] Downloading package wordnet to\n",
      "[nltk_data]     C:\\Users\\RishabhS\\AppData\\Roaming\\nltk_data...\n",
      "[nltk_data]   Package wordnet is already up-to-date!\n",
      "[nltk_data] Downloading package punkt to\n",
      "[nltk_data]     C:\\Users\\RishabhS\\AppData\\Roaming\\nltk_data...\n",
      "[nltk_data]   Package punkt is already up-to-date!\n"
     ]
    },
    {
     "data": {
      "text/plain": [
       "True"
      ]
     },
     "execution_count": 6,
     "metadata": {},
     "output_type": "execute_result"
    }
   ],
   "source": [
    "import nltk \n",
    "\n",
    "# nltk downloads for the Project\n",
    "nltk.download('vader_lexicon')\n",
    "nltk.download('stopwords')\n",
    "nltk.download('wordnet')\n",
    "nltk.download('punkt')\n"
   ]
  },
  {
   "cell_type": "code",
   "execution_count": 7,
   "id": "181446ae",
   "metadata": {},
   "outputs": [
    {
     "name": "stdout",
     "output_type": "stream",
     "text": [
      "Requirement already satisfied: newspaper3k in c:\\users\\rishabhs\\appdata\\roaming\\python\\python38\\site-packages (0.2.8)\n",
      "Requirement already satisfied: beautifulsoup4>=4.4.1 in c:\\programdata\\anaconda3\\lib\\site-packages (from newspaper3k) (4.9.3)\n",
      "Requirement already satisfied: tldextract>=2.0.1 in c:\\users\\rishabhs\\appdata\\roaming\\python\\python38\\site-packages (from newspaper3k) (3.3.0)\n",
      "Requirement already satisfied: lxml>=3.6.0 in c:\\programdata\\anaconda3\\lib\\site-packages (from newspaper3k) (4.6.3)\n",
      "Requirement already satisfied: feedfinder2>=0.0.4 in c:\\users\\rishabhs\\appdata\\roaming\\python\\python38\\site-packages (from newspaper3k) (0.0.4)\n",
      "Requirement already satisfied: python-dateutil>=2.5.3 in c:\\programdata\\anaconda3\\lib\\site-packages (from newspaper3k) (2.8.1)\n",
      "Requirement already satisfied: cssselect>=0.9.2 in c:\\users\\rishabhs\\appdata\\roaming\\python\\python38\\site-packages (from newspaper3k) (1.1.0)\n",
      "Requirement already satisfied: Pillow>=3.3.0 in c:\\programdata\\anaconda3\\lib\\site-packages (from newspaper3k) (8.2.0)\n",
      "Requirement already satisfied: nltk>=3.2.1 in c:\\programdata\\anaconda3\\lib\\site-packages (from newspaper3k) (3.6.1)\n",
      "Requirement already satisfied: requests>=2.10.0 in c:\\users\\rishabhs\\appdata\\roaming\\python\\python38\\site-packages (from newspaper3k) (2.28.1)\n",
      "Requirement already satisfied: jieba3k>=0.35.1 in c:\\users\\rishabhs\\appdata\\roaming\\python\\python38\\site-packages (from newspaper3k) (0.35.1)\n",
      "Requirement already satisfied: tinysegmenter==0.3 in c:\\users\\rishabhs\\appdata\\roaming\\python\\python38\\site-packages (from newspaper3k) (0.3)\n",
      "Requirement already satisfied: PyYAML>=3.11 in c:\\programdata\\anaconda3\\lib\\site-packages (from newspaper3k) (5.4.1)\n",
      "Requirement already satisfied: feedparser>=5.2.1 in c:\\users\\rishabhs\\appdata\\roaming\\python\\python38\\site-packages (from newspaper3k) (6.0.10)\n",
      "Requirement already satisfied: soupsieve>1.2 in c:\\programdata\\anaconda3\\lib\\site-packages (from beautifulsoup4>=4.4.1->newspaper3k) (2.2.1)\n",
      "Requirement already satisfied: six in c:\\programdata\\anaconda3\\lib\\site-packages (from feedfinder2>=0.0.4->newspaper3k) (1.15.0)\n",
      "Requirement already satisfied: sgmllib3k in c:\\users\\rishabhs\\appdata\\roaming\\python\\python38\\site-packages (from feedparser>=5.2.1->newspaper3k) (1.0.0)\n",
      "Requirement already satisfied: click in c:\\programdata\\anaconda3\\lib\\site-packages (from nltk>=3.2.1->newspaper3k) (7.1.2)\n",
      "Requirement already satisfied: tqdm in c:\\programdata\\anaconda3\\lib\\site-packages (from nltk>=3.2.1->newspaper3k) (4.59.0)\n",
      "Requirement already satisfied: regex in c:\\programdata\\anaconda3\\lib\\site-packages (from nltk>=3.2.1->newspaper3k) (2021.4.4)\n",
      "Requirement already satisfied: joblib in c:\\programdata\\anaconda3\\lib\\site-packages (from nltk>=3.2.1->newspaper3k) (1.0.1)\n",
      "Requirement already satisfied: charset-normalizer<3,>=2 in c:\\programdata\\anaconda3\\lib\\site-packages (from requests>=2.10.0->newspaper3k) (2.1.0)\n",
      "Requirement already satisfied: certifi>=2017.4.17 in c:\\programdata\\anaconda3\\lib\\site-packages (from requests>=2.10.0->newspaper3k) (2020.12.5)\n",
      "Requirement already satisfied: idna<4,>=2.5 in c:\\programdata\\anaconda3\\lib\\site-packages (from requests>=2.10.0->newspaper3k) (2.10)\n",
      "Requirement already satisfied: urllib3<1.27,>=1.21.1 in c:\\programdata\\anaconda3\\lib\\site-packages (from requests>=2.10.0->newspaper3k) (1.26.4)\n",
      "Requirement already satisfied: filelock>=3.0.8 in c:\\programdata\\anaconda3\\lib\\site-packages (from tldextract>=2.0.1->newspaper3k) (3.0.12)\n",
      "Requirement already satisfied: requests-file>=1.4 in c:\\users\\rishabhs\\appdata\\roaming\\python\\python38\\site-packages (from tldextract>=2.0.1->newspaper3k) (1.5.1)\n"
     ]
    }
   ],
   "source": [
    "# Basic aricle summarization\n",
    "!pip install newspaper3k --user"
   ]
  },
  {
   "cell_type": "code",
   "execution_count": 8,
   "id": "b0e32bde",
   "metadata": {},
   "outputs": [
    {
     "name": "stdout",
     "output_type": "stream",
     "text": [
      "Requirement already satisfied: transformers in c:\\programdata\\anaconda3\\lib\\site-packages (4.21.0.dev0)\n",
      "Requirement already satisfied: regex!=2019.12.17 in c:\\programdata\\anaconda3\\lib\\site-packages (from transformers) (2021.4.4)\n",
      "Requirement already satisfied: pyyaml>=5.1 in c:\\programdata\\anaconda3\\lib\\site-packages (from transformers) (5.4.1)\n",
      "Requirement already satisfied: packaging>=20.0 in c:\\programdata\\anaconda3\\lib\\site-packages (from transformers) (20.9)\n",
      "Requirement already satisfied: huggingface-hub<1.0,>=0.1.0 in c:\\programdata\\anaconda3\\lib\\site-packages (from transformers) (0.7.0)\n",
      "Requirement already satisfied: filelock in c:\\programdata\\anaconda3\\lib\\site-packages (from transformers) (3.0.12)\n",
      "Requirement already satisfied: requests in c:\\users\\rishabhs\\appdata\\roaming\\python\\python38\\site-packages (from transformers) (2.28.1)\n",
      "Requirement already satisfied: numpy>=1.17 in c:\\programdata\\anaconda3\\lib\\site-packages (from transformers) (1.20.1)\n",
      "Requirement already satisfied: tokenizers!=0.11.3,<0.13,>=0.11.1 in c:\\programdata\\anaconda3\\lib\\site-packages (from transformers) (0.12.1)\n",
      "Requirement already satisfied: tqdm>=4.27 in c:\\programdata\\anaconda3\\lib\\site-packages (from transformers) (4.59.0)\n",
      "Requirement already satisfied: typing-extensions>=3.7.4.3 in c:\\programdata\\anaconda3\\lib\\site-packages (from huggingface-hub<1.0,>=0.1.0->transformers) (3.7.4.3)\n",
      "Requirement already satisfied: pyparsing>=2.0.2 in c:\\programdata\\anaconda3\\lib\\site-packages (from packaging>=20.0->transformers) (2.4.7)\n",
      "Requirement already satisfied: urllib3<1.27,>=1.21.1 in c:\\programdata\\anaconda3\\lib\\site-packages (from requests->transformers) (1.26.4)\n",
      "Requirement already satisfied: idna<4,>=2.5 in c:\\programdata\\anaconda3\\lib\\site-packages (from requests->transformers) (2.10)\n",
      "Requirement already satisfied: certifi>=2017.4.17 in c:\\programdata\\anaconda3\\lib\\site-packages (from requests->transformers) (2020.12.5)\n",
      "Requirement already satisfied: charset-normalizer<3,>=2 in c:\\programdata\\anaconda3\\lib\\site-packages (from requests->transformers) (2.1.0)\n"
     ]
    }
   ],
   "source": [
    "# Deep learning article summarization\n",
    "!pip install transformers --user"
   ]
  },
  {
   "cell_type": "code",
   "execution_count": 9,
   "id": "df2942ee",
   "metadata": {},
   "outputs": [],
   "source": [
    "# Import the necessary libraries ------> requests\n",
    "import requests\n",
    "from urllib.request import urlopen,Request"
   ]
  },
  {
   "cell_type": "code",
   "execution_count": 10,
   "id": "4de238f0",
   "metadata": {},
   "outputs": [],
   "source": [
    "# Import the necessary libraries ------> BeautifulSoup\n",
    "from bs4 import BeautifulSoup"
   ]
  },
  {
   "cell_type": "code",
   "execution_count": 11,
   "id": "501bb4cd",
   "metadata": {},
   "outputs": [],
   "source": [
    "# Import the necessary libraries ------> Pandas,numpy,matplotlib\n",
    "import pandas as pd\n",
    "import numpy as np\n",
    "import matplotlib\n",
    "import matplotlib.pyplot as plt"
   ]
  },
  {
   "cell_type": "code",
   "execution_count": 12,
   "id": "5b0088e8",
   "metadata": {},
   "outputs": [],
   "source": [
    "# Import the necessary libraries ------> nltk Module, sentiment analyser nltk vader\n",
    "import nltk\n",
    "from nltk.sentiment.vader import SentimentIntensityAnalyzer"
   ]
  },
  {
   "cell_type": "code",
   "execution_count": 13,
   "id": "12de1c85",
   "metadata": {},
   "outputs": [],
   "source": [
    "# Import the necessary libraries ------> sentiment analyser textblob\n",
    "from textblob import TextBlob\n",
    "from textblob import Word"
   ]
  },
  {
   "cell_type": "code",
   "execution_count": 14,
   "id": "d0c5fdae",
   "metadata": {},
   "outputs": [
    {
     "name": "stdout",
     "output_type": "stream",
     "text": [
      "Requirement already satisfied: transformers in c:\\programdata\\anaconda3\\lib\\site-packages (4.21.0.dev0)\n",
      "Requirement already satisfied: tokenizers!=0.11.3,<0.13,>=0.11.1 in c:\\programdata\\anaconda3\\lib\\site-packages (from transformers) (0.12.1)\n",
      "Requirement already satisfied: huggingface-hub<1.0,>=0.1.0 in c:\\programdata\\anaconda3\\lib\\site-packages (from transformers) (0.7.0)\n",
      "Requirement already satisfied: numpy>=1.17 in c:\\programdata\\anaconda3\\lib\\site-packages (from transformers) (1.20.1)\n",
      "Requirement already satisfied: tqdm>=4.27 in c:\\programdata\\anaconda3\\lib\\site-packages (from transformers) (4.59.0)\n",
      "Requirement already satisfied: packaging>=20.0 in c:\\programdata\\anaconda3\\lib\\site-packages (from transformers) (20.9)\n",
      "Requirement already satisfied: regex!=2019.12.17 in c:\\programdata\\anaconda3\\lib\\site-packages (from transformers) (2021.4.4)\n",
      "Requirement already satisfied: pyyaml>=5.1 in c:\\programdata\\anaconda3\\lib\\site-packages (from transformers) (5.4.1)\n",
      "Requirement already satisfied: requests in c:\\users\\rishabhs\\appdata\\roaming\\python\\python38\\site-packages (from transformers) (2.28.1)\n",
      "Requirement already satisfied: filelock in c:\\programdata\\anaconda3\\lib\\site-packages (from transformers) (3.0.12)\n",
      "Requirement already satisfied: typing-extensions>=3.7.4.3 in c:\\programdata\\anaconda3\\lib\\site-packages (from huggingface-hub<1.0,>=0.1.0->transformers) (3.7.4.3)\n",
      "Requirement already satisfied: pyparsing>=2.0.2 in c:\\programdata\\anaconda3\\lib\\site-packages (from packaging>=20.0->transformers) (2.4.7)\n",
      "Requirement already satisfied: charset-normalizer<3,>=2 in c:\\programdata\\anaconda3\\lib\\site-packages (from requests->transformers) (2.1.0)\n",
      "Requirement already satisfied: certifi>=2017.4.17 in c:\\programdata\\anaconda3\\lib\\site-packages (from requests->transformers) (2020.12.5)\n",
      "Requirement already satisfied: urllib3<1.27,>=1.21.1 in c:\\programdata\\anaconda3\\lib\\site-packages (from requests->transformers) (1.26.4)\n",
      "Requirement already satisfied: idna<4,>=2.5 in c:\\programdata\\anaconda3\\lib\\site-packages (from requests->transformers) (2.10)\n",
      "Collecting git+https://github.com/huggingface/transformers"
     ]
    },
    {
     "name": "stderr",
     "output_type": "stream",
     "text": [
      "  Running command git clone -q https://github.com/huggingface/transformers 'C:\\Users\\RishabhS\\AppData\\Local\\Temp\\pip-req-build-674kq_5r'\n"
     ]
    },
    {
     "name": "stdout",
     "output_type": "stream",
     "text": [
      "\n",
      "  Cloning https://github.com/huggingface/transformers to c:\\users\\rishabhs\\appdata\\local\\temp\\pip-req-build-674kq_5r\n",
      "  Installing build dependencies: started\n",
      "  Installing build dependencies: finished with status 'done'\n",
      "  Getting requirements to build wheel: started\n",
      "  Getting requirements to build wheel: finished with status 'done'\n",
      "    Preparing wheel metadata: started\n",
      "    Preparing wheel metadata: finished with status 'done'\n",
      "Requirement already satisfied: numpy>=1.17 in c:\\programdata\\anaconda3\\lib\\site-packages (from transformers==4.21.0.dev0) (1.20.1)\n",
      "Requirement already satisfied: requests in c:\\users\\rishabhs\\appdata\\roaming\\python\\python38\\site-packages (from transformers==4.21.0.dev0) (2.28.1)\n",
      "Requirement already satisfied: pyyaml>=5.1 in c:\\programdata\\anaconda3\\lib\\site-packages (from transformers==4.21.0.dev0) (5.4.1)\n",
      "Requirement already satisfied: tqdm>=4.27 in c:\\programdata\\anaconda3\\lib\\site-packages (from transformers==4.21.0.dev0) (4.59.0)\n",
      "Requirement already satisfied: filelock in c:\\programdata\\anaconda3\\lib\\site-packages (from transformers==4.21.0.dev0) (3.0.12)\n",
      "Requirement already satisfied: huggingface-hub<1.0,>=0.1.0 in c:\\programdata\\anaconda3\\lib\\site-packages (from transformers==4.21.0.dev0) (0.7.0)\n",
      "Requirement already satisfied: packaging>=20.0 in c:\\programdata\\anaconda3\\lib\\site-packages (from transformers==4.21.0.dev0) (20.9)\n",
      "Requirement already satisfied: tokenizers!=0.11.3,<0.13,>=0.11.1 in c:\\programdata\\anaconda3\\lib\\site-packages (from transformers==4.21.0.dev0) (0.12.1)\n",
      "Requirement already satisfied: regex!=2019.12.17 in c:\\programdata\\anaconda3\\lib\\site-packages (from transformers==4.21.0.dev0) (2021.4.4)\n",
      "Requirement already satisfied: typing-extensions>=3.7.4.3 in c:\\programdata\\anaconda3\\lib\\site-packages (from huggingface-hub<1.0,>=0.1.0->transformers==4.21.0.dev0) (3.7.4.3)\n",
      "Requirement already satisfied: pyparsing>=2.0.2 in c:\\programdata\\anaconda3\\lib\\site-packages (from packaging>=20.0->transformers==4.21.0.dev0) (2.4.7)\n",
      "Requirement already satisfied: urllib3<1.27,>=1.21.1 in c:\\programdata\\anaconda3\\lib\\site-packages (from requests->transformers==4.21.0.dev0) (1.26.4)\n",
      "Requirement already satisfied: certifi>=2017.4.17 in c:\\programdata\\anaconda3\\lib\\site-packages (from requests->transformers==4.21.0.dev0) (2020.12.5)\n",
      "Requirement already satisfied: idna<4,>=2.5 in c:\\programdata\\anaconda3\\lib\\site-packages (from requests->transformers==4.21.0.dev0) (2.10)\n",
      "Requirement already satisfied: charset-normalizer<3,>=2 in c:\\programdata\\anaconda3\\lib\\site-packages (from requests->transformers==4.21.0.dev0) (2.1.0)\n"
     ]
    }
   ],
   "source": [
    "# Import the necessary libraries ------> basic aricle summarization \n",
    "from newspaper import Article\n",
    "!pip install transformers\n",
    "!pip install git+https://github.com/huggingface/transformers"
   ]
  },
  {
   "cell_type": "code",
   "execution_count": 15,
   "id": "d1797a5d",
   "metadata": {},
   "outputs": [
    {
     "name": "stdout",
     "output_type": "stream",
     "text": [
      "Looking in links: https://download.pytorch.org/whl/lts/1.8/torch_lts.html\n",
      "Requirement already satisfied: torch==1.8.2+cu111 in c:\\programdata\\anaconda3\\lib\\site-packages (1.8.2+cu111)\n",
      "Requirement already satisfied: torchvision==0.9.2+cu111 in c:\\programdata\\anaconda3\\lib\\site-packages (0.9.2+cu111)\n",
      "Requirement already satisfied: torchaudio===0.8.2 in c:\\programdata\\anaconda3\\lib\\site-packages (0.8.2)\n",
      "Requirement already satisfied: typing-extensions in c:\\programdata\\anaconda3\\lib\\site-packages (from torch==1.8.2+cu111) (3.7.4.3)\n",
      "Requirement already satisfied: numpy in c:\\programdata\\anaconda3\\lib\\site-packages (from torch==1.8.2+cu111) (1.20.1)\n",
      "Requirement already satisfied: pillow>=4.1.1 in c:\\programdata\\anaconda3\\lib\\site-packages (from torchvision==0.9.2+cu111) (8.2.0)\n"
     ]
    }
   ],
   "source": [
    "!pip install torch==1.8.2+cu111 torchvision==0.9.2+cu111 torchaudio===0.8.2 -f https://download.pytorch.org/whl/lts/1.8/torch_lts.html\n",
    "# Importing dependencies from transformers\n",
    "from transformers import PegasusForConditionalGeneration, PegasusTokenizer"
   ]
  },
  {
   "cell_type": "code",
   "execution_count": 16,
   "id": "b452f1db",
   "metadata": {},
   "outputs": [
    {
     "name": "stdout",
     "output_type": "stream",
     "text": [
      "Requirement already satisfied: sentencepiece in c:\\programdata\\anaconda3\\lib\\site-packages (0.1.96)\n"
     ]
    }
   ],
   "source": [
    "!pip install sentencepiece\n",
    "# Import the necessary libraries ------> Deep Learning Summarization\n",
    "from transformers import PegasusForConditionalGeneration, PegasusTokenizer\n",
    "# Import the necessary libraries ------> sentiment analyser Pegasus\n",
    "from transformers import pipeline"
   ]
  },
  {
   "cell_type": "code",
   "execution_count": null,
   "id": "ea88d69a",
   "metadata": {},
   "outputs": [],
   "source": []
  },
  {
   "cell_type": "code",
   "execution_count": 17,
   "id": "70be3f25",
   "metadata": {},
   "outputs": [],
   "source": [
    "# Strip out unwanted URLs\n",
    "import re "
   ]
  },
  {
   "cell_type": "code",
   "execution_count": 18,
   "id": "f22469f6",
   "metadata": {},
   "outputs": [],
   "source": [
    "# create CSVStock Sentiment Analysis and Summarization via Web scrapping\n",
    "import csv"
   ]
  },
  {
   "cell_type": "markdown",
   "id": "770e475f",
   "metadata": {},
   "source": [
    "# 2. Summarization models"
   ]
  },
  {
   "cell_type": "markdown",
   "id": "40d33ae6",
   "metadata": {},
   "source": [
    "The summarization models abstracts the given text to logical and concise summarization.</br>\n",
    "\n",
    "Example:<a href=\"https://huggingface.co/human-centered-summarization/financial-summarization-pegasus\">Source:Huggingface Financial-summarization-pegasus</a> </br>\n",
    "\n",
    "**Input**</br>\n",
    "\n",
    "National Commercial Bank (NCB), Saudi Arabia’s largest lender by assets, agreed to buy rival Samba Financial Group for 15 dollars billion in the biggest banking takeover this year.NCB will pay 28.45 riyals (dollars7.58) for each Samba share, according to a statement on Sunday, valuing it at about 55.7 billion riyals. NCB will offer 0.739 new shares for each Samba share, at the lower end of the 0.736-0.787 ratio the banks set when they signed an initial framework agreement in June.The offer is a 3.5 percentage premium to Samba’s Oct. 8 closing price of 27.50 riyals and about 24 percentage higher than the level the shares traded at before the talks were made public. Bloomberg News first reported the merger discussions.The new bank will have total assets of more than 220 billion, creating the Gulf region third-largest lender. The entity’s 46 billion market capitalization nearly matches that of Qatar National Bank QPSC, which is still the Middle East’s biggest lender with about 268 billion of assets. </br>\n",
    "\n",
    "**Output**</br>\n",
    "\n",
    "NCB to pay 28.45 riyals for each Samba share. Deal will create Gulf region’s third-largest lender"
   ]
  },
  {
   "cell_type": "markdown",
   "id": "9180dca6",
   "metadata": {},
   "source": [
    "# Type1: Summarization Model (Basic newspaper3k)"
   ]
  },
  {
   "cell_type": "markdown",
   "id": "9502e4d6",
   "metadata": {},
   "source": [
    "All the three function takes inputs such as URLs, df(url) and file(url) and scrapes the articles."
   ]
  },
  {
   "cell_type": "code",
   "execution_count": 19,
   "id": "4aa4529d",
   "metadata": {},
   "outputs": [],
   "source": [
    "\"\"\"     Get the Article....\n",
    "#author=[],article_date= []\n",
    "#author.append(article.authors),article_date.append(article.publish_date),df and file and scrapes the Urls for summaries.\n",
    "\"\"\"    \n",
    "def newspaper3k_summary_from_df(df,column_url_name=\"URL\",output_file_name='summaries'):\n",
    "    url_df= df[column_url_name]\n",
    "    article_summary=[]\n",
    "    title=[]\n",
    "    counter= 0\n",
    "    for url in url_df:\n",
    "        try:\n",
    "            article = Article(url)\n",
    "            article.download()\n",
    "            article.parse()\n",
    "            article.nlp()\n",
    "            title.append(article.title)\n",
    "            article_summary.append(article.summary)\n",
    "            counter+=1\n",
    "            print(counter)\n",
    "        except Exception as e:\n",
    "            title.append(e)\n",
    "            article_summary.append(e)\n",
    "            counter+=1\n",
    "            print(counter)\n",
    "    data = {'Article_title':title,\"Article_summary\": article_summary}#\"Date_Time\":article_date,\"Author\": author,\n",
    "    summary_df = pd.DataFrame.from_dict(data)\n",
    "    summary_df[\"URL\"] =url_df\n",
    "    summary_df.to_csv(output_file_name+\".csv\")\n",
    "    print(output_file_name+\".csv is created\")\n",
    "    return summary_df\n",
    "def newspaper3k_summary_from_csvfile(file_name,output_file_name='summaries'):\n",
    "    df = pd.read_csv(file_name).drop([\"Unnamed: 0\"],axis = 1)\n",
    "    url_df= df[\"URL\"]\n",
    "    article_summary=[]\n",
    "    title=[]\n",
    "    counter= 0\n",
    "    for url in url_df:\n",
    "        try:\n",
    "            article = Article(url)\n",
    "            article.download()\n",
    "            article.parse()\n",
    "            article.nlp()\n",
    "            title.append(article.title)\n",
    "            article_summary.append(article.summary)\n",
    "            counter+=1\n",
    "            print(counter)\n",
    "        except Exception as e:\n",
    "            title.append(e)\n",
    "            article_summary.append(e)\n",
    "            counter+=1\n",
    "            print(counter)    \n",
    "    data = {'Article_title':title,\"Article_summary\": article_summary}\n",
    "    summary_df = pd.DataFrame.from_dict(data)\n",
    "    summary_df[\"URL\"] =url_df\n",
    "    summary_df.to_csv(output_file_name+\".csv\")\n",
    "    print(output_file_name+\".csv is created\")\n",
    "    return summary_df"
   ]
  },
  {
   "cell_type": "markdown",
   "id": "d6919c4e",
   "metadata": {},
   "source": [
    "# Type2 Summarization Model (Financial Summarization Pegasus model)"
   ]
  },
  {
   "cell_type": "code",
   "execution_count": 20,
   "id": "d9b718b0",
   "metadata": {},
   "outputs": [
    {
     "data": {
      "application/vnd.jupyter.widget-view+json": {
       "model_id": "21188130586947faa3d6f8bb6c14eee3",
       "version_major": 2,
       "version_minor": 0
      },
      "text/plain": [
       "Downloading:   0%|          | 0.00/1.82M [00:00<?, ?B/s]"
      ]
     },
     "metadata": {},
     "output_type": "display_data"
    },
    {
     "data": {
      "application/vnd.jupyter.widget-view+json": {
       "model_id": "cbe8559e3936487d8c1dd8c5de8dee7e",
       "version_major": 2,
       "version_minor": 0
      },
      "text/plain": [
       "Downloading:   0%|          | 0.00/1.31k [00:00<?, ?B/s]"
      ]
     },
     "metadata": {},
     "output_type": "display_data"
    },
    {
     "data": {
      "application/vnd.jupyter.widget-view+json": {
       "model_id": "b681f3ec32684cb5b77e5fc2c9c4b427",
       "version_major": 2,
       "version_minor": 0
      },
      "text/plain": [
       "Downloading:   0%|          | 0.00/1.40k [00:00<?, ?B/s]"
      ]
     },
     "metadata": {},
     "output_type": "display_data"
    },
    {
     "data": {
      "application/vnd.jupyter.widget-view+json": {
       "model_id": "6c551dd6063c4eb8b679d67f72f0bc9b",
       "version_major": 2,
       "version_minor": 0
      },
      "text/plain": [
       "Downloading:   0%|          | 0.00/1.24k [00:00<?, ?B/s]"
      ]
     },
     "metadata": {},
     "output_type": "display_data"
    },
    {
     "data": {
      "application/vnd.jupyter.widget-view+json": {
       "model_id": "c522f389329147bc9594e1ebf41de458",
       "version_major": 2,
       "version_minor": 0
      },
      "text/plain": [
       "Downloading:   0%|          | 0.00/2.12G [00:00<?, ?B/s]"
      ]
     },
     "metadata": {},
     "output_type": "display_data"
    }
   ],
   "source": [
    "#model_setup\n",
    "model_name = \"human-centered-summarization/financial-summarization-pegasus\"\n",
    "tokenizer = PegasusTokenizer.from_pretrained(model_name)\n",
    "model = PegasusForConditionalGeneration.from_pretrained(model_name)"
   ]
  },
  {
   "cell_type": "code",
   "execution_count": 21,
   "id": "4e470b3a",
   "metadata": {},
   "outputs": [],
   "source": [
    "def pegasus_summarize(articles):\n",
    "    try:\n",
    "        summaries = []\n",
    "        for article in articles:\n",
    "            input_ids = tokenizer.encode(article, return_tensors='pt')\n",
    "            output = model.generate(input_ids, max_length=55, num_beams=5, early_stopping=True)\n",
    "            summary = tokenizer.decode(output[0], skip_special_tokens=True)\n",
    "            summaries.append(summary)\n",
    "    except Exception as e:\n",
    "            summaries.append(e)\n",
    "    return summaries"
   ]
  },
  {
   "cell_type": "markdown",
   "id": "55f45b69",
   "metadata": {},
   "source": [
    "## 3A News and Sentiment Pipeline 1: Finiviz website"
   ]
  },
  {
   "cell_type": "markdown",
   "id": "1428f6f1",
   "metadata": {},
   "source": [
    "### 3a_1     Web Scrapping from finviz website using the ticker (Output: CSV file)"
   ]
  },
  {
   "cell_type": "markdown",
   "id": "ddba59f0",
   "metadata": {},
   "source": [
    "1. function: **finviz_parser_data(ticker)**: This function is defined to scrape from the <a href=\"https://finviz.com/quote.ashx?t={}\">Finviz website</a> using the requests library. Then the downloaded content should have a status code of 200 or greater.</br>\n",
    "The BeautifulSoup class is used to parse the html response and returned as soup. It is to be noted that soup is bs4.BeautifulSoup.</br>\n",
    "</br>\n",
    "2. function: **correct_time_formatting(time_data)**: This function helps to rectify the bad date & time format acquired from the finviz website to standardized format. \n",
    "- Before the function execution: </br>\n",
    "\t\n",
    "0\tSep-20-21 07:53AM  \n",
    "1\t06:48AM  \n",
    "2\t06:46AM  \n",
    "3\t12:01AM  \n",
    "4\tSep-19-21 06:45AM  \n",
    "5\tSep-18-21 05:50PM  \n",
    "6\t10:34AM  \n",
    "</br>\n",
    "- After the function execution: </br>\n",
    "\t\n",
    "0\tSep-20-21 07:53AM  \n",
    "1\tSep-20-21 06:48AM  \n",
    "2\tSep-20-21 06:46AM  \n",
    "3\tSep-20-21 12:01AM  \n",
    "4\tSep-19-21 06:45AM  \n",
    "5\tSep-18-21 05:50PM  \n",
    "6\tSep-18-21 10:34AM  \n",
    "\n",
    "3. function: **finviz_create_write_data(soup,file_name=\"MSFT\")**: The soup is passed as position argument and the file_name is passed as keyword argument hence the file_name is customizable. </br>\n",
    "Example: finviz_create_write_data(soup,file_name=\"Amazon\") </br>\n",
    "The function basically scrapes the Url,time, News Reporter and News headline. </br>\n",
    "It creates a dataframe using Pandas and writes it to a CSV and also returns the dataframe. </br>"
   ]
  },
  {
   "cell_type": "code",
   "execution_count": 22,
   "id": "c4c9c712",
   "metadata": {},
   "outputs": [],
   "source": [
    "\n",
    "def finviz_parser_data(ticker):\n",
    "    \n",
    "    url = 'https://finviz.com/quote.ashx?t={}'.format(ticker)\n",
    "    # sending request for getting the html code of the Url\n",
    "    try:\n",
    "        request = Request(url=url,headers={'user-agent':'my-app'})\n",
    "        response = urlopen(request)\n",
    "\n",
    "        #parsing the HTML with BeautifulSoup\n",
    "        soup = BeautifulSoup(response,'html')\n",
    "        return soup\n",
    "    except Exception as e:\n",
    "        print(e)\n",
    "    \n",
    "def correct_time_formatting(time_data):\n",
    "    date = []\n",
    "    time=[]\n",
    "    for z in time_data:\n",
    "        a = z.split(\" \")\n",
    "        if len(a) == 2:\n",
    "            date.append(a[0])\n",
    "            time.append(a[1])\n",
    "        else:\n",
    "            date.append(\"r\")\n",
    "            time.append(a[0])\n",
    "    l=0\n",
    "    r=1\n",
    "    lister=[]\n",
    "    #print(l,r)\n",
    "    while r<len(date):\n",
    "        if len(date[r]) ==9:\n",
    "            lister.append(date[l:r])\n",
    "            #print(l,r)\n",
    "            l=r\n",
    "            #print(l,r)\n",
    "        elif r== len(date)-1:                      \n",
    "                r=len(date)    \n",
    "                #print(l,r)\n",
    "                lister.append(date[l:r])\n",
    "        r+=1\n",
    "    n =0\n",
    "    while n <len(lister):\n",
    "\n",
    "        lister[n] =[lister[n][0] for x in lister[n] if x=='r' or x==lister[n][0] ]\n",
    "        n+=1\n",
    "    final_time= []\n",
    "    y =0\n",
    "    while y<len(lister):\n",
    "        final_time+=lister[y]\n",
    "        y+=1    \n",
    "    count = 0\n",
    "    time_correct =[]\n",
    "    while count<len(final_time):\n",
    "        time_correct.append((final_time[count]+\" \"+time[count]))\n",
    "        count+=1\n",
    "    return time_correct\n",
    "\n",
    "def finviz_create_write_data(soup,file_name=\"MSFT\"):   \n",
    "    try:\n",
    "        news_reporter_title = [row.text for row in soup.find_all(class_ ='news-link-right') if row is not None]\n",
    "        #news_reporter_title\n",
    "        news_reported = [row.text for row in soup.find_all(class_ ='news-link-left') if row is not None]\n",
    "        #news_reported\n",
    "        news_url = [row.find('a',href=True)[\"href\"] for row in soup.find_all(class_ ='news-link-left') if row is not None]\n",
    "        '''\n",
    "        solution 2:\n",
    "        atags = [row.find('a') for row in soup.find_all(class_ ='news-link-left') if row is not None]\n",
    "        news_url = [link['href'] for link in atags]\n",
    "        '''\n",
    "        date_data = [row.text for row in soup.find_all('td', attrs ={\"width\":\"130\",'align':'right'}) if row is not None]\n",
    "        time = correct_time_formatting(date_data)\n",
    "    except Exception as e:\n",
    "        print(e)\n",
    "    data = { \"Time\":time,'News Reporter': news_reporter_title,\"News Headline\": news_reported, \"URL\": news_url }\n",
    "    finviz_news_df = pd.DataFrame.from_dict(data)\n",
    "    finviz_news_df.to_csv(file_name + '_finviz_stock.csv')\n",
    "    print(file_name + \"_finviz_stock.csv is created\" )\n",
    "    return finviz_news_df"
   ]
  },
  {
   "cell_type": "code",
   "execution_count": 23,
   "id": "4384eaa8",
   "metadata": {},
   "outputs": [
    {
     "name": "stdout",
     "output_type": "stream",
     "text": [
      "Tesla_finviz_stock.csv is created\n"
     ]
    },
    {
     "data": {
      "text/html": [
       "<div>\n",
       "<style scoped>\n",
       "    .dataframe tbody tr th:only-of-type {\n",
       "        vertical-align: middle;\n",
       "    }\n",
       "\n",
       "    .dataframe tbody tr th {\n",
       "        vertical-align: top;\n",
       "    }\n",
       "\n",
       "    .dataframe thead th {\n",
       "        text-align: right;\n",
       "    }\n",
       "</style>\n",
       "<table border=\"1\" class=\"dataframe\">\n",
       "  <thead>\n",
       "    <tr style=\"text-align: right;\">\n",
       "      <th></th>\n",
       "      <th>Time</th>\n",
       "      <th>News Reporter</th>\n",
       "      <th>News Headline</th>\n",
       "      <th>URL</th>\n",
       "    </tr>\n",
       "  </thead>\n",
       "  <tbody>\n",
       "    <tr>\n",
       "      <th>0</th>\n",
       "      <td>Jul-04-22 07:36AM</td>\n",
       "      <td>Yahoo Finance UK</td>\n",
       "      <td>Tesla recalls faulty cars as safety glitch ide...</td>\n",
       "      <td>https://finance.yahoo.com/news/tesla-recalls-f...</td>\n",
       "    </tr>\n",
       "    <tr>\n",
       "      <th>1</th>\n",
       "      <td>Jul-04-22 04:53AM</td>\n",
       "      <td>Financial Times</td>\n",
       "      <td>Chinese Tesla lithium supplier probed for insi...</td>\n",
       "      <td>https://www.ft.com/cms/s/c44ca0c3-18b0-4deb-99...</td>\n",
       "    </tr>\n",
       "    <tr>\n",
       "      <th>2</th>\n",
       "      <td>Jul-04-22 01:07AM</td>\n",
       "      <td>Investor's Business Daily</td>\n",
       "      <td>Dow Jones Futures Fall: Don't Feed The Bear; B...</td>\n",
       "      <td>https://www.investors.com/market-trend/stock-m...</td>\n",
       "    </tr>\n",
       "    <tr>\n",
       "      <th>3</th>\n",
       "      <td>Jul-03-22 03:46PM</td>\n",
       "      <td>Bloomberg</td>\n",
       "      <td>British Army Twitter, YouTube Accounts Hacked ...</td>\n",
       "      <td>https://finance.yahoo.com/news/british-army-tw...</td>\n",
       "    </tr>\n",
       "    <tr>\n",
       "      <th>4</th>\n",
       "      <td>Jul-03-22 12:23PM</td>\n",
       "      <td>Bloomberg</td>\n",
       "      <td>California Governor Newsom Runs Ads in Florida...</td>\n",
       "      <td>https://finance.yahoo.com/news/california-gove...</td>\n",
       "    </tr>\n",
       "    <tr>\n",
       "      <th>...</th>\n",
       "      <td>...</td>\n",
       "      <td>...</td>\n",
       "      <td>...</td>\n",
       "      <td>...</td>\n",
       "    </tr>\n",
       "    <tr>\n",
       "      <th>95</th>\n",
       "      <td>Jun-30-22 05:00AM</td>\n",
       "      <td>Yahoo Finance Video</td>\n",
       "      <td>3 things that will 'consume us' over the next ...</td>\n",
       "      <td>https://finance.yahoo.com/video/3-things-consu...</td>\n",
       "    </tr>\n",
       "    <tr>\n",
       "      <th>96</th>\n",
       "      <td>Jun-29-22 09:20PM</td>\n",
       "      <td>TipRanks</td>\n",
       "      <td>Tesla: Street Expectations for Q2 Deliveries A...</td>\n",
       "      <td>https://finance.yahoo.com/news/tesla-street-ex...</td>\n",
       "    </tr>\n",
       "    <tr>\n",
       "      <th>97</th>\n",
       "      <td>Jun-29-22 05:45PM</td>\n",
       "      <td>Zacks</td>\n",
       "      <td>Tesla (TSLA) Dips More Than Broader Markets: W...</td>\n",
       "      <td>https://finance.yahoo.com/news/tesla-tsla-dips...</td>\n",
       "    </tr>\n",
       "    <tr>\n",
       "      <th>98</th>\n",
       "      <td>Jun-29-22 05:10PM</td>\n",
       "      <td>Benzinga</td>\n",
       "      <td>Elon Musk: 'A Recession Is Inevitable' - Here ...</td>\n",
       "      <td>https://finance.yahoo.com/news/elon-musk-reces...</td>\n",
       "    </tr>\n",
       "    <tr>\n",
       "      <th>99</th>\n",
       "      <td>Jun-29-22 05:03PM</td>\n",
       "      <td>Yahoo Finance</td>\n",
       "      <td>Roe v. Wade: Companies must create culture of ...</td>\n",
       "      <td>https://finance.yahoo.com/news/roe-v-wade-comp...</td>\n",
       "    </tr>\n",
       "  </tbody>\n",
       "</table>\n",
       "<p>100 rows × 4 columns</p>\n",
       "</div>"
      ],
      "text/plain": [
       "                   Time               News Reporter  \\\n",
       "0   Jul-04-22 07:36AM              Yahoo Finance UK   \n",
       "1   Jul-04-22 04:53AM               Financial Times   \n",
       "2   Jul-04-22 01:07AM     Investor's Business Daily   \n",
       "3   Jul-03-22 03:46PM                     Bloomberg   \n",
       "4   Jul-03-22 12:23PM                     Bloomberg   \n",
       "..                  ...                         ...   \n",
       "95  Jun-30-22 05:00AM           Yahoo Finance Video   \n",
       "96  Jun-29-22 09:20PM                      TipRanks   \n",
       "97  Jun-29-22 05:45PM                         Zacks   \n",
       "98  Jun-29-22 05:10PM                      Benzinga   \n",
       "99  Jun-29-22 05:03PM                 Yahoo Finance   \n",
       "\n",
       "                                        News Headline  \\\n",
       "0   Tesla recalls faulty cars as safety glitch ide...   \n",
       "1   Chinese Tesla lithium supplier probed for insi...   \n",
       "2   Dow Jones Futures Fall: Don't Feed The Bear; B...   \n",
       "3   British Army Twitter, YouTube Accounts Hacked ...   \n",
       "4   California Governor Newsom Runs Ads in Florida...   \n",
       "..                                                ...   \n",
       "95  3 things that will 'consume us' over the next ...   \n",
       "96  Tesla: Street Expectations for Q2 Deliveries A...   \n",
       "97  Tesla (TSLA) Dips More Than Broader Markets: W...   \n",
       "98  Elon Musk: 'A Recession Is Inevitable' - Here ...   \n",
       "99  Roe v. Wade: Companies must create culture of ...   \n",
       "\n",
       "                                                  URL  \n",
       "0   https://finance.yahoo.com/news/tesla-recalls-f...  \n",
       "1   https://www.ft.com/cms/s/c44ca0c3-18b0-4deb-99...  \n",
       "2   https://www.investors.com/market-trend/stock-m...  \n",
       "3   https://finance.yahoo.com/news/british-army-tw...  \n",
       "4   https://finance.yahoo.com/news/california-gove...  \n",
       "..                                                ...  \n",
       "95  https://finance.yahoo.com/video/3-things-consu...  \n",
       "96  https://finance.yahoo.com/news/tesla-street-ex...  \n",
       "97  https://finance.yahoo.com/news/tesla-tsla-dips...  \n",
       "98  https://finance.yahoo.com/news/elon-musk-reces...  \n",
       "99  https://finance.yahoo.com/news/roe-v-wade-comp...  \n",
       "\n",
       "[100 rows x 4 columns]"
      ]
     },
     "execution_count": 23,
     "metadata": {},
     "output_type": "execute_result"
    }
   ],
   "source": [
    "soup = finviz_parser_data(\"TSLA\")\n",
    "finviz_create_write_data(soup,file_name=\"Tesla\")"
   ]
  },
  {
   "cell_type": "markdown",
   "id": "0477fcb3",
   "metadata": {},
   "source": [
    "### 3a_2 Web Scrapping from finviz website using the ticker_list (Output: CSV file)  \n",
    "- finviz_url = 'https://finviz.com/quote.ashx?t='"
   ]
  },
  {
   "cell_type": "markdown",
   "id": "9cf0cca0",
   "metadata": {},
   "source": [
    "1.function:**create_csv_ticker_list(ticker_list)**: This function automates the process for a ticker_list containing multiple stocks."
   ]
  },
  {
   "cell_type": "code",
   "execution_count": 24,
   "id": "af10f7f1",
   "metadata": {},
   "outputs": [],
   "source": [
    "ticker_list = ['WOOF','MSFT',\"GOOG\",'FB',\"AMZN\"]"
   ]
  },
  {
   "cell_type": "code",
   "execution_count": 25,
   "id": "d66e8190",
   "metadata": {},
   "outputs": [],
   "source": [
    "def create_csv_ticker_list(ticker_list):\n",
    "    try:\n",
    "        for ticker in ticker_list:\n",
    "            soup = finviz_parser_data(ticker)\n",
    "            finviz_create_write_data(soup,file_name=ticker)\n",
    "    except Exception as e:\n",
    "        print(e)"
   ]
  },
  {
   "cell_type": "code",
   "execution_count": 26,
   "id": "63a4bf64",
   "metadata": {},
   "outputs": [
    {
     "name": "stdout",
     "output_type": "stream",
     "text": [
      "arrays must all be same length\n"
     ]
    }
   ],
   "source": [
    "create_csv_ticker_list(ticker_list)"
   ]
  },
  {
   "cell_type": "markdown",
   "id": "5b932520",
   "metadata": {},
   "source": [
    "### 3a_3  View the stock as a Data_frame and perform sentiment analysis"
   ]
  },
  {
   "cell_type": "markdown",
   "id": "797b686b",
   "metadata": {},
   "source": [
    "1.**def finviz_view_pandas_dataframe(ticker)**:Sometimes an analyst needs to perform calculations on the dataframe from a paricular stock this function aids in the process of analysis.</br>\n",
    "\n",
    "**For an example let us take Google stock and analyse**"
   ]
  },
  {
   "cell_type": "code",
   "execution_count": 27,
   "id": "d28022e1",
   "metadata": {},
   "outputs": [],
   "source": [
    "def finviz_view_pandas_dataframe(ticker):\n",
    "    url = 'https://finviz.com/quote.ashx?t={}'.format(ticker)\n",
    "    # sending request for getting the html code of the Url\n",
    "    try:\n",
    "        request = Request(url=url,headers={'user-agent':'my-app'})\n",
    "        response = urlopen(request)\n",
    "        news_reporter_title = [row.text for row in soup.find_all(class_ ='news-link-right') if row is not None]\n",
    "        news_reported = [row.text for row in soup.find_all(class_ ='news-link-left') if row is not None]\n",
    "        news_url = [row.find('a',href=True)[\"href\"] for row in soup.find_all(class_ ='news-link-left') if row is not None]\n",
    "        date_data = [row.text for row in soup.find_all('td', attrs ={\"width\":\"130\",'align':'right'}) if row is not None]\n",
    "        time = correct_time_formatting(date_data)\n",
    "    except Exception as e:\n",
    "        print(e)\n",
    "    data = { \"Time\":time,'News Reporter': news_reporter_title,\"News Headline\": news_reported, \"URL\": news_url }\n",
    "    finviz_news_df = pd.DataFrame.from_dict(data)\n",
    "    return finviz_news_df"
   ]
  },
  {
   "cell_type": "code",
   "execution_count": 28,
   "id": "1f5886e6",
   "metadata": {},
   "outputs": [
    {
     "data": {
      "text/html": [
       "<div>\n",
       "<style scoped>\n",
       "    .dataframe tbody tr th:only-of-type {\n",
       "        vertical-align: middle;\n",
       "    }\n",
       "\n",
       "    .dataframe tbody tr th {\n",
       "        vertical-align: top;\n",
       "    }\n",
       "\n",
       "    .dataframe thead th {\n",
       "        text-align: right;\n",
       "    }\n",
       "</style>\n",
       "<table border=\"1\" class=\"dataframe\">\n",
       "  <thead>\n",
       "    <tr style=\"text-align: right;\">\n",
       "      <th></th>\n",
       "      <th>Time</th>\n",
       "      <th>News Reporter</th>\n",
       "      <th>News Headline</th>\n",
       "      <th>URL</th>\n",
       "    </tr>\n",
       "  </thead>\n",
       "  <tbody>\n",
       "    <tr>\n",
       "      <th>0</th>\n",
       "      <td>Jul-04-22 07:36AM</td>\n",
       "      <td>Yahoo Finance UK</td>\n",
       "      <td>Tesla recalls faulty cars as safety glitch ide...</td>\n",
       "      <td>https://finance.yahoo.com/news/tesla-recalls-f...</td>\n",
       "    </tr>\n",
       "    <tr>\n",
       "      <th>1</th>\n",
       "      <td>Jul-04-22 04:53AM</td>\n",
       "      <td>Financial Times</td>\n",
       "      <td>Chinese Tesla lithium supplier probed for insi...</td>\n",
       "      <td>https://www.ft.com/cms/s/c44ca0c3-18b0-4deb-99...</td>\n",
       "    </tr>\n",
       "    <tr>\n",
       "      <th>2</th>\n",
       "      <td>Jul-04-22 01:07AM</td>\n",
       "      <td>Investor's Business Daily</td>\n",
       "      <td>Dow Jones Futures Fall: Don't Feed The Bear; B...</td>\n",
       "      <td>https://www.investors.com/market-trend/stock-m...</td>\n",
       "    </tr>\n",
       "    <tr>\n",
       "      <th>3</th>\n",
       "      <td>Jul-03-22 03:46PM</td>\n",
       "      <td>Bloomberg</td>\n",
       "      <td>British Army Twitter, YouTube Accounts Hacked ...</td>\n",
       "      <td>https://finance.yahoo.com/news/british-army-tw...</td>\n",
       "    </tr>\n",
       "    <tr>\n",
       "      <th>4</th>\n",
       "      <td>Jul-03-22 12:23PM</td>\n",
       "      <td>Bloomberg</td>\n",
       "      <td>California Governor Newsom Runs Ads in Florida...</td>\n",
       "      <td>https://finance.yahoo.com/news/california-gove...</td>\n",
       "    </tr>\n",
       "    <tr>\n",
       "      <th>...</th>\n",
       "      <td>...</td>\n",
       "      <td>...</td>\n",
       "      <td>...</td>\n",
       "      <td>...</td>\n",
       "    </tr>\n",
       "    <tr>\n",
       "      <th>95</th>\n",
       "      <td>Jun-30-22 05:00AM</td>\n",
       "      <td>Yahoo Finance Video</td>\n",
       "      <td>3 things that will 'consume us' over the next ...</td>\n",
       "      <td>https://finance.yahoo.com/video/3-things-consu...</td>\n",
       "    </tr>\n",
       "    <tr>\n",
       "      <th>96</th>\n",
       "      <td>Jun-29-22 09:20PM</td>\n",
       "      <td>TipRanks</td>\n",
       "      <td>Tesla: Street Expectations for Q2 Deliveries A...</td>\n",
       "      <td>https://finance.yahoo.com/news/tesla-street-ex...</td>\n",
       "    </tr>\n",
       "    <tr>\n",
       "      <th>97</th>\n",
       "      <td>Jun-29-22 05:45PM</td>\n",
       "      <td>Zacks</td>\n",
       "      <td>Tesla (TSLA) Dips More Than Broader Markets: W...</td>\n",
       "      <td>https://finance.yahoo.com/news/tesla-tsla-dips...</td>\n",
       "    </tr>\n",
       "    <tr>\n",
       "      <th>98</th>\n",
       "      <td>Jun-29-22 05:10PM</td>\n",
       "      <td>Benzinga</td>\n",
       "      <td>Elon Musk: 'A Recession Is Inevitable' - Here ...</td>\n",
       "      <td>https://finance.yahoo.com/news/elon-musk-reces...</td>\n",
       "    </tr>\n",
       "    <tr>\n",
       "      <th>99</th>\n",
       "      <td>Jun-29-22 05:03PM</td>\n",
       "      <td>Yahoo Finance</td>\n",
       "      <td>Roe v. Wade: Companies must create culture of ...</td>\n",
       "      <td>https://finance.yahoo.com/news/roe-v-wade-comp...</td>\n",
       "    </tr>\n",
       "  </tbody>\n",
       "</table>\n",
       "<p>100 rows × 4 columns</p>\n",
       "</div>"
      ],
      "text/plain": [
       "                   Time               News Reporter  \\\n",
       "0   Jul-04-22 07:36AM              Yahoo Finance UK   \n",
       "1   Jul-04-22 04:53AM               Financial Times   \n",
       "2   Jul-04-22 01:07AM     Investor's Business Daily   \n",
       "3   Jul-03-22 03:46PM                     Bloomberg   \n",
       "4   Jul-03-22 12:23PM                     Bloomberg   \n",
       "..                  ...                         ...   \n",
       "95  Jun-30-22 05:00AM           Yahoo Finance Video   \n",
       "96  Jun-29-22 09:20PM                      TipRanks   \n",
       "97  Jun-29-22 05:45PM                         Zacks   \n",
       "98  Jun-29-22 05:10PM                      Benzinga   \n",
       "99  Jun-29-22 05:03PM                 Yahoo Finance   \n",
       "\n",
       "                                        News Headline  \\\n",
       "0   Tesla recalls faulty cars as safety glitch ide...   \n",
       "1   Chinese Tesla lithium supplier probed for insi...   \n",
       "2   Dow Jones Futures Fall: Don't Feed The Bear; B...   \n",
       "3   British Army Twitter, YouTube Accounts Hacked ...   \n",
       "4   California Governor Newsom Runs Ads in Florida...   \n",
       "..                                                ...   \n",
       "95  3 things that will 'consume us' over the next ...   \n",
       "96  Tesla: Street Expectations for Q2 Deliveries A...   \n",
       "97  Tesla (TSLA) Dips More Than Broader Markets: W...   \n",
       "98  Elon Musk: 'A Recession Is Inevitable' - Here ...   \n",
       "99  Roe v. Wade: Companies must create culture of ...   \n",
       "\n",
       "                                                  URL  \n",
       "0   https://finance.yahoo.com/news/tesla-recalls-f...  \n",
       "1   https://www.ft.com/cms/s/c44ca0c3-18b0-4deb-99...  \n",
       "2   https://www.investors.com/market-trend/stock-m...  \n",
       "3   https://finance.yahoo.com/news/british-army-tw...  \n",
       "4   https://finance.yahoo.com/news/california-gove...  \n",
       "..                                                ...  \n",
       "95  https://finance.yahoo.com/video/3-things-consu...  \n",
       "96  https://finance.yahoo.com/news/tesla-street-ex...  \n",
       "97  https://finance.yahoo.com/news/tesla-tsla-dips...  \n",
       "98  https://finance.yahoo.com/news/elon-musk-reces...  \n",
       "99  https://finance.yahoo.com/news/roe-v-wade-comp...  \n",
       "\n",
       "[100 rows x 4 columns]"
      ]
     },
     "execution_count": 28,
     "metadata": {},
     "output_type": "execute_result"
    }
   ],
   "source": [
    "google_stock = finviz_view_pandas_dataframe('GOOG')\n",
    "google_stock"
   ]
  },
  {
   "cell_type": "code",
   "execution_count": 29,
   "id": "9b611ffd",
   "metadata": {},
   "outputs": [
    {
     "data": {
      "text/html": [
       "<div>\n",
       "<style scoped>\n",
       "    .dataframe tbody tr th:only-of-type {\n",
       "        vertical-align: middle;\n",
       "    }\n",
       "\n",
       "    .dataframe tbody tr th {\n",
       "        vertical-align: top;\n",
       "    }\n",
       "\n",
       "    .dataframe thead th {\n",
       "        text-align: right;\n",
       "    }\n",
       "</style>\n",
       "<table border=\"1\" class=\"dataframe\">\n",
       "  <thead>\n",
       "    <tr style=\"text-align: right;\">\n",
       "      <th></th>\n",
       "      <th>Time</th>\n",
       "      <th>News Reporter</th>\n",
       "      <th>News Headline</th>\n",
       "      <th>URL</th>\n",
       "      <th>Time_pdformat</th>\n",
       "    </tr>\n",
       "  </thead>\n",
       "  <tbody>\n",
       "    <tr>\n",
       "      <th>0</th>\n",
       "      <td>Jul-04-22 07:36AM</td>\n",
       "      <td>Yahoo Finance UK</td>\n",
       "      <td>Tesla recalls faulty cars as safety glitch ide...</td>\n",
       "      <td>https://finance.yahoo.com/news/tesla-recalls-f...</td>\n",
       "      <td>2022-07-04 07:36:00</td>\n",
       "    </tr>\n",
       "    <tr>\n",
       "      <th>1</th>\n",
       "      <td>Jul-04-22 04:53AM</td>\n",
       "      <td>Financial Times</td>\n",
       "      <td>Chinese Tesla lithium supplier probed for insi...</td>\n",
       "      <td>https://www.ft.com/cms/s/c44ca0c3-18b0-4deb-99...</td>\n",
       "      <td>2022-07-04 04:53:00</td>\n",
       "    </tr>\n",
       "    <tr>\n",
       "      <th>2</th>\n",
       "      <td>Jul-04-22 01:07AM</td>\n",
       "      <td>Investor's Business Daily</td>\n",
       "      <td>Dow Jones Futures Fall: Don't Feed The Bear; B...</td>\n",
       "      <td>https://www.investors.com/market-trend/stock-m...</td>\n",
       "      <td>2022-07-04 01:07:00</td>\n",
       "    </tr>\n",
       "    <tr>\n",
       "      <th>3</th>\n",
       "      <td>Jul-03-22 03:46PM</td>\n",
       "      <td>Bloomberg</td>\n",
       "      <td>British Army Twitter, YouTube Accounts Hacked ...</td>\n",
       "      <td>https://finance.yahoo.com/news/british-army-tw...</td>\n",
       "      <td>2022-07-03 15:46:00</td>\n",
       "    </tr>\n",
       "    <tr>\n",
       "      <th>4</th>\n",
       "      <td>Jul-03-22 12:23PM</td>\n",
       "      <td>Bloomberg</td>\n",
       "      <td>California Governor Newsom Runs Ads in Florida...</td>\n",
       "      <td>https://finance.yahoo.com/news/california-gove...</td>\n",
       "      <td>2022-07-03 12:23:00</td>\n",
       "    </tr>\n",
       "    <tr>\n",
       "      <th>...</th>\n",
       "      <td>...</td>\n",
       "      <td>...</td>\n",
       "      <td>...</td>\n",
       "      <td>...</td>\n",
       "      <td>...</td>\n",
       "    </tr>\n",
       "    <tr>\n",
       "      <th>95</th>\n",
       "      <td>Jun-30-22 05:00AM</td>\n",
       "      <td>Yahoo Finance Video</td>\n",
       "      <td>3 things that will 'consume us' over the next ...</td>\n",
       "      <td>https://finance.yahoo.com/video/3-things-consu...</td>\n",
       "      <td>2022-06-30 05:00:00</td>\n",
       "    </tr>\n",
       "    <tr>\n",
       "      <th>96</th>\n",
       "      <td>Jun-29-22 09:20PM</td>\n",
       "      <td>TipRanks</td>\n",
       "      <td>Tesla: Street Expectations for Q2 Deliveries A...</td>\n",
       "      <td>https://finance.yahoo.com/news/tesla-street-ex...</td>\n",
       "      <td>2022-06-29 21:20:00</td>\n",
       "    </tr>\n",
       "    <tr>\n",
       "      <th>97</th>\n",
       "      <td>Jun-29-22 05:45PM</td>\n",
       "      <td>Zacks</td>\n",
       "      <td>Tesla (TSLA) Dips More Than Broader Markets: W...</td>\n",
       "      <td>https://finance.yahoo.com/news/tesla-tsla-dips...</td>\n",
       "      <td>2022-06-29 17:45:00</td>\n",
       "    </tr>\n",
       "    <tr>\n",
       "      <th>98</th>\n",
       "      <td>Jun-29-22 05:10PM</td>\n",
       "      <td>Benzinga</td>\n",
       "      <td>Elon Musk: 'A Recession Is Inevitable' - Here ...</td>\n",
       "      <td>https://finance.yahoo.com/news/elon-musk-reces...</td>\n",
       "      <td>2022-06-29 17:10:00</td>\n",
       "    </tr>\n",
       "    <tr>\n",
       "      <th>99</th>\n",
       "      <td>Jun-29-22 05:03PM</td>\n",
       "      <td>Yahoo Finance</td>\n",
       "      <td>Roe v. Wade: Companies must create culture of ...</td>\n",
       "      <td>https://finance.yahoo.com/news/roe-v-wade-comp...</td>\n",
       "      <td>2022-06-29 17:03:00</td>\n",
       "    </tr>\n",
       "  </tbody>\n",
       "</table>\n",
       "<p>100 rows × 5 columns</p>\n",
       "</div>"
      ],
      "text/plain": [
       "                   Time               News Reporter  \\\n",
       "0   Jul-04-22 07:36AM              Yahoo Finance UK   \n",
       "1   Jul-04-22 04:53AM               Financial Times   \n",
       "2   Jul-04-22 01:07AM     Investor's Business Daily   \n",
       "3   Jul-03-22 03:46PM                     Bloomberg   \n",
       "4   Jul-03-22 12:23PM                     Bloomberg   \n",
       "..                  ...                         ...   \n",
       "95  Jun-30-22 05:00AM           Yahoo Finance Video   \n",
       "96  Jun-29-22 09:20PM                      TipRanks   \n",
       "97  Jun-29-22 05:45PM                         Zacks   \n",
       "98  Jun-29-22 05:10PM                      Benzinga   \n",
       "99  Jun-29-22 05:03PM                 Yahoo Finance   \n",
       "\n",
       "                                        News Headline  \\\n",
       "0   Tesla recalls faulty cars as safety glitch ide...   \n",
       "1   Chinese Tesla lithium supplier probed for insi...   \n",
       "2   Dow Jones Futures Fall: Don't Feed The Bear; B...   \n",
       "3   British Army Twitter, YouTube Accounts Hacked ...   \n",
       "4   California Governor Newsom Runs Ads in Florida...   \n",
       "..                                                ...   \n",
       "95  3 things that will 'consume us' over the next ...   \n",
       "96  Tesla: Street Expectations for Q2 Deliveries A...   \n",
       "97  Tesla (TSLA) Dips More Than Broader Markets: W...   \n",
       "98  Elon Musk: 'A Recession Is Inevitable' - Here ...   \n",
       "99  Roe v. Wade: Companies must create culture of ...   \n",
       "\n",
       "                                                  URL       Time_pdformat  \n",
       "0   https://finance.yahoo.com/news/tesla-recalls-f... 2022-07-04 07:36:00  \n",
       "1   https://www.ft.com/cms/s/c44ca0c3-18b0-4deb-99... 2022-07-04 04:53:00  \n",
       "2   https://www.investors.com/market-trend/stock-m... 2022-07-04 01:07:00  \n",
       "3   https://finance.yahoo.com/news/british-army-tw... 2022-07-03 15:46:00  \n",
       "4   https://finance.yahoo.com/news/california-gove... 2022-07-03 12:23:00  \n",
       "..                                                ...                 ...  \n",
       "95  https://finance.yahoo.com/video/3-things-consu... 2022-06-30 05:00:00  \n",
       "96  https://finance.yahoo.com/news/tesla-street-ex... 2022-06-29 21:20:00  \n",
       "97  https://finance.yahoo.com/news/tesla-tsla-dips... 2022-06-29 17:45:00  \n",
       "98  https://finance.yahoo.com/news/elon-musk-reces... 2022-06-29 17:10:00  \n",
       "99  https://finance.yahoo.com/news/roe-v-wade-comp... 2022-06-29 17:03:00  \n",
       "\n",
       "[100 rows x 5 columns]"
      ]
     },
     "execution_count": 29,
     "metadata": {},
     "output_type": "execute_result"
    }
   ],
   "source": [
    "google_stock[\"Time_pdformat\"]= pd.to_datetime(google_stock['Time'],infer_datetime_format=True)\n",
    "google_stock"
   ]
  },
  {
   "cell_type": "markdown",
   "id": "4bc725c5",
   "metadata": {},
   "source": [
    "### 3a_4 Cleaning the data in the data frame"
   ]
  },
  {
   "cell_type": "markdown",
   "id": "62fbda43",
   "metadata": {},
   "source": [
    "1. function:**clean_data(df,column_filter ='News Headline',other_column='Time')**:The sentiment analyzer that we use if effecient like transformers or lower effecient analyzer works much better when the text is cleaned like lower casing, removing punctuation marks, removing stop words and lemmatizing the text. \n",
    "2. function:**(Optional)find_unnecessary_stop_words(df,count) & cleaning_secondary(df,apply_column = \"lemmatizated\"):**\n",
    "The other stop words has to be finded by manual search and these functions aid the process."
   ]
  },
  {
   "cell_type": "code",
   "execution_count": 30,
   "id": "96a31bee",
   "metadata": {},
   "outputs": [
    {
     "data": {
      "text/plain": [
       "['i',\n",
       " 'me',\n",
       " 'my',\n",
       " 'myself',\n",
       " 'we',\n",
       " 'our',\n",
       " 'ours',\n",
       " 'ourselves',\n",
       " 'you',\n",
       " \"you're\",\n",
       " \"you've\",\n",
       " \"you'll\",\n",
       " \"you'd\",\n",
       " 'your',\n",
       " 'yours',\n",
       " 'yourself',\n",
       " 'yourselves',\n",
       " 'he',\n",
       " 'him',\n",
       " 'his',\n",
       " 'himself',\n",
       " 'she',\n",
       " \"she's\",\n",
       " 'her',\n",
       " 'hers',\n",
       " 'herself',\n",
       " 'it',\n",
       " \"it's\",\n",
       " 'its',\n",
       " 'itself',\n",
       " 'they',\n",
       " 'them',\n",
       " 'their',\n",
       " 'theirs',\n",
       " 'themselves',\n",
       " 'what',\n",
       " 'which',\n",
       " 'who',\n",
       " 'whom',\n",
       " 'this',\n",
       " 'that',\n",
       " \"that'll\",\n",
       " 'these',\n",
       " 'those',\n",
       " 'am',\n",
       " 'is',\n",
       " 'are',\n",
       " 'was',\n",
       " 'were',\n",
       " 'be',\n",
       " 'been',\n",
       " 'being',\n",
       " 'have',\n",
       " 'has',\n",
       " 'had',\n",
       " 'having',\n",
       " 'do',\n",
       " 'does',\n",
       " 'did',\n",
       " 'doing',\n",
       " 'a',\n",
       " 'an',\n",
       " 'the',\n",
       " 'and',\n",
       " 'but',\n",
       " 'if',\n",
       " 'or',\n",
       " 'because',\n",
       " 'as',\n",
       " 'until',\n",
       " 'while',\n",
       " 'of',\n",
       " 'at',\n",
       " 'by',\n",
       " 'for',\n",
       " 'with',\n",
       " 'about',\n",
       " 'against',\n",
       " 'between',\n",
       " 'into',\n",
       " 'through',\n",
       " 'during',\n",
       " 'before',\n",
       " 'after',\n",
       " 'above',\n",
       " 'below',\n",
       " 'to',\n",
       " 'from',\n",
       " 'up',\n",
       " 'down',\n",
       " 'in',\n",
       " 'out',\n",
       " 'on',\n",
       " 'off',\n",
       " 'over',\n",
       " 'under',\n",
       " 'again',\n",
       " 'further',\n",
       " 'then',\n",
       " 'once',\n",
       " 'here',\n",
       " 'there',\n",
       " 'when',\n",
       " 'where',\n",
       " 'why',\n",
       " 'how',\n",
       " 'all',\n",
       " 'any',\n",
       " 'both',\n",
       " 'each',\n",
       " 'few',\n",
       " 'more',\n",
       " 'most',\n",
       " 'other',\n",
       " 'some',\n",
       " 'such',\n",
       " 'no',\n",
       " 'nor',\n",
       " 'not',\n",
       " 'only',\n",
       " 'own',\n",
       " 'same',\n",
       " 'so',\n",
       " 'than',\n",
       " 'too',\n",
       " 'very',\n",
       " 's',\n",
       " 't',\n",
       " 'can',\n",
       " 'will',\n",
       " 'just',\n",
       " 'don',\n",
       " \"don't\",\n",
       " 'should',\n",
       " \"should've\",\n",
       " 'now',\n",
       " 'd',\n",
       " 'll',\n",
       " 'm',\n",
       " 'o',\n",
       " 're',\n",
       " 've',\n",
       " 'y',\n",
       " 'ain',\n",
       " 'aren',\n",
       " \"aren't\",\n",
       " 'couldn',\n",
       " \"couldn't\",\n",
       " 'didn',\n",
       " \"didn't\",\n",
       " 'doesn',\n",
       " \"doesn't\",\n",
       " 'hadn',\n",
       " \"hadn't\",\n",
       " 'hasn',\n",
       " \"hasn't\",\n",
       " 'haven',\n",
       " \"haven't\",\n",
       " 'isn',\n",
       " \"isn't\",\n",
       " 'ma',\n",
       " 'mightn',\n",
       " \"mightn't\",\n",
       " 'mustn',\n",
       " \"mustn't\",\n",
       " 'needn',\n",
       " \"needn't\",\n",
       " 'shan',\n",
       " \"shan't\",\n",
       " 'shouldn',\n",
       " \"shouldn't\",\n",
       " 'wasn',\n",
       " \"wasn't\",\n",
       " 'weren',\n",
       " \"weren't\",\n",
       " 'won',\n",
       " \"won't\",\n",
       " 'wouldn',\n",
       " \"wouldn't\"]"
      ]
     },
     "execution_count": 30,
     "metadata": {},
     "output_type": "execute_result"
    }
   ],
   "source": [
    "from nltk.corpus import stopwords\n",
    "stop_words = stopwords.words(\"english\")\n",
    "stop_words"
   ]
  },
  {
   "cell_type": "code",
   "execution_count": 31,
   "id": "ee785145",
   "metadata": {},
   "outputs": [],
   "source": [
    "def clean_data(df,column_filter ='News Headline',other_column='Time_pdformat'):\n",
    "    try:\n",
    "        new_df = df.filter([column_filter,other_column])\n",
    "        new_df['lower_case_headlines'] = new_df[column_filter].apply(lambda x: \" \".join(word.lower() for word in x.split()))\n",
    "        new_df['punctuation_remove'] = new_df['lower_case_headlines'].str.replace(\"[^\\w\\s]\",\"\",regex = True)\n",
    "        new_df[\"stop_words_removed\"] = new_df['punctuation_remove'].apply(lambda x: \" \".join(word for word in x.split() if word not in stop_words))\n",
    "        new_df['lemmatizated'] = new_df[\"stop_words_removed\"].apply(lambda x: ' '.join(Word(word).lemmatize() for word in x.split()))\n",
    "        return new_df\n",
    "    except Exception as e:\n",
    "        print(e)\n",
    "# To find other unnecessary stop word -------->Optional function\n",
    "def find_unnecessary_stop_words(df,count):\n",
    "    try:\n",
    "        series = pd.Series(''.join(df[\"lemmatizated\"]).split()).value_counts()[:count]\n",
    "        return series\n",
    "    except Exception as e:\n",
    "        print(e)\n",
    "def cleaning_secondary(df,apply_column = \"lemmatizated\"):\n",
    "    try:\n",
    "        df['final_sentiment_cleaned'] =df[apply_column].apply(lambda x: \" \".join(word for word in x.split() if word not in other_stop_words ))\n",
    "        return df\n",
    "    except Exception as e:\n",
    "        print(e)"
   ]
  },
  {
   "cell_type": "code",
   "execution_count": 32,
   "id": "dce6b065",
   "metadata": {},
   "outputs": [
    {
     "data": {
      "text/html": [
       "<div>\n",
       "<style scoped>\n",
       "    .dataframe tbody tr th:only-of-type {\n",
       "        vertical-align: middle;\n",
       "    }\n",
       "\n",
       "    .dataframe tbody tr th {\n",
       "        vertical-align: top;\n",
       "    }\n",
       "\n",
       "    .dataframe thead th {\n",
       "        text-align: right;\n",
       "    }\n",
       "</style>\n",
       "<table border=\"1\" class=\"dataframe\">\n",
       "  <thead>\n",
       "    <tr style=\"text-align: right;\">\n",
       "      <th></th>\n",
       "      <th>News Headline</th>\n",
       "      <th>Time_pdformat</th>\n",
       "      <th>lower_case_headlines</th>\n",
       "      <th>punctuation_remove</th>\n",
       "      <th>stop_words_removed</th>\n",
       "      <th>lemmatizated</th>\n",
       "    </tr>\n",
       "  </thead>\n",
       "  <tbody>\n",
       "    <tr>\n",
       "      <th>0</th>\n",
       "      <td>Tesla recalls faulty cars as safety glitch ide...</td>\n",
       "      <td>2022-07-04 07:36:00</td>\n",
       "      <td>tesla recalls faulty cars as safety glitch ide...</td>\n",
       "      <td>tesla recalls faulty cars as safety glitch ide...</td>\n",
       "      <td>tesla recalls faulty cars safety glitch identi...</td>\n",
       "      <td>tesla recall faulty car safety glitch identified</td>\n",
       "    </tr>\n",
       "    <tr>\n",
       "      <th>1</th>\n",
       "      <td>Chinese Tesla lithium supplier probed for insi...</td>\n",
       "      <td>2022-07-04 04:53:00</td>\n",
       "      <td>chinese tesla lithium supplier probed for insi...</td>\n",
       "      <td>chinese tesla lithium supplier probed for insi...</td>\n",
       "      <td>chinese tesla lithium supplier probed insider ...</td>\n",
       "      <td>chinese tesla lithium supplier probed insider ...</td>\n",
       "    </tr>\n",
       "    <tr>\n",
       "      <th>2</th>\n",
       "      <td>Dow Jones Futures Fall: Don't Feed The Bear; B...</td>\n",
       "      <td>2022-07-04 01:07:00</td>\n",
       "      <td>dow jones futures fall: don't feed the bear; b...</td>\n",
       "      <td>dow jones futures fall dont feed the bear byd ...</td>\n",
       "      <td>dow jones futures fall dont feed bear byd leav...</td>\n",
       "      <td>dow jones future fall dont feed bear byd leaf ...</td>\n",
       "    </tr>\n",
       "    <tr>\n",
       "      <th>3</th>\n",
       "      <td>British Army Twitter, YouTube Accounts Hacked ...</td>\n",
       "      <td>2022-07-03 15:46:00</td>\n",
       "      <td>british army twitter, youtube accounts hacked ...</td>\n",
       "      <td>british army twitter youtube accounts hacked w...</td>\n",
       "      <td>british army twitter youtube accounts hacked c...</td>\n",
       "      <td>british army twitter youtube account hacked cr...</td>\n",
       "    </tr>\n",
       "    <tr>\n",
       "      <th>4</th>\n",
       "      <td>California Governor Newsom Runs Ads in Florida...</td>\n",
       "      <td>2022-07-03 12:23:00</td>\n",
       "      <td>california governor newsom runs ads in florida...</td>\n",
       "      <td>california governor newsom runs ads in florida...</td>\n",
       "      <td>california governor newsom runs ads florida at...</td>\n",
       "      <td>california governor newsom run ad florida atta...</td>\n",
       "    </tr>\n",
       "    <tr>\n",
       "      <th>...</th>\n",
       "      <td>...</td>\n",
       "      <td>...</td>\n",
       "      <td>...</td>\n",
       "      <td>...</td>\n",
       "      <td>...</td>\n",
       "      <td>...</td>\n",
       "    </tr>\n",
       "    <tr>\n",
       "      <th>95</th>\n",
       "      <td>3 things that will 'consume us' over the next ...</td>\n",
       "      <td>2022-06-30 05:00:00</td>\n",
       "      <td>3 things that will 'consume us' over the next ...</td>\n",
       "      <td>3 things that will consume us over the next se...</td>\n",
       "      <td>3 things consume us next several decades colum...</td>\n",
       "      <td>3 thing consume u next several decade columbia...</td>\n",
       "    </tr>\n",
       "    <tr>\n",
       "      <th>96</th>\n",
       "      <td>Tesla: Street Expectations for Q2 Deliveries A...</td>\n",
       "      <td>2022-06-29 21:20:00</td>\n",
       "      <td>tesla: street expectations for q2 deliveries a...</td>\n",
       "      <td>tesla street expectations for q2 deliveries ar...</td>\n",
       "      <td>tesla street expectations q2 deliveries high s...</td>\n",
       "      <td>tesla street expectation q2 delivery high say ...</td>\n",
       "    </tr>\n",
       "    <tr>\n",
       "      <th>97</th>\n",
       "      <td>Tesla (TSLA) Dips More Than Broader Markets: W...</td>\n",
       "      <td>2022-06-29 17:45:00</td>\n",
       "      <td>tesla (tsla) dips more than broader markets: w...</td>\n",
       "      <td>tesla tsla dips more than broader markets what...</td>\n",
       "      <td>tesla tsla dips broader markets know</td>\n",
       "      <td>tesla tsla dip broader market know</td>\n",
       "    </tr>\n",
       "    <tr>\n",
       "      <th>98</th>\n",
       "      <td>Elon Musk: 'A Recession Is Inevitable' - Here ...</td>\n",
       "      <td>2022-06-29 17:10:00</td>\n",
       "      <td>elon musk: 'a recession is inevitable' - here ...</td>\n",
       "      <td>elon musk a recession is inevitable  here are ...</td>\n",
       "      <td>elon musk recession inevitable 3 investments k...</td>\n",
       "      <td>elon musk recession inevitable 3 investment ke...</td>\n",
       "    </tr>\n",
       "    <tr>\n",
       "      <th>99</th>\n",
       "      <td>Roe v. Wade: Companies must create culture of ...</td>\n",
       "      <td>2022-06-29 17:03:00</td>\n",
       "      <td>roe v. wade: companies must create culture of ...</td>\n",
       "      <td>roe v wade companies must create culture of ps...</td>\n",
       "      <td>roe v wade companies must create culture psych...</td>\n",
       "      <td>roe v wade company must create culture psychol...</td>\n",
       "    </tr>\n",
       "  </tbody>\n",
       "</table>\n",
       "<p>100 rows × 6 columns</p>\n",
       "</div>"
      ],
      "text/plain": [
       "                                        News Headline       Time_pdformat  \\\n",
       "0   Tesla recalls faulty cars as safety glitch ide... 2022-07-04 07:36:00   \n",
       "1   Chinese Tesla lithium supplier probed for insi... 2022-07-04 04:53:00   \n",
       "2   Dow Jones Futures Fall: Don't Feed The Bear; B... 2022-07-04 01:07:00   \n",
       "3   British Army Twitter, YouTube Accounts Hacked ... 2022-07-03 15:46:00   \n",
       "4   California Governor Newsom Runs Ads in Florida... 2022-07-03 12:23:00   \n",
       "..                                                ...                 ...   \n",
       "95  3 things that will 'consume us' over the next ... 2022-06-30 05:00:00   \n",
       "96  Tesla: Street Expectations for Q2 Deliveries A... 2022-06-29 21:20:00   \n",
       "97  Tesla (TSLA) Dips More Than Broader Markets: W... 2022-06-29 17:45:00   \n",
       "98  Elon Musk: 'A Recession Is Inevitable' - Here ... 2022-06-29 17:10:00   \n",
       "99  Roe v. Wade: Companies must create culture of ... 2022-06-29 17:03:00   \n",
       "\n",
       "                                 lower_case_headlines  \\\n",
       "0   tesla recalls faulty cars as safety glitch ide...   \n",
       "1   chinese tesla lithium supplier probed for insi...   \n",
       "2   dow jones futures fall: don't feed the bear; b...   \n",
       "3   british army twitter, youtube accounts hacked ...   \n",
       "4   california governor newsom runs ads in florida...   \n",
       "..                                                ...   \n",
       "95  3 things that will 'consume us' over the next ...   \n",
       "96  tesla: street expectations for q2 deliveries a...   \n",
       "97  tesla (tsla) dips more than broader markets: w...   \n",
       "98  elon musk: 'a recession is inevitable' - here ...   \n",
       "99  roe v. wade: companies must create culture of ...   \n",
       "\n",
       "                                   punctuation_remove  \\\n",
       "0   tesla recalls faulty cars as safety glitch ide...   \n",
       "1   chinese tesla lithium supplier probed for insi...   \n",
       "2   dow jones futures fall dont feed the bear byd ...   \n",
       "3   british army twitter youtube accounts hacked w...   \n",
       "4   california governor newsom runs ads in florida...   \n",
       "..                                                ...   \n",
       "95  3 things that will consume us over the next se...   \n",
       "96  tesla street expectations for q2 deliveries ar...   \n",
       "97  tesla tsla dips more than broader markets what...   \n",
       "98  elon musk a recession is inevitable  here are ...   \n",
       "99  roe v wade companies must create culture of ps...   \n",
       "\n",
       "                                   stop_words_removed  \\\n",
       "0   tesla recalls faulty cars safety glitch identi...   \n",
       "1   chinese tesla lithium supplier probed insider ...   \n",
       "2   dow jones futures fall dont feed bear byd leav...   \n",
       "3   british army twitter youtube accounts hacked c...   \n",
       "4   california governor newsom runs ads florida at...   \n",
       "..                                                ...   \n",
       "95  3 things consume us next several decades colum...   \n",
       "96  tesla street expectations q2 deliveries high s...   \n",
       "97               tesla tsla dips broader markets know   \n",
       "98  elon musk recession inevitable 3 investments k...   \n",
       "99  roe v wade companies must create culture psych...   \n",
       "\n",
       "                                         lemmatizated  \n",
       "0    tesla recall faulty car safety glitch identified  \n",
       "1   chinese tesla lithium supplier probed insider ...  \n",
       "2   dow jones future fall dont feed bear byd leaf ...  \n",
       "3   british army twitter youtube account hacked cr...  \n",
       "4   california governor newsom run ad florida atta...  \n",
       "..                                                ...  \n",
       "95  3 thing consume u next several decade columbia...  \n",
       "96  tesla street expectation q2 delivery high say ...  \n",
       "97                 tesla tsla dip broader market know  \n",
       "98  elon musk recession inevitable 3 investment ke...  \n",
       "99  roe v wade company must create culture psychol...  \n",
       "\n",
       "[100 rows x 6 columns]"
      ]
     },
     "execution_count": 32,
     "metadata": {},
     "output_type": "execute_result"
    }
   ],
   "source": [
    "cleaned_df = clean_data(google_stock,column_filter ='News Headline',other_column='Time_pdformat') #other_column is generally time field in df\n",
    "cleaned_df"
   ]
  },
  {
   "cell_type": "code",
   "execution_count": 33,
   "id": "42808841",
   "metadata": {},
   "outputs": [
    {
     "data": {
      "text/plain": [
       "tesla       22\n",
       "stock       20\n",
       "delivery    15\n",
       "musk        11\n",
       "say          9\n",
       "q2           9\n",
       "china        7\n",
       "ev           6\n",
       "sale         6\n",
       "vehicle      6\n",
       "hit          5\n",
       "fall         5\n",
       "company      4\n",
       "motor        4\n",
       "lawsuit      4\n",
       "electric     4\n",
       "rival        4\n",
       "li           4\n",
       "first        4\n",
       "record       4\n",
       "jones        4\n",
       "nio          4\n",
       "alleging     4\n",
       "new          4\n",
       "market       4\n",
       "twitter      4\n",
       "climb        3\n",
       "june         3\n",
       "make         3\n",
       "run          3\n",
       "dtype: int64"
      ]
     },
     "execution_count": 33,
     "metadata": {},
     "output_type": "execute_result"
    }
   ],
   "source": [
    "series = find_unnecessary_stop_words(cleaned_df,30)\n",
    "series"
   ]
  },
  {
   "cell_type": "code",
   "execution_count": 34,
   "id": "d68679b6",
   "metadata": {},
   "outputs": [],
   "source": [
    "# manual analysis\n",
    "other_stop_words = ['ev','pickup',\"stock\",'china']"
   ]
  },
  {
   "cell_type": "code",
   "execution_count": 35,
   "id": "543f4fb6",
   "metadata": {},
   "outputs": [
    {
     "data": {
      "text/html": [
       "<div>\n",
       "<style scoped>\n",
       "    .dataframe tbody tr th:only-of-type {\n",
       "        vertical-align: middle;\n",
       "    }\n",
       "\n",
       "    .dataframe tbody tr th {\n",
       "        vertical-align: top;\n",
       "    }\n",
       "\n",
       "    .dataframe thead th {\n",
       "        text-align: right;\n",
       "    }\n",
       "</style>\n",
       "<table border=\"1\" class=\"dataframe\">\n",
       "  <thead>\n",
       "    <tr style=\"text-align: right;\">\n",
       "      <th></th>\n",
       "      <th>News Headline</th>\n",
       "      <th>Time_pdformat</th>\n",
       "      <th>lower_case_headlines</th>\n",
       "      <th>punctuation_remove</th>\n",
       "      <th>stop_words_removed</th>\n",
       "      <th>lemmatizated</th>\n",
       "      <th>final_sentiment_cleaned</th>\n",
       "    </tr>\n",
       "  </thead>\n",
       "  <tbody>\n",
       "    <tr>\n",
       "      <th>0</th>\n",
       "      <td>Tesla recalls faulty cars as safety glitch ide...</td>\n",
       "      <td>2022-07-04 07:36:00</td>\n",
       "      <td>tesla recalls faulty cars as safety glitch ide...</td>\n",
       "      <td>tesla recalls faulty cars as safety glitch ide...</td>\n",
       "      <td>tesla recalls faulty cars safety glitch identi...</td>\n",
       "      <td>tesla recall faulty car safety glitch identified</td>\n",
       "      <td>tesla recall faulty car safety glitch identified</td>\n",
       "    </tr>\n",
       "    <tr>\n",
       "      <th>1</th>\n",
       "      <td>Chinese Tesla lithium supplier probed for insi...</td>\n",
       "      <td>2022-07-04 04:53:00</td>\n",
       "      <td>chinese tesla lithium supplier probed for insi...</td>\n",
       "      <td>chinese tesla lithium supplier probed for insi...</td>\n",
       "      <td>chinese tesla lithium supplier probed insider ...</td>\n",
       "      <td>chinese tesla lithium supplier probed insider ...</td>\n",
       "      <td>chinese tesla lithium supplier probed insider ...</td>\n",
       "    </tr>\n",
       "    <tr>\n",
       "      <th>2</th>\n",
       "      <td>Dow Jones Futures Fall: Don't Feed The Bear; B...</td>\n",
       "      <td>2022-07-04 01:07:00</td>\n",
       "      <td>dow jones futures fall: don't feed the bear; b...</td>\n",
       "      <td>dow jones futures fall dont feed the bear byd ...</td>\n",
       "      <td>dow jones futures fall dont feed bear byd leav...</td>\n",
       "      <td>dow jones future fall dont feed bear byd leaf ...</td>\n",
       "      <td>dow jones future fall dont feed bear byd leaf ...</td>\n",
       "    </tr>\n",
       "    <tr>\n",
       "      <th>3</th>\n",
       "      <td>British Army Twitter, YouTube Accounts Hacked ...</td>\n",
       "      <td>2022-07-03 15:46:00</td>\n",
       "      <td>british army twitter, youtube accounts hacked ...</td>\n",
       "      <td>british army twitter youtube accounts hacked w...</td>\n",
       "      <td>british army twitter youtube accounts hacked c...</td>\n",
       "      <td>british army twitter youtube account hacked cr...</td>\n",
       "      <td>british army twitter youtube account hacked cr...</td>\n",
       "    </tr>\n",
       "    <tr>\n",
       "      <th>4</th>\n",
       "      <td>California Governor Newsom Runs Ads in Florida...</td>\n",
       "      <td>2022-07-03 12:23:00</td>\n",
       "      <td>california governor newsom runs ads in florida...</td>\n",
       "      <td>california governor newsom runs ads in florida...</td>\n",
       "      <td>california governor newsom runs ads florida at...</td>\n",
       "      <td>california governor newsom run ad florida atta...</td>\n",
       "      <td>california governor newsom run ad florida atta...</td>\n",
       "    </tr>\n",
       "    <tr>\n",
       "      <th>...</th>\n",
       "      <td>...</td>\n",
       "      <td>...</td>\n",
       "      <td>...</td>\n",
       "      <td>...</td>\n",
       "      <td>...</td>\n",
       "      <td>...</td>\n",
       "      <td>...</td>\n",
       "    </tr>\n",
       "    <tr>\n",
       "      <th>95</th>\n",
       "      <td>3 things that will 'consume us' over the next ...</td>\n",
       "      <td>2022-06-30 05:00:00</td>\n",
       "      <td>3 things that will 'consume us' over the next ...</td>\n",
       "      <td>3 things that will consume us over the next se...</td>\n",
       "      <td>3 things consume us next several decades colum...</td>\n",
       "      <td>3 thing consume u next several decade columbia...</td>\n",
       "      <td>3 thing consume u next several decade columbia...</td>\n",
       "    </tr>\n",
       "    <tr>\n",
       "      <th>96</th>\n",
       "      <td>Tesla: Street Expectations for Q2 Deliveries A...</td>\n",
       "      <td>2022-06-29 21:20:00</td>\n",
       "      <td>tesla: street expectations for q2 deliveries a...</td>\n",
       "      <td>tesla street expectations for q2 deliveries ar...</td>\n",
       "      <td>tesla street expectations q2 deliveries high s...</td>\n",
       "      <td>tesla street expectation q2 delivery high say ...</td>\n",
       "      <td>tesla street expectation q2 delivery high say ...</td>\n",
       "    </tr>\n",
       "    <tr>\n",
       "      <th>97</th>\n",
       "      <td>Tesla (TSLA) Dips More Than Broader Markets: W...</td>\n",
       "      <td>2022-06-29 17:45:00</td>\n",
       "      <td>tesla (tsla) dips more than broader markets: w...</td>\n",
       "      <td>tesla tsla dips more than broader markets what...</td>\n",
       "      <td>tesla tsla dips broader markets know</td>\n",
       "      <td>tesla tsla dip broader market know</td>\n",
       "      <td>tesla tsla dip broader market know</td>\n",
       "    </tr>\n",
       "    <tr>\n",
       "      <th>98</th>\n",
       "      <td>Elon Musk: 'A Recession Is Inevitable' - Here ...</td>\n",
       "      <td>2022-06-29 17:10:00</td>\n",
       "      <td>elon musk: 'a recession is inevitable' - here ...</td>\n",
       "      <td>elon musk a recession is inevitable  here are ...</td>\n",
       "      <td>elon musk recession inevitable 3 investments k...</td>\n",
       "      <td>elon musk recession inevitable 3 investment ke...</td>\n",
       "      <td>elon musk recession inevitable 3 investment ke...</td>\n",
       "    </tr>\n",
       "    <tr>\n",
       "      <th>99</th>\n",
       "      <td>Roe v. Wade: Companies must create culture of ...</td>\n",
       "      <td>2022-06-29 17:03:00</td>\n",
       "      <td>roe v. wade: companies must create culture of ...</td>\n",
       "      <td>roe v wade companies must create culture of ps...</td>\n",
       "      <td>roe v wade companies must create culture psych...</td>\n",
       "      <td>roe v wade company must create culture psychol...</td>\n",
       "      <td>roe v wade company must create culture psychol...</td>\n",
       "    </tr>\n",
       "  </tbody>\n",
       "</table>\n",
       "<p>100 rows × 7 columns</p>\n",
       "</div>"
      ],
      "text/plain": [
       "                                        News Headline       Time_pdformat  \\\n",
       "0   Tesla recalls faulty cars as safety glitch ide... 2022-07-04 07:36:00   \n",
       "1   Chinese Tesla lithium supplier probed for insi... 2022-07-04 04:53:00   \n",
       "2   Dow Jones Futures Fall: Don't Feed The Bear; B... 2022-07-04 01:07:00   \n",
       "3   British Army Twitter, YouTube Accounts Hacked ... 2022-07-03 15:46:00   \n",
       "4   California Governor Newsom Runs Ads in Florida... 2022-07-03 12:23:00   \n",
       "..                                                ...                 ...   \n",
       "95  3 things that will 'consume us' over the next ... 2022-06-30 05:00:00   \n",
       "96  Tesla: Street Expectations for Q2 Deliveries A... 2022-06-29 21:20:00   \n",
       "97  Tesla (TSLA) Dips More Than Broader Markets: W... 2022-06-29 17:45:00   \n",
       "98  Elon Musk: 'A Recession Is Inevitable' - Here ... 2022-06-29 17:10:00   \n",
       "99  Roe v. Wade: Companies must create culture of ... 2022-06-29 17:03:00   \n",
       "\n",
       "                                 lower_case_headlines  \\\n",
       "0   tesla recalls faulty cars as safety glitch ide...   \n",
       "1   chinese tesla lithium supplier probed for insi...   \n",
       "2   dow jones futures fall: don't feed the bear; b...   \n",
       "3   british army twitter, youtube accounts hacked ...   \n",
       "4   california governor newsom runs ads in florida...   \n",
       "..                                                ...   \n",
       "95  3 things that will 'consume us' over the next ...   \n",
       "96  tesla: street expectations for q2 deliveries a...   \n",
       "97  tesla (tsla) dips more than broader markets: w...   \n",
       "98  elon musk: 'a recession is inevitable' - here ...   \n",
       "99  roe v. wade: companies must create culture of ...   \n",
       "\n",
       "                                   punctuation_remove  \\\n",
       "0   tesla recalls faulty cars as safety glitch ide...   \n",
       "1   chinese tesla lithium supplier probed for insi...   \n",
       "2   dow jones futures fall dont feed the bear byd ...   \n",
       "3   british army twitter youtube accounts hacked w...   \n",
       "4   california governor newsom runs ads in florida...   \n",
       "..                                                ...   \n",
       "95  3 things that will consume us over the next se...   \n",
       "96  tesla street expectations for q2 deliveries ar...   \n",
       "97  tesla tsla dips more than broader markets what...   \n",
       "98  elon musk a recession is inevitable  here are ...   \n",
       "99  roe v wade companies must create culture of ps...   \n",
       "\n",
       "                                   stop_words_removed  \\\n",
       "0   tesla recalls faulty cars safety glitch identi...   \n",
       "1   chinese tesla lithium supplier probed insider ...   \n",
       "2   dow jones futures fall dont feed bear byd leav...   \n",
       "3   british army twitter youtube accounts hacked c...   \n",
       "4   california governor newsom runs ads florida at...   \n",
       "..                                                ...   \n",
       "95  3 things consume us next several decades colum...   \n",
       "96  tesla street expectations q2 deliveries high s...   \n",
       "97               tesla tsla dips broader markets know   \n",
       "98  elon musk recession inevitable 3 investments k...   \n",
       "99  roe v wade companies must create culture psych...   \n",
       "\n",
       "                                         lemmatizated  \\\n",
       "0    tesla recall faulty car safety glitch identified   \n",
       "1   chinese tesla lithium supplier probed insider ...   \n",
       "2   dow jones future fall dont feed bear byd leaf ...   \n",
       "3   british army twitter youtube account hacked cr...   \n",
       "4   california governor newsom run ad florida atta...   \n",
       "..                                                ...   \n",
       "95  3 thing consume u next several decade columbia...   \n",
       "96  tesla street expectation q2 delivery high say ...   \n",
       "97                 tesla tsla dip broader market know   \n",
       "98  elon musk recession inevitable 3 investment ke...   \n",
       "99  roe v wade company must create culture psychol...   \n",
       "\n",
       "                              final_sentiment_cleaned  \n",
       "0    tesla recall faulty car safety glitch identified  \n",
       "1   chinese tesla lithium supplier probed insider ...  \n",
       "2   dow jones future fall dont feed bear byd leaf ...  \n",
       "3   british army twitter youtube account hacked cr...  \n",
       "4   california governor newsom run ad florida atta...  \n",
       "..                                                ...  \n",
       "95  3 thing consume u next several decade columbia...  \n",
       "96  tesla street expectation q2 delivery high say ...  \n",
       "97                 tesla tsla dip broader market know  \n",
       "98  elon musk recession inevitable 3 investment ke...  \n",
       "99  roe v wade company must create culture psychol...  \n",
       "\n",
       "[100 rows x 7 columns]"
      ]
     },
     "execution_count": 35,
     "metadata": {},
     "output_type": "execute_result"
    }
   ],
   "source": [
    "cleaned_final = cleaning_secondary(cleaned_df)\n",
    "cleaned_final"
   ]
  },
  {
   "cell_type": "markdown",
   "id": "37f121cf",
   "metadata": {},
   "source": [
    "### 3a_5 Sentiment Analysis"
   ]
  },
  {
   "cell_type": "markdown",
   "id": "c5006332",
   "metadata": {},
   "source": [
    "#### From Dataframe\n",
    "1.function: **sentiment_analyzer(df,column_applied_df = \"final_sentiment_cleaned\",other_column=\"Time_pdformat\")**:Basically the function uses sentiment analyzers like nltk vader and textblob with df as input."
   ]
  },
  {
   "cell_type": "code",
   "execution_count": 36,
   "id": "13ccbeb5",
   "metadata": {},
   "outputs": [],
   "source": [
    "def sentiment_analyzer(df,column_applied_df = \"final_sentiment_cleaned\",other_column=\"Time_pdformat\"):\n",
    "    try:\n",
    "        \n",
    "        analyzer = SentimentIntensityAnalyzer()\n",
    "        df['nltk_subjective'] = df[column_applied_df].apply(lambda x: analyzer.polarity_scores(x)['compound'])\n",
    "        df['nltk_positive'] = df[column_applied_df].apply(lambda x: analyzer.polarity_scores(x)['pos'])\n",
    "        df['nltk_neutral'] = df[column_applied_df].apply(lambda x: analyzer.polarity_scores(x)['neu'])\n",
    "        df['nltk_negative'] = df[column_applied_df].apply(lambda x: analyzer.polarity_scores(x)['neg'])\n",
    "        df['textblob_polarity'] = df[column_applied_df].apply(lambda x: TextBlob(x).sentiment[0])\n",
    "        df['textblob_subjective'] = df[column_applied_df].apply(lambda x: TextBlob(x).sentiment[1])\n",
    "        #'nltk_positive','nltk_neutral','nltk_negative',\n",
    "        new_df = df.filter([other_column,'News Headline',column_applied_df,'nltk_subjective','textblob_polarity','textblob_subjective'])\n",
    "        return new_df\n",
    "    except Exception as e:\n",
    "        print(e)\n",
    "        #(Optional)\n",
    "        #sentiment = pipeline('sentiment-analysis')\n",
    "        #df['transformers_label']= df[column_applied_df].apply(lambda x: sentiment(x)['label'])\n",
    "        #df['transformers_score']= df[column_applied_df].apply(lambda x: sentiment(x)['score'])"
   ]
  },
  {
   "cell_type": "code",
   "execution_count": 37,
   "id": "169e24c6",
   "metadata": {},
   "outputs": [
    {
     "data": {
      "text/html": [
       "<div>\n",
       "<style scoped>\n",
       "    .dataframe tbody tr th:only-of-type {\n",
       "        vertical-align: middle;\n",
       "    }\n",
       "\n",
       "    .dataframe tbody tr th {\n",
       "        vertical-align: top;\n",
       "    }\n",
       "\n",
       "    .dataframe thead th {\n",
       "        text-align: right;\n",
       "    }\n",
       "</style>\n",
       "<table border=\"1\" class=\"dataframe\">\n",
       "  <thead>\n",
       "    <tr style=\"text-align: right;\">\n",
       "      <th></th>\n",
       "      <th>Time_pdformat</th>\n",
       "      <th>News Headline</th>\n",
       "      <th>final_sentiment_cleaned</th>\n",
       "      <th>nltk_subjective</th>\n",
       "      <th>textblob_polarity</th>\n",
       "      <th>textblob_subjective</th>\n",
       "    </tr>\n",
       "  </thead>\n",
       "  <tbody>\n",
       "    <tr>\n",
       "      <th>0</th>\n",
       "      <td>2022-07-04 07:36:00</td>\n",
       "      <td>Tesla recalls faulty cars as safety glitch ide...</td>\n",
       "      <td>tesla recall faulty car safety glitch identified</td>\n",
       "      <td>0.1280</td>\n",
       "      <td>0.000000</td>\n",
       "      <td>0.000000</td>\n",
       "    </tr>\n",
       "    <tr>\n",
       "      <th>1</th>\n",
       "      <td>2022-07-04 04:53:00</td>\n",
       "      <td>Chinese Tesla lithium supplier probed for insi...</td>\n",
       "      <td>chinese tesla lithium supplier probed insider ...</td>\n",
       "      <td>0.0000</td>\n",
       "      <td>0.000000</td>\n",
       "      <td>0.000000</td>\n",
       "    </tr>\n",
       "    <tr>\n",
       "      <th>2</th>\n",
       "      <td>2022-07-04 01:07:00</td>\n",
       "      <td>Dow Jones Futures Fall: Don't Feed The Bear; B...</td>\n",
       "      <td>dow jones future fall dont feed bear byd leaf ...</td>\n",
       "      <td>0.0000</td>\n",
       "      <td>0.000000</td>\n",
       "      <td>0.125000</td>\n",
       "    </tr>\n",
       "    <tr>\n",
       "      <th>3</th>\n",
       "      <td>2022-07-03 15:46:00</td>\n",
       "      <td>British Army Twitter, YouTube Accounts Hacked ...</td>\n",
       "      <td>british army twitter youtube account hacked cr...</td>\n",
       "      <td>-0.4019</td>\n",
       "      <td>0.000000</td>\n",
       "      <td>0.000000</td>\n",
       "    </tr>\n",
       "    <tr>\n",
       "      <th>4</th>\n",
       "      <td>2022-07-03 12:23:00</td>\n",
       "      <td>California Governor Newsom Runs Ads in Florida...</td>\n",
       "      <td>california governor newsom run ad florida atta...</td>\n",
       "      <td>-0.4588</td>\n",
       "      <td>0.000000</td>\n",
       "      <td>0.000000</td>\n",
       "    </tr>\n",
       "    <tr>\n",
       "      <th>...</th>\n",
       "      <td>...</td>\n",
       "      <td>...</td>\n",
       "      <td>...</td>\n",
       "      <td>...</td>\n",
       "      <td>...</td>\n",
       "      <td>...</td>\n",
       "    </tr>\n",
       "    <tr>\n",
       "      <th>95</th>\n",
       "      <td>2022-06-30 05:00:00</td>\n",
       "      <td>3 things that will 'consume us' over the next ...</td>\n",
       "      <td>3 thing consume u next several decade columbia...</td>\n",
       "      <td>0.0000</td>\n",
       "      <td>0.000000</td>\n",
       "      <td>0.000000</td>\n",
       "    </tr>\n",
       "    <tr>\n",
       "      <th>96</th>\n",
       "      <td>2022-06-29 21:20:00</td>\n",
       "      <td>Tesla: Street Expectations for Q2 Deliveries A...</td>\n",
       "      <td>tesla street expectation q2 delivery high say ...</td>\n",
       "      <td>0.0000</td>\n",
       "      <td>0.160000</td>\n",
       "      <td>0.540000</td>\n",
       "    </tr>\n",
       "    <tr>\n",
       "      <th>97</th>\n",
       "      <td>2022-06-29 17:45:00</td>\n",
       "      <td>Tesla (TSLA) Dips More Than Broader Markets: W...</td>\n",
       "      <td>tesla tsla dip broader market know</td>\n",
       "      <td>0.0000</td>\n",
       "      <td>0.000000</td>\n",
       "      <td>0.000000</td>\n",
       "    </tr>\n",
       "    <tr>\n",
       "      <th>98</th>\n",
       "      <td>2022-06-29 17:10:00</td>\n",
       "      <td>Elon Musk: 'A Recession Is Inevitable' - Here ...</td>\n",
       "      <td>elon musk recession inevitable 3 investment ke...</td>\n",
       "      <td>-0.4215</td>\n",
       "      <td>0.095238</td>\n",
       "      <td>0.545238</td>\n",
       "    </tr>\n",
       "    <tr>\n",
       "      <th>99</th>\n",
       "      <td>2022-06-29 17:03:00</td>\n",
       "      <td>Roe v. Wade: Companies must create culture of ...</td>\n",
       "      <td>roe v wade company must create culture psychol...</td>\n",
       "      <td>0.5994</td>\n",
       "      <td>0.000000</td>\n",
       "      <td>0.100000</td>\n",
       "    </tr>\n",
       "  </tbody>\n",
       "</table>\n",
       "<p>100 rows × 6 columns</p>\n",
       "</div>"
      ],
      "text/plain": [
       "         Time_pdformat                                      News Headline  \\\n",
       "0  2022-07-04 07:36:00  Tesla recalls faulty cars as safety glitch ide...   \n",
       "1  2022-07-04 04:53:00  Chinese Tesla lithium supplier probed for insi...   \n",
       "2  2022-07-04 01:07:00  Dow Jones Futures Fall: Don't Feed The Bear; B...   \n",
       "3  2022-07-03 15:46:00  British Army Twitter, YouTube Accounts Hacked ...   \n",
       "4  2022-07-03 12:23:00  California Governor Newsom Runs Ads in Florida...   \n",
       "..                 ...                                                ...   \n",
       "95 2022-06-30 05:00:00  3 things that will 'consume us' over the next ...   \n",
       "96 2022-06-29 21:20:00  Tesla: Street Expectations for Q2 Deliveries A...   \n",
       "97 2022-06-29 17:45:00  Tesla (TSLA) Dips More Than Broader Markets: W...   \n",
       "98 2022-06-29 17:10:00  Elon Musk: 'A Recession Is Inevitable' - Here ...   \n",
       "99 2022-06-29 17:03:00  Roe v. Wade: Companies must create culture of ...   \n",
       "\n",
       "                              final_sentiment_cleaned  nltk_subjective  \\\n",
       "0    tesla recall faulty car safety glitch identified           0.1280   \n",
       "1   chinese tesla lithium supplier probed insider ...           0.0000   \n",
       "2   dow jones future fall dont feed bear byd leaf ...           0.0000   \n",
       "3   british army twitter youtube account hacked cr...          -0.4019   \n",
       "4   california governor newsom run ad florida atta...          -0.4588   \n",
       "..                                                ...              ...   \n",
       "95  3 thing consume u next several decade columbia...           0.0000   \n",
       "96  tesla street expectation q2 delivery high say ...           0.0000   \n",
       "97                 tesla tsla dip broader market know           0.0000   \n",
       "98  elon musk recession inevitable 3 investment ke...          -0.4215   \n",
       "99  roe v wade company must create culture psychol...           0.5994   \n",
       "\n",
       "    textblob_polarity  textblob_subjective  \n",
       "0            0.000000             0.000000  \n",
       "1            0.000000             0.000000  \n",
       "2            0.000000             0.125000  \n",
       "3            0.000000             0.000000  \n",
       "4            0.000000             0.000000  \n",
       "..                ...                  ...  \n",
       "95           0.000000             0.000000  \n",
       "96           0.160000             0.540000  \n",
       "97           0.000000             0.000000  \n",
       "98           0.095238             0.545238  \n",
       "99           0.000000             0.100000  \n",
       "\n",
       "[100 rows x 6 columns]"
      ]
     },
     "execution_count": 37,
     "metadata": {},
     "output_type": "execute_result"
    }
   ],
   "source": [
    "sentiment = sentiment_analyzer(cleaned_final,column_applied_df = \"final_sentiment_cleaned\") #other_column is generally time field in df\n",
    "sentiment"
   ]
  },
  {
   "cell_type": "code",
   "execution_count": 38,
   "id": "24c61e3e",
   "metadata": {},
   "outputs": [
    {
     "data": {
      "text/html": [
       "<div>\n",
       "<style scoped>\n",
       "    .dataframe tbody tr th:only-of-type {\n",
       "        vertical-align: middle;\n",
       "    }\n",
       "\n",
       "    .dataframe tbody tr th {\n",
       "        vertical-align: top;\n",
       "    }\n",
       "\n",
       "    .dataframe thead th {\n",
       "        text-align: right;\n",
       "    }\n",
       "</style>\n",
       "<table border=\"1\" class=\"dataframe\">\n",
       "  <thead>\n",
       "    <tr style=\"text-align: right;\">\n",
       "      <th></th>\n",
       "      <th>Time_pdformat</th>\n",
       "      <th>News Headline</th>\n",
       "      <th>final_sentiment_cleaned</th>\n",
       "      <th>nltk_subjective</th>\n",
       "      <th>textblob_polarity</th>\n",
       "      <th>textblob_subjective</th>\n",
       "    </tr>\n",
       "  </thead>\n",
       "  <tbody>\n",
       "    <tr>\n",
       "      <th>33</th>\n",
       "      <td>2022-07-01 18:20:00</td>\n",
       "      <td>Tesla was hit with yet more lawsuits alleging ...</td>\n",
       "      <td>tesla hit yet lawsuit alleging racism sexual h...</td>\n",
       "      <td>-0.8591</td>\n",
       "      <td>0.500000</td>\n",
       "      <td>0.833333</td>\n",
       "    </tr>\n",
       "    <tr>\n",
       "      <th>38</th>\n",
       "      <td>2022-07-01 13:55:00</td>\n",
       "      <td>UPDATE 1-Tesla hit by new lawsuit alleging rac...</td>\n",
       "      <td>update 1tesla hit new lawsuit alleging racial ...</td>\n",
       "      <td>-0.7269</td>\n",
       "      <td>-0.015152</td>\n",
       "      <td>0.443939</td>\n",
       "    </tr>\n",
       "    <tr>\n",
       "      <th>58</th>\n",
       "      <td>2022-06-30 22:39:00</td>\n",
       "      <td>Tesla hit by new lawsuit alleging racial abuse...</td>\n",
       "      <td>tesla hit new lawsuit alleging racial abuse bl...</td>\n",
       "      <td>-0.7269</td>\n",
       "      <td>-0.015152</td>\n",
       "      <td>0.443939</td>\n",
       "    </tr>\n",
       "    <tr>\n",
       "      <th>51</th>\n",
       "      <td>2022-07-01 08:33:00</td>\n",
       "      <td>Tesla hit by new lawsuit alleging blatant, ope...</td>\n",
       "      <td>tesla hit new lawsuit alleging blatant open un...</td>\n",
       "      <td>-0.7184</td>\n",
       "      <td>-0.121212</td>\n",
       "      <td>0.484848</td>\n",
       "    </tr>\n",
       "    <tr>\n",
       "      <th>63</th>\n",
       "      <td>2022-06-30 16:16:00</td>\n",
       "      <td>Elon Musk takes notice as Kia, Hyundai climb E...</td>\n",
       "      <td>elon musk take notice kia hyundai climb sale c...</td>\n",
       "      <td>-0.6369</td>\n",
       "      <td>0.000000</td>\n",
       "      <td>0.000000</td>\n",
       "    </tr>\n",
       "    <tr>\n",
       "      <th>...</th>\n",
       "      <td>...</td>\n",
       "      <td>...</td>\n",
       "      <td>...</td>\n",
       "      <td>...</td>\n",
       "      <td>...</td>\n",
       "      <td>...</td>\n",
       "    </tr>\n",
       "    <tr>\n",
       "      <th>99</th>\n",
       "      <td>2022-06-29 17:03:00</td>\n",
       "      <td>Roe v. Wade: Companies must create culture of ...</td>\n",
       "      <td>roe v wade company must create culture psychol...</td>\n",
       "      <td>0.5994</td>\n",
       "      <td>0.000000</td>\n",
       "      <td>0.100000</td>\n",
       "    </tr>\n",
       "    <tr>\n",
       "      <th>6</th>\n",
       "      <td>2022-07-03 10:56:00</td>\n",
       "      <td>Tesla Q2 deliveries hit by China shutdowns; sa...</td>\n",
       "      <td>tesla q2 delivery hit shutdown say june best m...</td>\n",
       "      <td>0.6369</td>\n",
       "      <td>1.000000</td>\n",
       "      <td>0.300000</td>\n",
       "    </tr>\n",
       "    <tr>\n",
       "      <th>27</th>\n",
       "      <td>2022-07-02 09:32:00</td>\n",
       "      <td>1 Semiconductor Growth Stock You'll Wish You'd...</td>\n",
       "      <td>1 semiconductor growth youll wish youd bought dip</td>\n",
       "      <td>0.6486</td>\n",
       "      <td>0.000000</td>\n",
       "      <td>0.000000</td>\n",
       "    </tr>\n",
       "    <tr>\n",
       "      <th>15</th>\n",
       "      <td>2022-07-02 20:15:00</td>\n",
       "      <td>Special treatment for Tesla not in Indias inte...</td>\n",
       "      <td>special treatment tesla india interest ola say</td>\n",
       "      <td>0.6908</td>\n",
       "      <td>0.357143</td>\n",
       "      <td>0.571429</td>\n",
       "    </tr>\n",
       "    <tr>\n",
       "      <th>81</th>\n",
       "      <td>2022-06-30 10:42:00</td>\n",
       "      <td>Top Millennial, Gen Z Stocks Shift To Energy P...</td>\n",
       "      <td>top millennial gen z shift energy play popular...</td>\n",
       "      <td>0.7184</td>\n",
       "      <td>0.550000</td>\n",
       "      <td>0.700000</td>\n",
       "    </tr>\n",
       "  </tbody>\n",
       "</table>\n",
       "<p>100 rows × 6 columns</p>\n",
       "</div>"
      ],
      "text/plain": [
       "         Time_pdformat                                      News Headline  \\\n",
       "33 2022-07-01 18:20:00  Tesla was hit with yet more lawsuits alleging ...   \n",
       "38 2022-07-01 13:55:00  UPDATE 1-Tesla hit by new lawsuit alleging rac...   \n",
       "58 2022-06-30 22:39:00  Tesla hit by new lawsuit alleging racial abuse...   \n",
       "51 2022-07-01 08:33:00  Tesla hit by new lawsuit alleging blatant, ope...   \n",
       "63 2022-06-30 16:16:00  Elon Musk takes notice as Kia, Hyundai climb E...   \n",
       "..                 ...                                                ...   \n",
       "99 2022-06-29 17:03:00  Roe v. Wade: Companies must create culture of ...   \n",
       "6  2022-07-03 10:56:00  Tesla Q2 deliveries hit by China shutdowns; sa...   \n",
       "27 2022-07-02 09:32:00  1 Semiconductor Growth Stock You'll Wish You'd...   \n",
       "15 2022-07-02 20:15:00  Special treatment for Tesla not in Indias inte...   \n",
       "81 2022-06-30 10:42:00  Top Millennial, Gen Z Stocks Shift To Energy P...   \n",
       "\n",
       "                              final_sentiment_cleaned  nltk_subjective  \\\n",
       "33  tesla hit yet lawsuit alleging racism sexual h...          -0.8591   \n",
       "38  update 1tesla hit new lawsuit alleging racial ...          -0.7269   \n",
       "58  tesla hit new lawsuit alleging racial abuse bl...          -0.7269   \n",
       "51  tesla hit new lawsuit alleging blatant open un...          -0.7184   \n",
       "63  elon musk take notice kia hyundai climb sale c...          -0.6369   \n",
       "..                                                ...              ...   \n",
       "99  roe v wade company must create culture psychol...           0.5994   \n",
       "6   tesla q2 delivery hit shutdown say june best m...           0.6369   \n",
       "27  1 semiconductor growth youll wish youd bought dip           0.6486   \n",
       "15     special treatment tesla india interest ola say           0.6908   \n",
       "81  top millennial gen z shift energy play popular...           0.7184   \n",
       "\n",
       "    textblob_polarity  textblob_subjective  \n",
       "33           0.500000             0.833333  \n",
       "38          -0.015152             0.443939  \n",
       "58          -0.015152             0.443939  \n",
       "51          -0.121212             0.484848  \n",
       "63           0.000000             0.000000  \n",
       "..                ...                  ...  \n",
       "99           0.000000             0.100000  \n",
       "6            1.000000             0.300000  \n",
       "27           0.000000             0.000000  \n",
       "15           0.357143             0.571429  \n",
       "81           0.550000             0.700000  \n",
       "\n",
       "[100 rows x 6 columns]"
      ]
     },
     "execution_count": 38,
     "metadata": {},
     "output_type": "execute_result"
    }
   ],
   "source": [
    "sentiment_df= sentiment.sort_values(by=['nltk_subjective','textblob_polarity',\"textblob_subjective\"],ascending=[True,True,True],na_position='first')\n",
    "sentiment_df"
   ]
  },
  {
   "cell_type": "code",
   "execution_count": 39,
   "id": "0bfb1e01",
   "metadata": {},
   "outputs": [
    {
     "name": "stdout",
     "output_type": "stream",
     "text": [
      "file created\n"
     ]
    }
   ],
   "source": [
    "sentiment_df.to_csv('sentiment_google.csv')\n",
    "print(\"file created\")"
   ]
  },
  {
   "cell_type": "code",
   "execution_count": 40,
   "id": "a17f311d",
   "metadata": {},
   "outputs": [],
   "source": [
    "# Visualization function\n",
    "def matplotlib_sentiment(dates,values):\n",
    "    try:\n",
    "        graph_data = plt.scatter(dates,values)\n",
    "        return graph_data\n",
    "    except Exception as e:\n",
    "        print(e)"
   ]
  },
  {
   "cell_type": "code",
   "execution_count": 41,
   "id": "d4104ac8",
   "metadata": {},
   "outputs": [
    {
     "data": {
      "text/plain": [
       "<matplotlib.collections.PathCollection at 0x1f4ca8729d0>"
      ]
     },
     "execution_count": 41,
     "metadata": {},
     "output_type": "execute_result"
    },
    {
     "data": {
      "image/png": "[encoded data removed]",
      "text/plain": [
       "<Figure size 432x288 with 1 Axes>"
      ]
     },
     "metadata": {
      "needs_background": "light"
     },
     "output_type": "display_data"
    }
   ],
   "source": [
    "matplotlib_sentiment(sentiment_df['Time_pdformat'],sentiment_df[\"nltk_subjective\"])"
   ]
  },
  {
   "cell_type": "code",
   "execution_count": 42,
   "id": "dd91a4e5",
   "metadata": {},
   "outputs": [
    {
     "data": {
      "text/plain": [
       "<matplotlib.collections.PathCollection at 0x1f4cd6d80d0>"
      ]
     },
     "execution_count": 42,
     "metadata": {},
     "output_type": "execute_result"
    },
    {
     "data": {
      "image/png": "[encoded data removed]",
      "text/plain": [
       "<Figure size 432x288 with 1 Axes>"
      ]
     },
     "metadata": {
      "needs_background": "light"
     },
     "output_type": "display_data"
    }
   ],
   "source": [
    "matplotlib_sentiment(sentiment_df['Time_pdformat'],sentiment_df[\"textblob_subjective\"])"
   ]
  },
  {
   "cell_type": "code",
   "execution_count": 43,
   "id": "f8e61394",
   "metadata": {},
   "outputs": [
    {
     "data": {
      "text/plain": [
       "<matplotlib.collections.PathCollection at 0x1f4ca90d610>"
      ]
     },
     "execution_count": 43,
     "metadata": {},
     "output_type": "execute_result"
    },
    {
     "data": {
      "image/png": "[encoded data removed]",
      "text/plain": [
       "<Figure size 432x288 with 1 Axes>"
      ]
     },
     "metadata": {
      "needs_background": "light"
     },
     "output_type": "display_data"
    }
   ],
   "source": [
    "matplotlib_sentiment(sentiment_df['Time_pdformat'],sentiment_df[\"textblob_polarity\"])"
   ]
  },
  {
   "cell_type": "markdown",
   "id": "656cbd5b",
   "metadata": {},
   "source": [
    "#### From file"
   ]
  },
  {
   "cell_type": "code",
   "execution_count": 44,
   "id": "eeb964cc",
   "metadata": {},
   "outputs": [],
   "source": [
    "def sentiment_analyzer_from_file(file_name):\n",
    "    import pandas as pd\n",
    "    try:\n",
    "        df = pd.read_csv(file_name).drop([\"Unnamed: 0\"],axis = 1)\n",
    "        clean_df = clean_data(df,column_filter ='News Headline')\n",
    "        sentiment_df = sentiment_analyzer(clean_df,column_applied_df = \"lemmatizated\")\n",
    "        return sentiment_df\n",
    "    except Exception as e:\n",
    "        print(e)"
   ]
  },
  {
   "cell_type": "code",
   "execution_count": 45,
   "id": "37233a98",
   "metadata": {},
   "outputs": [
    {
     "name": "stdout",
     "output_type": "stream",
     "text": [
      "[Errno 2] No such file or directory: 'WOOF_finviz_stock.csv'\n"
     ]
    }
   ],
   "source": [
    "sentiment_analyzer_from_file('WOOF_finviz_stock.csv')"
   ]
  },
  {
   "cell_type": "markdown",
   "id": "21a56fd9",
   "metadata": {},
   "source": [
    "### 3a_6 Scraping Articles"
   ]
  },
  {
   "cell_type": "markdown",
   "id": "bb1a26f3",
   "metadata": {},
   "source": [
    "##### From Urls"
   ]
  },
  {
   "cell_type": "code",
   "execution_count": 46,
   "id": "9c3136ff",
   "metadata": {},
   "outputs": [
    {
     "data": {
      "text/plain": [
       "0     https://finance.yahoo.com/news/tesla-recalls-f...\n",
       "1     https://www.ft.com/cms/s/c44ca0c3-18b0-4deb-99...\n",
       "2     https://www.investors.com/market-trend/stock-m...\n",
       "3     https://finance.yahoo.com/news/british-army-tw...\n",
       "4     https://finance.yahoo.com/news/california-gove...\n",
       "                            ...                        \n",
       "95    https://finance.yahoo.com/video/3-things-consu...\n",
       "96    https://finance.yahoo.com/news/tesla-street-ex...\n",
       "97    https://finance.yahoo.com/news/tesla-tsla-dips...\n",
       "98    https://finance.yahoo.com/news/elon-musk-reces...\n",
       "99    https://finance.yahoo.com/news/roe-v-wade-comp...\n",
       "Name: URL, Length: 100, dtype: object"
      ]
     },
     "execution_count": 46,
     "metadata": {},
     "output_type": "execute_result"
    }
   ],
   "source": [
    "#google_stock = finviz_view_pandas_dataframe('GOOG') previously executed\n",
    "Url= google_stock[\"URL\"]\n",
    "Url"
   ]
  },
  {
   "cell_type": "markdown",
   "id": "bc7e3067",
   "metadata": {},
   "source": [
    "##### From df"
   ]
  },
  {
   "cell_type": "code",
   "execution_count": 47,
   "id": "107edbe0",
   "metadata": {},
   "outputs": [
    {
     "name": "stdout",
     "output_type": "stream",
     "text": [
      "1\n",
      "2\n",
      "3\n",
      "4\n",
      "5\n",
      "6\n",
      "7\n",
      "8\n",
      "9\n",
      "10\n",
      "11\n",
      "12\n",
      "13\n",
      "14\n",
      "15\n",
      "16\n",
      "17\n",
      "18\n",
      "19\n",
      "20\n",
      "21\n",
      "22\n",
      "23\n",
      "24\n",
      "25\n",
      "26\n",
      "27\n",
      "28\n",
      "29\n",
      "30\n",
      "31\n",
      "32\n",
      "33\n",
      "34\n",
      "35\n",
      "36\n",
      "37\n",
      "38\n",
      "39\n",
      "40\n",
      "41\n",
      "42\n",
      "43\n",
      "44\n",
      "45\n",
      "46\n",
      "47\n",
      "48\n",
      "49\n",
      "50\n",
      "51\n",
      "52\n",
      "53\n",
      "54\n",
      "55\n",
      "56\n",
      "57\n",
      "58\n",
      "59\n",
      "60\n",
      "61\n",
      "62\n",
      "63\n",
      "64\n",
      "65\n",
      "66\n",
      "67\n",
      "68\n",
      "69\n",
      "70\n",
      "71\n",
      "72\n",
      "73\n",
      "74\n",
      "75\n",
      "76\n",
      "77\n",
      "78\n",
      "79\n",
      "80\n",
      "81\n",
      "82\n",
      "83\n",
      "84\n",
      "85\n",
      "86\n",
      "87\n",
      "88\n",
      "89\n",
      "90\n",
      "91\n",
      "92\n",
      "93\n",
      "94\n",
      "95\n",
      "96\n",
      "97\n",
      "98\n",
      "99\n",
      "100\n",
      "google_summaries.csv is created\n"
     ]
    },
    {
     "data": {
      "text/html": [
       "<div>\n",
       "<style scoped>\n",
       "    .dataframe tbody tr th:only-of-type {\n",
       "        vertical-align: middle;\n",
       "    }\n",
       "\n",
       "    .dataframe tbody tr th {\n",
       "        vertical-align: top;\n",
       "    }\n",
       "\n",
       "    .dataframe thead th {\n",
       "        text-align: right;\n",
       "    }\n",
       "</style>\n",
       "<table border=\"1\" class=\"dataframe\">\n",
       "  <thead>\n",
       "    <tr style=\"text-align: right;\">\n",
       "      <th></th>\n",
       "      <th>Article_title</th>\n",
       "      <th>Article_summary</th>\n",
       "      <th>URL</th>\n",
       "    </tr>\n",
       "  </thead>\n",
       "  <tbody>\n",
       "    <tr>\n",
       "      <th>0</th>\n",
       "      <td>Tesla recalls faulty cars as safety glitch ide...</td>\n",
       "      <td>Tesla's Model 3 is currently the best-selling ...</td>\n",
       "      <td>https://finance.yahoo.com/news/tesla-recalls-f...</td>\n",
       "    </tr>\n",
       "    <tr>\n",
       "      <th>1</th>\n",
       "      <td>Subscribe to read</td>\n",
       "      <td>Become an FT subscriber to read:Leverage our m...</td>\n",
       "      <td>https://www.ft.com/cms/s/c44ca0c3-18b0-4deb-99...</td>\n",
       "    </tr>\n",
       "    <tr>\n",
       "      <th>2</th>\n",
       "      <td>Article `download()` failed with 403 Client Er...</td>\n",
       "      <td>Article `download()` failed with 403 Client Er...</td>\n",
       "      <td>https://www.investors.com/market-trend/stock-m...</td>\n",
       "    </tr>\n",
       "    <tr>\n",
       "      <th>3</th>\n",
       "      <td>British Army Twitter, YouTube Accounts Hacked ...</td>\n",
       "      <td>(Bloomberg) -- The British Army’s Twitter and ...</td>\n",
       "      <td>https://finance.yahoo.com/news/british-army-tw...</td>\n",
       "    </tr>\n",
       "    <tr>\n",
       "      <th>4</th>\n",
       "      <td>California Governor Newsom Runs Ads in Florida...</td>\n",
       "      <td>(Bloomberg) -- California Governor Gavin Newso...</td>\n",
       "      <td>https://finance.yahoo.com/news/california-gove...</td>\n",
       "    </tr>\n",
       "    <tr>\n",
       "      <th>...</th>\n",
       "      <td>...</td>\n",
       "      <td>...</td>\n",
       "      <td>...</td>\n",
       "    </tr>\n",
       "    <tr>\n",
       "      <th>95</th>\n",
       "      <td>3 things that will 'consume us' over the next ...</td>\n",
       "      <td>Motley FoolIf there's a perfect word to sum up...</td>\n",
       "      <td>https://finance.yahoo.com/video/3-things-consu...</td>\n",
       "    </tr>\n",
       "    <tr>\n",
       "      <th>96</th>\n",
       "      <td>Tesla: Street Expectations for Q2 Deliveries A...</td>\n",
       "      <td>Reflecting the extended Covid-19-related shutd...</td>\n",
       "      <td>https://finance.yahoo.com/news/tesla-street-ex...</td>\n",
       "    </tr>\n",
       "    <tr>\n",
       "      <th>97</th>\n",
       "      <td>Tesla (TSLA) Dips More Than Broader Markets: W...</td>\n",
       "      <td>Tesla (TSLA) closed at $685.47 in the latest t...</td>\n",
       "      <td>https://finance.yahoo.com/news/tesla-tsla-dips...</td>\n",
       "    </tr>\n",
       "    <tr>\n",
       "      <th>98</th>\n",
       "      <td>Elon Musk: 'A Recession Is Inevitable' - Here ...</td>\n",
       "      <td>In fact, the majority of the stocks that Warre...</td>\n",
       "      <td>https://finance.yahoo.com/news/elon-musk-reces...</td>\n",
       "    </tr>\n",
       "    <tr>\n",
       "      <th>99</th>\n",
       "      <td>Roe v. Wade: Companies must create culture of ...</td>\n",
       "      <td>The U.S. Supreme Court on Friday overturned Ro...</td>\n",
       "      <td>https://finance.yahoo.com/news/roe-v-wade-comp...</td>\n",
       "    </tr>\n",
       "  </tbody>\n",
       "</table>\n",
       "<p>100 rows × 3 columns</p>\n",
       "</div>"
      ],
      "text/plain": [
       "                                        Article_title  \\\n",
       "0   Tesla recalls faulty cars as safety glitch ide...   \n",
       "1                                   Subscribe to read   \n",
       "2   Article `download()` failed with 403 Client Er...   \n",
       "3   British Army Twitter, YouTube Accounts Hacked ...   \n",
       "4   California Governor Newsom Runs Ads in Florida...   \n",
       "..                                                ...   \n",
       "95  3 things that will 'consume us' over the next ...   \n",
       "96  Tesla: Street Expectations for Q2 Deliveries A...   \n",
       "97  Tesla (TSLA) Dips More Than Broader Markets: W...   \n",
       "98  Elon Musk: 'A Recession Is Inevitable' - Here ...   \n",
       "99  Roe v. Wade: Companies must create culture of ...   \n",
       "\n",
       "                                      Article_summary  \\\n",
       "0   Tesla's Model 3 is currently the best-selling ...   \n",
       "1   Become an FT subscriber to read:Leverage our m...   \n",
       "2   Article `download()` failed with 403 Client Er...   \n",
       "3   (Bloomberg) -- The British Army’s Twitter and ...   \n",
       "4   (Bloomberg) -- California Governor Gavin Newso...   \n",
       "..                                                ...   \n",
       "95  Motley FoolIf there's a perfect word to sum up...   \n",
       "96  Reflecting the extended Covid-19-related shutd...   \n",
       "97  Tesla (TSLA) closed at $685.47 in the latest t...   \n",
       "98  In fact, the majority of the stocks that Warre...   \n",
       "99  The U.S. Supreme Court on Friday overturned Ro...   \n",
       "\n",
       "                                                  URL  \n",
       "0   https://finance.yahoo.com/news/tesla-recalls-f...  \n",
       "1   https://www.ft.com/cms/s/c44ca0c3-18b0-4deb-99...  \n",
       "2   https://www.investors.com/market-trend/stock-m...  \n",
       "3   https://finance.yahoo.com/news/british-army-tw...  \n",
       "4   https://finance.yahoo.com/news/california-gove...  \n",
       "..                                                ...  \n",
       "95  https://finance.yahoo.com/video/3-things-consu...  \n",
       "96  https://finance.yahoo.com/news/tesla-street-ex...  \n",
       "97  https://finance.yahoo.com/news/tesla-tsla-dips...  \n",
       "98  https://finance.yahoo.com/news/elon-musk-reces...  \n",
       "99  https://finance.yahoo.com/news/roe-v-wade-comp...  \n",
       "\n",
       "[100 rows x 3 columns]"
      ]
     },
     "execution_count": 47,
     "metadata": {},
     "output_type": "execute_result"
    }
   ],
   "source": [
    "newspaper3k_summary_from_df(google_stock,output_file_name='google_summaries')"
   ]
  },
  {
   "cell_type": "markdown",
   "id": "ead6d47a",
   "metadata": {},
   "source": [
    "##### From file"
   ]
  },
  {
   "cell_type": "code",
   "execution_count": 48,
   "id": "a442f0ea",
   "metadata": {},
   "outputs": [
    {
     "ename": "FileNotFoundError",
     "evalue": "[Errno 2] No such file or directory: 'MSFT_finviz_stock.csv'",
     "output_type": "error",
     "traceback": [
      "\u001b[1;31m---------------------------------------------------------------------------\u001b[0m",
      "\u001b[1;31mFileNotFoundError\u001b[0m                         Traceback (most recent call last)",
      "\u001b[1;32m<ipython-input-48-9bf290df939a>\u001b[0m in \u001b[0;36m<module>\u001b[1;34m\u001b[0m\n\u001b[1;32m----> 1\u001b[1;33m \u001b[0mnewspaper3k_summary_from_csvfile\u001b[0m\u001b[1;33m(\u001b[0m\u001b[1;34m\"MSFT_finviz_stock.csv\"\u001b[0m\u001b[1;33m,\u001b[0m\u001b[0moutput_file_name\u001b[0m\u001b[1;33m=\u001b[0m\u001b[1;34m'MSFT_6_summaries'\u001b[0m\u001b[1;33m)\u001b[0m\u001b[1;33m\u001b[0m\u001b[1;33m\u001b[0m\u001b[0m\n\u001b[0m",
      "\u001b[1;32m<ipython-input-19-1074048b9a38>\u001b[0m in \u001b[0;36mnewspaper3k_summary_from_csvfile\u001b[1;34m(file_name, output_file_name)\u001b[0m\n\u001b[0;32m     30\u001b[0m     \u001b[1;32mreturn\u001b[0m \u001b[0msummary_df\u001b[0m\u001b[1;33m\u001b[0m\u001b[1;33m\u001b[0m\u001b[0m\n\u001b[0;32m     31\u001b[0m \u001b[1;32mdef\u001b[0m \u001b[0mnewspaper3k_summary_from_csvfile\u001b[0m\u001b[1;33m(\u001b[0m\u001b[0mfile_name\u001b[0m\u001b[1;33m,\u001b[0m\u001b[0moutput_file_name\u001b[0m\u001b[1;33m=\u001b[0m\u001b[1;34m'summaries'\u001b[0m\u001b[1;33m)\u001b[0m\u001b[1;33m:\u001b[0m\u001b[1;33m\u001b[0m\u001b[1;33m\u001b[0m\u001b[0m\n\u001b[1;32m---> 32\u001b[1;33m     \u001b[0mdf\u001b[0m \u001b[1;33m=\u001b[0m \u001b[0mpd\u001b[0m\u001b[1;33m.\u001b[0m\u001b[0mread_csv\u001b[0m\u001b[1;33m(\u001b[0m\u001b[0mfile_name\u001b[0m\u001b[1;33m)\u001b[0m\u001b[1;33m.\u001b[0m\u001b[0mdrop\u001b[0m\u001b[1;33m(\u001b[0m\u001b[1;33m[\u001b[0m\u001b[1;34m\"Unnamed: 0\"\u001b[0m\u001b[1;33m]\u001b[0m\u001b[1;33m,\u001b[0m\u001b[0maxis\u001b[0m \u001b[1;33m=\u001b[0m \u001b[1;36m1\u001b[0m\u001b[1;33m)\u001b[0m\u001b[1;33m\u001b[0m\u001b[1;33m\u001b[0m\u001b[0m\n\u001b[0m\u001b[0;32m     33\u001b[0m     \u001b[0murl_df\u001b[0m\u001b[1;33m=\u001b[0m \u001b[0mdf\u001b[0m\u001b[1;33m[\u001b[0m\u001b[1;34m\"URL\"\u001b[0m\u001b[1;33m]\u001b[0m\u001b[1;33m\u001b[0m\u001b[1;33m\u001b[0m\u001b[0m\n\u001b[0;32m     34\u001b[0m     \u001b[0marticle_summary\u001b[0m\u001b[1;33m=\u001b[0m\u001b[1;33m[\u001b[0m\u001b[1;33m]\u001b[0m\u001b[1;33m\u001b[0m\u001b[1;33m\u001b[0m\u001b[0m\n",
      "\u001b[1;32mC:\\ProgramData\\Anaconda3\\lib\\site-packages\\pandas\\io\\parsers.py\u001b[0m in \u001b[0;36mread_csv\u001b[1;34m(filepath_or_buffer, sep, delimiter, header, names, index_col, usecols, squeeze, prefix, mangle_dupe_cols, dtype, engine, converters, true_values, false_values, skipinitialspace, skiprows, skipfooter, nrows, na_values, keep_default_na, na_filter, verbose, skip_blank_lines, parse_dates, infer_datetime_format, keep_date_col, date_parser, dayfirst, cache_dates, iterator, chunksize, compression, thousands, decimal, lineterminator, quotechar, quoting, doublequote, escapechar, comment, encoding, dialect, error_bad_lines, warn_bad_lines, delim_whitespace, low_memory, memory_map, float_precision, storage_options)\u001b[0m\n\u001b[0;32m    608\u001b[0m     \u001b[0mkwds\u001b[0m\u001b[1;33m.\u001b[0m\u001b[0mupdate\u001b[0m\u001b[1;33m(\u001b[0m\u001b[0mkwds_defaults\u001b[0m\u001b[1;33m)\u001b[0m\u001b[1;33m\u001b[0m\u001b[1;33m\u001b[0m\u001b[0m\n\u001b[0;32m    609\u001b[0m \u001b[1;33m\u001b[0m\u001b[0m\n\u001b[1;32m--> 610\u001b[1;33m     \u001b[1;32mreturn\u001b[0m \u001b[0m_read\u001b[0m\u001b[1;33m(\u001b[0m\u001b[0mfilepath_or_buffer\u001b[0m\u001b[1;33m,\u001b[0m \u001b[0mkwds\u001b[0m\u001b[1;33m)\u001b[0m\u001b[1;33m\u001b[0m\u001b[1;33m\u001b[0m\u001b[0m\n\u001b[0m\u001b[0;32m    611\u001b[0m \u001b[1;33m\u001b[0m\u001b[0m\n\u001b[0;32m    612\u001b[0m \u001b[1;33m\u001b[0m\u001b[0m\n",
      "\u001b[1;32mC:\\ProgramData\\Anaconda3\\lib\\site-packages\\pandas\\io\\parsers.py\u001b[0m in \u001b[0;36m_read\u001b[1;34m(filepath_or_buffer, kwds)\u001b[0m\n\u001b[0;32m    460\u001b[0m \u001b[1;33m\u001b[0m\u001b[0m\n\u001b[0;32m    461\u001b[0m     \u001b[1;31m# Create the parser.\u001b[0m\u001b[1;33m\u001b[0m\u001b[1;33m\u001b[0m\u001b[1;33m\u001b[0m\u001b[0m\n\u001b[1;32m--> 462\u001b[1;33m     \u001b[0mparser\u001b[0m \u001b[1;33m=\u001b[0m \u001b[0mTextFileReader\u001b[0m\u001b[1;33m(\u001b[0m\u001b[0mfilepath_or_buffer\u001b[0m\u001b[1;33m,\u001b[0m \u001b[1;33m**\u001b[0m\u001b[0mkwds\u001b[0m\u001b[1;33m)\u001b[0m\u001b[1;33m\u001b[0m\u001b[1;33m\u001b[0m\u001b[0m\n\u001b[0m\u001b[0;32m    463\u001b[0m \u001b[1;33m\u001b[0m\u001b[0m\n\u001b[0;32m    464\u001b[0m     \u001b[1;32mif\u001b[0m \u001b[0mchunksize\u001b[0m \u001b[1;32mor\u001b[0m \u001b[0miterator\u001b[0m\u001b[1;33m:\u001b[0m\u001b[1;33m\u001b[0m\u001b[1;33m\u001b[0m\u001b[0m\n",
      "\u001b[1;32mC:\\ProgramData\\Anaconda3\\lib\\site-packages\\pandas\\io\\parsers.py\u001b[0m in \u001b[0;36m__init__\u001b[1;34m(self, f, engine, **kwds)\u001b[0m\n\u001b[0;32m    817\u001b[0m             \u001b[0mself\u001b[0m\u001b[1;33m.\u001b[0m\u001b[0moptions\u001b[0m\u001b[1;33m[\u001b[0m\u001b[1;34m\"has_index_names\"\u001b[0m\u001b[1;33m]\u001b[0m \u001b[1;33m=\u001b[0m \u001b[0mkwds\u001b[0m\u001b[1;33m[\u001b[0m\u001b[1;34m\"has_index_names\"\u001b[0m\u001b[1;33m]\u001b[0m\u001b[1;33m\u001b[0m\u001b[1;33m\u001b[0m\u001b[0m\n\u001b[0;32m    818\u001b[0m \u001b[1;33m\u001b[0m\u001b[0m\n\u001b[1;32m--> 819\u001b[1;33m         \u001b[0mself\u001b[0m\u001b[1;33m.\u001b[0m\u001b[0m_engine\u001b[0m \u001b[1;33m=\u001b[0m \u001b[0mself\u001b[0m\u001b[1;33m.\u001b[0m\u001b[0m_make_engine\u001b[0m\u001b[1;33m(\u001b[0m\u001b[0mself\u001b[0m\u001b[1;33m.\u001b[0m\u001b[0mengine\u001b[0m\u001b[1;33m)\u001b[0m\u001b[1;33m\u001b[0m\u001b[1;33m\u001b[0m\u001b[0m\n\u001b[0m\u001b[0;32m    820\u001b[0m \u001b[1;33m\u001b[0m\u001b[0m\n\u001b[0;32m    821\u001b[0m     \u001b[1;32mdef\u001b[0m \u001b[0mclose\u001b[0m\u001b[1;33m(\u001b[0m\u001b[0mself\u001b[0m\u001b[1;33m)\u001b[0m\u001b[1;33m:\u001b[0m\u001b[1;33m\u001b[0m\u001b[1;33m\u001b[0m\u001b[0m\n",
      "\u001b[1;32mC:\\ProgramData\\Anaconda3\\lib\\site-packages\\pandas\\io\\parsers.py\u001b[0m in \u001b[0;36m_make_engine\u001b[1;34m(self, engine)\u001b[0m\n\u001b[0;32m   1048\u001b[0m             )\n\u001b[0;32m   1049\u001b[0m         \u001b[1;31m# error: Too many arguments for \"ParserBase\"\u001b[0m\u001b[1;33m\u001b[0m\u001b[1;33m\u001b[0m\u001b[1;33m\u001b[0m\u001b[0m\n\u001b[1;32m-> 1050\u001b[1;33m         \u001b[1;32mreturn\u001b[0m \u001b[0mmapping\u001b[0m\u001b[1;33m[\u001b[0m\u001b[0mengine\u001b[0m\u001b[1;33m]\u001b[0m\u001b[1;33m(\u001b[0m\u001b[0mself\u001b[0m\u001b[1;33m.\u001b[0m\u001b[0mf\u001b[0m\u001b[1;33m,\u001b[0m \u001b[1;33m**\u001b[0m\u001b[0mself\u001b[0m\u001b[1;33m.\u001b[0m\u001b[0moptions\u001b[0m\u001b[1;33m)\u001b[0m  \u001b[1;31m# type: ignore[call-arg]\u001b[0m\u001b[1;33m\u001b[0m\u001b[1;33m\u001b[0m\u001b[0m\n\u001b[0m\u001b[0;32m   1051\u001b[0m \u001b[1;33m\u001b[0m\u001b[0m\n\u001b[0;32m   1052\u001b[0m     \u001b[1;32mdef\u001b[0m \u001b[0m_failover_to_python\u001b[0m\u001b[1;33m(\u001b[0m\u001b[0mself\u001b[0m\u001b[1;33m)\u001b[0m\u001b[1;33m:\u001b[0m\u001b[1;33m\u001b[0m\u001b[1;33m\u001b[0m\u001b[0m\n",
      "\u001b[1;32mC:\\ProgramData\\Anaconda3\\lib\\site-packages\\pandas\\io\\parsers.py\u001b[0m in \u001b[0;36m__init__\u001b[1;34m(self, src, **kwds)\u001b[0m\n\u001b[0;32m   1865\u001b[0m \u001b[1;33m\u001b[0m\u001b[0m\n\u001b[0;32m   1866\u001b[0m         \u001b[1;31m# open handles\u001b[0m\u001b[1;33m\u001b[0m\u001b[1;33m\u001b[0m\u001b[1;33m\u001b[0m\u001b[0m\n\u001b[1;32m-> 1867\u001b[1;33m         \u001b[0mself\u001b[0m\u001b[1;33m.\u001b[0m\u001b[0m_open_handles\u001b[0m\u001b[1;33m(\u001b[0m\u001b[0msrc\u001b[0m\u001b[1;33m,\u001b[0m \u001b[0mkwds\u001b[0m\u001b[1;33m)\u001b[0m\u001b[1;33m\u001b[0m\u001b[1;33m\u001b[0m\u001b[0m\n\u001b[0m\u001b[0;32m   1868\u001b[0m         \u001b[1;32massert\u001b[0m \u001b[0mself\u001b[0m\u001b[1;33m.\u001b[0m\u001b[0mhandles\u001b[0m \u001b[1;32mis\u001b[0m \u001b[1;32mnot\u001b[0m \u001b[1;32mNone\u001b[0m\u001b[1;33m\u001b[0m\u001b[1;33m\u001b[0m\u001b[0m\n\u001b[0;32m   1869\u001b[0m         \u001b[1;32mfor\u001b[0m \u001b[0mkey\u001b[0m \u001b[1;32min\u001b[0m \u001b[1;33m(\u001b[0m\u001b[1;34m\"storage_options\"\u001b[0m\u001b[1;33m,\u001b[0m \u001b[1;34m\"encoding\"\u001b[0m\u001b[1;33m,\u001b[0m \u001b[1;34m\"memory_map\"\u001b[0m\u001b[1;33m,\u001b[0m \u001b[1;34m\"compression\"\u001b[0m\u001b[1;33m)\u001b[0m\u001b[1;33m:\u001b[0m\u001b[1;33m\u001b[0m\u001b[1;33m\u001b[0m\u001b[0m\n",
      "\u001b[1;32mC:\\ProgramData\\Anaconda3\\lib\\site-packages\\pandas\\io\\parsers.py\u001b[0m in \u001b[0;36m_open_handles\u001b[1;34m(self, src, kwds)\u001b[0m\n\u001b[0;32m   1360\u001b[0m         \u001b[0mLet\u001b[0m \u001b[0mthe\u001b[0m \u001b[0mreaders\u001b[0m \u001b[0mopen\u001b[0m \u001b[0mIOHanldes\u001b[0m \u001b[0mafter\u001b[0m \u001b[0mthey\u001b[0m \u001b[0mare\u001b[0m \u001b[0mdone\u001b[0m \u001b[1;32mwith\u001b[0m \u001b[0mtheir\u001b[0m \u001b[0mpotential\u001b[0m \u001b[0mraises\u001b[0m\u001b[1;33m.\u001b[0m\u001b[1;33m\u001b[0m\u001b[1;33m\u001b[0m\u001b[0m\n\u001b[0;32m   1361\u001b[0m         \"\"\"\n\u001b[1;32m-> 1362\u001b[1;33m         self.handles = get_handle(\n\u001b[0m\u001b[0;32m   1363\u001b[0m             \u001b[0msrc\u001b[0m\u001b[1;33m,\u001b[0m\u001b[1;33m\u001b[0m\u001b[1;33m\u001b[0m\u001b[0m\n\u001b[0;32m   1364\u001b[0m             \u001b[1;34m\"r\"\u001b[0m\u001b[1;33m,\u001b[0m\u001b[1;33m\u001b[0m\u001b[1;33m\u001b[0m\u001b[0m\n",
      "\u001b[1;32mC:\\ProgramData\\Anaconda3\\lib\\site-packages\\pandas\\io\\common.py\u001b[0m in \u001b[0;36mget_handle\u001b[1;34m(path_or_buf, mode, encoding, compression, memory_map, is_text, errors, storage_options)\u001b[0m\n\u001b[0;32m    640\u001b[0m                 \u001b[0merrors\u001b[0m \u001b[1;33m=\u001b[0m \u001b[1;34m\"replace\"\u001b[0m\u001b[1;33m\u001b[0m\u001b[1;33m\u001b[0m\u001b[0m\n\u001b[0;32m    641\u001b[0m             \u001b[1;31m# Encoding\u001b[0m\u001b[1;33m\u001b[0m\u001b[1;33m\u001b[0m\u001b[1;33m\u001b[0m\u001b[0m\n\u001b[1;32m--> 642\u001b[1;33m             handle = open(\n\u001b[0m\u001b[0;32m    643\u001b[0m                 \u001b[0mhandle\u001b[0m\u001b[1;33m,\u001b[0m\u001b[1;33m\u001b[0m\u001b[1;33m\u001b[0m\u001b[0m\n\u001b[0;32m    644\u001b[0m                 \u001b[0mioargs\u001b[0m\u001b[1;33m.\u001b[0m\u001b[0mmode\u001b[0m\u001b[1;33m,\u001b[0m\u001b[1;33m\u001b[0m\u001b[1;33m\u001b[0m\u001b[0m\n",
      "\u001b[1;31mFileNotFoundError\u001b[0m: [Errno 2] No such file or directory: 'MSFT_finviz_stock.csv'"
     ]
    }
   ],
   "source": [
    "newspaper3k_summary_from_csvfile(\"MSFT_finviz_stock.csv\",output_file_name='MSFT_6_summaries')"
   ]
  },
  {
   "cell_type": "markdown",
   "id": "e29c93e1",
   "metadata": {},
   "source": [
    "### Summarizing Pipeline 1:"
   ]
  },
  {
   "cell_type": "markdown",
   "id": "b64451f7",
   "metadata": {},
   "source": [
    "1. Passed a ticker value to the function to download our CSV file for the ticker.\n",
    "2. Declared a ticker list and used it to scrape multiple tickers and corresponding CSV files.\n",
    "3. Viewed the stock data of a selected ticker.\n",
    "4. Cleaned the News headline of the data.\n",
    "5. (Optional) Manually declared other_stop_words list and removed those words using the function available.\n",
    "6. Apply sentiment analysis on the cleaned News Headlines.\n",
    "7. Analyzed the sentiment with basic scatter plot.\n",
    "8. Scraped the news articles from dataframe and csv file."
   ]
  },
  {
   "cell_type": "markdown",
   "id": "47e66172",
   "metadata": {},
   "source": [
    "## 4B News and Sentiment Pipeline 2: Stock News from Google & any Stock NEWS  website "
   ]
  },
  {
   "cell_type": "markdown",
   "id": "87386e79",
   "metadata": {},
   "source": [
    "This pipeline is built on <a href=\"https://github.com/nicknochnack/Stock-and-Crypto-News-ScrapingSummarizationSentiment\">Nicholas Reonette</a>  Google news NLP project. I have heavily customised according to the needs of my project. Basically Google news URL is highly customizable and that is advantageous for our webscrapping needs. I have customized the function in such a way that the user can enter the number of results to be returned and choose the news website . In this project the default value of News agency is set to yahoo finance and number of results is set to 100 which can be changes when calling the Python function."
   ]
  },
  {
   "cell_type": "markdown",
   "id": "c6728e11",
   "metadata": {},
   "source": [
    "### 4b_1 Search for Stock News using Google and Yahoo Finance and strip out unwanted URLs\n",
    "1. **def google_search_stocknews(ticker,num=100,site=\"yahoo+finance\")**: This function takes the \"ticker\" as positional argument and \"num\" is the number of pages to search and \"site\" can be any reliable site.\n",
    "2. **def strip_unwanted_urls(urls)**: As the name suggests it removes the unclean urls from the list and filters the urls which meets the standard."
   ]
  },
  {
   "cell_type": "code",
   "execution_count": 49,
   "id": "436626c9",
   "metadata": {},
   "outputs": [],
   "source": [
    "tickers_2 = ['MSFT','TSLA', 'BTC']"
   ]
  },
  {
   "cell_type": "code",
   "execution_count": 50,
   "id": "b4506d34",
   "metadata": {},
   "outputs": [],
   "source": [
    "def google_search_stocknews(ticker,num=100,site=\"yahoo+finance\"):\n",
    "    try:\n",
    "        search_url = \"https://www.google.com/search?q={}+{}&tbm=nws&num={}\".format(site,ticker,num)\n",
    "        # url_analysis: https://www.google.com/search?q={query}&tbm=nws&num=100\n",
    "        # &tbm=nws: google new Tab, &num={} example: 100 and will return the top 100 results, query:site +ticker\n",
    "        r = requests.get(search_url)\n",
    "        soup = BeautifulSoup(r.text, 'html.parser')\n",
    "        atags = soup.find_all('a')\n",
    "        hrefs = [link['href'] for link in atags]\n",
    "        return hrefs \n",
    "    except Exception as e:\n",
    "        print(e)"
   ]
  },
  {
   "cell_type": "code",
   "execution_count": 51,
   "id": "bad2140a",
   "metadata": {},
   "outputs": [
    {
     "data": {
      "text/plain": [
       "['/?sa=X&ved=0ahUKEwiyw_fvmt_4AhXVTWwGHR7ZAzIQOwgC',\n",
       " '/search?q=hindustan+times+AAPL&tbm=nws&num=50&ie=UTF-8&gbv=1&sei=rdnCYvK4F9WbseMPnrKPkAM',\n",
       " '/search?q=hindustan+times+AAPL&num=50&ie=UTF-8&source=lnms&sa=X&ved=0ahUKEwiyw_fvmt_4AhXVTWwGHR7ZAzIQ_AUIBSgA',\n",
       " '/search?q=hindustan+times+AAPL&num=50&ie=UTF-8&tbm=shop&source=lnms&sa=X&ved=0ahUKEwiyw_fvmt_4AhXVTWwGHR7ZAzIQ_AUIBygC',\n",
       " '/search?q=hindustan+times+AAPL&num=50&ie=UTF-8&tbm=isch&source=lnms&sa=X&ved=0ahUKEwiyw_fvmt_4AhXVTWwGHR7ZAzIQ_AUICCgD',\n",
       " 'https://maps.google.com/maps?q=hindustan+times+AAPL&num=50&um=1&ie=UTF-8&sa=X&ved=0ahUKEwiyw_fvmt_4AhXVTWwGHR7ZAzIQ_AUICSgE',\n",
       " '/search?q=hindustan+times+AAPL&num=50&ie=UTF-8&tbm=vid&source=lnms&sa=X&ved=0ahUKEwiyw_fvmt_4AhXVTWwGHR7ZAzIQ_AUICigF',\n",
       " '/search?q=hindustan+times+AAPL&num=50&ie=UTF-8&tbm=bks&source=lnms&sa=X&ved=0ahUKEwiyw_fvmt_4AhXVTWwGHR7ZAzIQ_AUICygG',\n",
       " '/advanced_search',\n",
       " '/search?q=hindustan+times+AAPL&num=50&ie=UTF-8&tbm=nws&source=lnt&tbs=qdr:h&sa=X&ved=0ahUKEwiyw_fvmt_4AhXVTWwGHR7ZAzIQpwUIDQ',\n",
       " '/search?q=hindustan+times+AAPL&num=50&ie=UTF-8&tbm=nws&source=lnt&tbs=qdr:d&sa=X&ved=0ahUKEwiyw_fvmt_4AhXVTWwGHR7ZAzIQpwUIDg',\n",
       " '/search?q=hindustan+times+AAPL&num=50&ie=UTF-8&tbm=nws&source=lnt&tbs=qdr:w&sa=X&ved=0ahUKEwiyw_fvmt_4AhXVTWwGHR7ZAzIQpwUIDw',\n",
       " '/search?q=hindustan+times+AAPL&num=50&ie=UTF-8&tbm=nws&source=lnt&tbs=qdr:m&sa=X&ved=0ahUKEwiyw_fvmt_4AhXVTWwGHR7ZAzIQpwUIEA',\n",
       " '/search?q=hindustan+times+AAPL&num=50&ie=UTF-8&tbm=nws&source=lnt&tbs=qdr:y&sa=X&ved=0ahUKEwiyw_fvmt_4AhXVTWwGHR7ZAzIQpwUIEQ',\n",
       " '/search?q=hindustan+times+AAPL&num=50&ie=UTF-8&tbm=nws&source=lnt&tbs=ar:1&sa=X&ved=0ahUKEwiyw_fvmt_4AhXVTWwGHR7ZAzIQpwUIEg',\n",
       " '/search?q=hindustan+times+AAPL&num=50&ie=UTF-8&tbm=nws&source=lnt&tbs=sbd:1&sa=X&ved=0ahUKEwiyw_fvmt_4AhXVTWwGHR7ZAzIQpwUIFA',\n",
       " '/url?q=https://tech.hindustantimes.com/tech/news/bitcoin-price-today-cryptocurrency-climbs-back-above-40000-71644001324238.html&sa=U&ved=2ahUKEwiyw_fvmt_4AhXVTWwGHR7ZAzIQxfQBegQIBhAC&usg=AOvVaw19ljZxWNh_kHSq9CZhPUbf',\n",
       " '/url?q=https://appleinsider.com/articles/22/03/19/tim-cook-responds-to-thank-you-note-after-apple-watch-saves-dentists-life&sa=U&ved=2ahUKEwiyw_fvmt_4AhXVTWwGHR7ZAzIQxfQBegQIMRAC&usg=AOvVaw12PXqDpEr6gtC2KUUbYRb5',\n",
       " '/url?q=https://www.benzinga.com/news/22/03/26213734/tim-cook-reacts-to-indian-dentist-saying-apple-watch-saved-his-life&sa=U&ved=2ahUKEwiyw_fvmt_4AhXVTWwGHR7ZAzIQxfQBegQIMBAC&usg=AOvVaw3hTcZIKUMoF_Rn5-80L5xH',\n",
       " '/url?q=https://www.bloomberg.com/opinion/articles/2022-01-31/joe-rogan-isn-t-spotify-s-only-podcast-problem&sa=U&ved=2ahUKEwiyw_fvmt_4AhXVTWwGHR7ZAzIQxfQBegQILhAC&usg=AOvVaw0WH-PZvjQV8fyoSgmRqThk',\n",
       " '/url?q=https://www.thedailystar.net/tech-startup/science-gadgets-and-tech/tech-news/news/the-daily-star-wins-south-asian-digital-media-award-5th-consecutive-time-2928026&sa=U&ved=2ahUKEwiyw_fvmt_4AhXVTWwGHR7ZAzIQxfQBegQILxAC&usg=AOvVaw30BnmPWXSLpzE3YmeYbA9h',\n",
       " '/url?q=https://appleinsider.com/articles/20/07/11/how-apple-taught-apple-watch-how-to-dance-in-watchos-7&sa=U&ved=2ahUKEwiyw_fvmt_4AhXVTWwGHR7ZAzIQxfQBegQILRAC&usg=AOvVaw2xdynYeDS6SM3_QY6Cpx4X',\n",
       " '/url?q=https://uk.finance.yahoo.com/news/twitter-blue-subscription-service-technology-social-media-120254527.html&sa=U&ved=2ahUKEwiyw_fvmt_4AhXVTWwGHR7ZAzIQxfQBegQILBAC&usg=AOvVaw3sx88QWXdzkeatl4bzlv4G',\n",
       " '/url?q=https://www.nasdaq.com/articles/sensex-nifty-decline-on-inflation-concerns&sa=U&ved=2ahUKEwiyw_fvmt_4AhXVTWwGHR7ZAzIQxfQBegQIKRAC&usg=AOvVaw1Hpr3bJsWx4GI-j7LbfXWt',\n",
       " '/url?q=https://fortune.com/2017/02/17/apple-india-production-iphone-se/&sa=U&ved=2ahUKEwiyw_fvmt_4AhXVTWwGHR7ZAzIQxfQBegQIKhAC&usg=AOvVaw3o3A4pl7_Oumy80WHytotT',\n",
       " '/url?q=https://www.nasdaq.com/articles/sensex-nifty-give-up-early-gains-3&sa=U&ved=2ahUKEwiyw_fvmt_4AhXVTWwGHR7ZAzIQxfQBegQIKxAC&usg=AOvVaw0RJbq83W1RAibHpF5Nus_N',\n",
       " '/url?q=https://www.moneycontrol.com/news/business/markets/stocks-slide-on-beijing-lockdown-fears-dollar-shines-as-rate-hikes-loom-8406451.html&sa=U&ved=2ahUKEwiyw_fvmt_4AhXVTWwGHR7ZAzIQxfQBegQIKBAC&usg=AOvVaw1T0t4K4AxLmYqMKGJb0huG',\n",
       " '/url?q=https://www.nasdaq.com/articles/top-etfs-for-investing-in-india&sa=U&ved=2ahUKEwiyw_fvmt_4AhXVTWwGHR7ZAzIQxfQBegQIJhAC&usg=AOvVaw3O-VR5Lr3j8NPZCLco8D-f',\n",
       " '/url?q=https://www.nasdaq.com/articles/sensex-nifty-extend-losing-run-for-third-day&sa=U&ved=2ahUKEwiyw_fvmt_4AhXVTWwGHR7ZAzIQxfQBegQIJRAC&usg=AOvVaw1T_3y8cWNYW5rOVmsw9-bq',\n",
       " '/url?q=https://www.bloomberg.com/news/features/2018-11-02/india-s-new-delhi-is-example-how-urbanization-leads-to-megacities&sa=U&ved=2ahUKEwiyw_fvmt_4AhXVTWwGHR7ZAzIQxfQBegQIJxAC&usg=AOvVaw3-j6USX1tkdqc97_nz91uk',\n",
       " '/url?q=https://www.nasdaq.com/articles/sensex-nifty-fail-to-hold-early-gains-settle-modestly-lower&sa=U&ved=2ahUKEwiyw_fvmt_4AhXVTWwGHR7ZAzIQxfQBegQIJBAC&usg=AOvVaw29pVboOctcbGFvMjiOFZo1',\n",
       " '/url?q=https://www.nasdaq.com/articles/sensex-nifty-close-on-upbeat-note-as-stocks-rally-on-earnings&sa=U&ved=2ahUKEwiyw_fvmt_4AhXVTWwGHR7ZAzIQxfQBegQIIRAC&usg=AOvVaw1_CN0o4NwbVELn_bRTkqFQ',\n",
       " '/url?q=https://www.investopedia.com/news/who-are-donald-trumps-business-partners-india/&sa=U&ved=2ahUKEwiyw_fvmt_4AhXVTWwGHR7ZAzIQxfQBegQIIxAC&usg=AOvVaw3qXoYhU53t_uwtEzLqHURl',\n",
       " '/url?q=https://www.nasdaq.com/articles/sensex-nifty-fall-as-stocks-slide-on-weak-global-cues-ril-scales-new-high&sa=U&ved=2ahUKEwiyw_fvmt_4AhXVTWwGHR7ZAzIQxfQBegQIIhAC&usg=AOvVaw2Gw-Fa1CGLO-g87UiAyuQA',\n",
       " '/url?q=https://capital.com/life-insurance-corporation-of-india-lic-price-forecast&sa=U&ved=2ahUKEwiyw_fvmt_4AhXVTWwGHR7ZAzIQxfQBegQIIBAC&usg=AOvVaw071YLC9SoOzk-4DS-PjtV2',\n",
       " '/url?q=https://www.financialexpress.com/investing-abroad/listicles/5-things-to-know-about-nasdaq-composite-index/2264992/&sa=U&ved=2ahUKEwiyw_fvmt_4AhXVTWwGHR7ZAzIQxfQBegQIHxAC&usg=AOvVaw3ctwpqwZQpXFykTcWUIRQ3',\n",
       " '/url?q=https://www.nasdaq.com/articles/patient-investors-should-buy-hard-hit-alphabet-stock&sa=U&ved=2ahUKEwiyw_fvmt_4AhXVTWwGHR7ZAzIQxfQBegQIHhAC&usg=AOvVaw3E3D6i-TV3IED7tIrAP-St',\n",
       " '/url?q=https://seekingalpha.com/article/4357025-unilever-certain-investment-for-uncertain-times&sa=U&ved=2ahUKEwiyw_fvmt_4AhXVTWwGHR7ZAzIQxfQBegQIHBAC&usg=AOvVaw0sW6eVwvrPxJJhNpqF3WlW',\n",
       " '/url?q=https://www.investopedia.com/black-widow-star-scarlett-johansson-sues-disney-dis-5195108&sa=U&ved=2ahUKEwiyw_fvmt_4AhXVTWwGHR7ZAzIQxfQBegQIHRAC&usg=AOvVaw0891gHs5r7R_r9hrTWnRZH',\n",
       " '/url?q=https://www.nasdaq.com/articles/better-buy%253A-intuitive-surgical-vs.-medtronic&sa=U&ved=2ahUKEwiyw_fvmt_4AhXVTWwGHR7ZAzIQxfQBegQIGRAC&usg=AOvVaw2PwfYj5JHevJRl7nTqcooz',\n",
       " '/url?q=https://uk.investing.com/news/stock-market-news/india-shares-lower-at-close-of-trade-nifty-50-down-031-2624951&sa=U&ved=2ahUKEwiyw_fvmt_4AhXVTWwGHR7ZAzIQxfQBegQIGxAC&usg=AOvVaw1uL4X9JoEPIbydrRaK6lNT',\n",
       " '/url?q=https://uk.investing.com/news/stock-market-news/jim-cramer-shares-his-thoughts-on-fluor-tilray-brands-and-more-2634269&sa=U&ved=2ahUKEwiyw_fvmt_4AhXVTWwGHR7ZAzIQxfQBegQIGhAC&usg=AOvVaw1LBPb6Ab5Vyg4FmrESt4yA',\n",
       " '/url?q=https://9to5mac.com/2017/10/27/apple-international-warranty-iphone/&sa=U&ved=2ahUKEwiyw_fvmt_4AhXVTWwGHR7ZAzIQxfQBegQIGBAC&usg=AOvVaw3ORf-8IcTeWCogtLFQs64Q',\n",
       " '/url?q=https://appleinsider.com/articles/20/08/02/big-iphone-thefts-from-cbp-and-airport-warehouses-in-the-apple-crime-blotter&sa=U&ved=2ahUKEwiyw_fvmt_4AhXVTWwGHR7ZAzIQxfQBegQIFxAC&usg=AOvVaw0OmzReEo3v14U2ZARqc0Fu',\n",
       " '/url?q=https://www.nasdaq.com/articles/why-takeda-pharmaceutical-stock-is-down-more-than-10-today-2021-10-06&sa=U&ved=2ahUKEwiyw_fvmt_4AhXVTWwGHR7ZAzIQxfQBegQIFhAC&usg=AOvVaw06LAn6DnU9vEDO6GfwDnna',\n",
       " '/url?q=https://www.businessinsider.com/how-tech-companies-plan-to-reopen-facebook-google-microsoft-amazon-2020-5&sa=U&ved=2ahUKEwiyw_fvmt_4AhXVTWwGHR7ZAzIQxfQBegQIFRAC&usg=AOvVaw0bGgdbNpc-cW_6E4-Z5c3t',\n",
       " '/url?q=https://www.business-standard.com/article/technology/iphones-and-children-are-a-toxic-pair-say-two-big-apple-investors-118010800495_1.html&sa=U&ved=2ahUKEwiyw_fvmt_4AhXVTWwGHR7ZAzIQxfQBegQIFBAC&usg=AOvVaw2bZ8H5JXgi6xeFA2Gld_hC',\n",
       " '/url?q=https://www.forbes.com/sites/nishandegnarain/2021/01/02/survival-of-the-kindest-a-new-mantra-to-rebuild-the-global-economy/&sa=U&ved=2ahUKEwiyw_fvmt_4AhXVTWwGHR7ZAzIQxfQBegQIEhAC&usg=AOvVaw1x_sM-fWlc0fLhqShGwHN4',\n",
       " '/url?q=https://www.business-standard.com/article/companies/itc-to-acquire-nimyle-brand-of-floor-cleaner-to-expand-in-eastern-market-118052800682_1.html&sa=U&ved=2ahUKEwiyw_fvmt_4AhXVTWwGHR7ZAzIQxfQBegQIEBAC&usg=AOvVaw2yIQQRDJGPEXt97gRyIE7B',\n",
       " '/url?q=https://edition.cnn.com/interactive/2018/11/business/internet-usage-india-future/&sa=U&ved=2ahUKEwiyw_fvmt_4AhXVTWwGHR7ZAzIQxfQBegQIERAC&usg=AOvVaw2Bw8GG20e4RAM5EHR4LuUz',\n",
       " '/url?q=https://www.investopedia.com/articles/personal-finance/051415/indias-twochild-policy.asp&sa=U&ved=2ahUKEwiyw_fvmt_4AhXVTWwGHR7ZAzIQxfQBegQIExAC&usg=AOvVaw3QOEb1X8DiL3ACQIRukel5',\n",
       " '/url?q=https://www.marketwatch.com/story/taleb-says-musks-comment-on-coronavirus-panic-being-dumb-is-whats-dumb-2020-03-07&sa=U&ved=2ahUKEwiyw_fvmt_4AhXVTWwGHR7ZAzIQxfQBegQIDxAC&usg=AOvVaw2XadVGSTXo3wAjGrcGi2ka',\n",
       " '/url?q=https://www.nasdaq.com/articles/why-intelligent-ticks-make-sense-2020-01-09&sa=U&ved=2ahUKEwiyw_fvmt_4AhXVTWwGHR7ZAzIQxfQBegQIDhAC&usg=AOvVaw288Ve1-NxAzpnQy4vpJ1bc',\n",
       " '/url?q=https://in.investing.com/equities/brocade-communications&sa=U&ved=2ahUKEwiyw_fvmt_4AhXVTWwGHR7ZAzIQxfQBegQICBAC&usg=AOvVaw2QzVjBmM-t5B7okFCDieCr',\n",
       " '/url?q=https://www.nasdaq.com/articles/3-compelling-reasons-for-companies-to-split-stocks-2019-09-12&sa=U&ved=2ahUKEwiyw_fvmt_4AhXVTWwGHR7ZAzIQxfQBegQIDBAC&usg=AOvVaw2FiY5Z_suMOLtW9gMbvtDb',\n",
       " '/url?q=https://www.nasdaq.com/articles/kkr-duke-rohlen-partner-to-create-zeus-health-quick-facts-2020-11-17&sa=U&ved=2ahUKEwiyw_fvmt_4AhXVTWwGHR7ZAzIQxfQBegQIChAC&usg=AOvVaw3xJe7M__oUlbDBdH0oyp6g',\n",
       " '/url?q=https://www.investopedia.com/articles/professionals/043015/azim-premji-net-worth-story-behind-his-success.asp&sa=U&ved=2ahUKEwiyw_fvmt_4AhXVTWwGHR7ZAzIQxfQBegQICRAC&usg=AOvVaw0mEnzOM29GUJ33kaTPOzGH',\n",
       " '/url?q=https://www.investopedia.com/terms/c/copper.asp&sa=U&ved=2ahUKEwiyw_fvmt_4AhXVTWwGHR7ZAzIQxfQBegQIBxAC&usg=AOvVaw1Oq_fQgm_Otzy4L6GM_YtF',\n",
       " '/url?q=https://www.nasdaq.com/articles/top-three-etfs-for-investing-in-india-2018-12-31&sa=U&ved=2ahUKEwiyw_fvmt_4AhXVTWwGHR7ZAzIQxfQBegQIDRAC&usg=AOvVaw3qMKC_Hp-92gw-4142Hk3D',\n",
       " '/url?q=https://www.nasdaq.com/articles/earnings-preview%253A-amneal-pharmaceuticals-amrx-q3-earnings-expected-to-decline-2019-10-30&sa=U&ved=2ahUKEwiyw_fvmt_4AhXVTWwGHR7ZAzIQxfQBegQICxAC&usg=AOvVaw3OpTwFPpjBDwU8M5Vwl9vy',\n",
       " '/url?q=https://www.nasdaq.com/articles/has-denali-therapeutics-dnli-outpaced-other-medical-stocks-this-year-2020-02-07&sa=U&ved=2ahUKEwiyw_fvmt_4AhXVTWwGHR7ZAzIQxfQBegQIAxAC&usg=AOvVaw3DjOD6uyYEcZfDaNm-HAjd',\n",
       " '/url?q=https://www.nasdaq.com/articles/fortress-investment-to-acquire-italian-npls-from-unicredit-2016-12-20&sa=U&ved=2ahUKEwiyw_fvmt_4AhXVTWwGHR7ZAzIQxfQBegQIABAC&usg=AOvVaw0IWah3Vwa_uZM3JueLLv2i',\n",
       " '/url?q=https://www.nasdaq.com/articles/metal-fabrication-industry-outlook%253A-near-term-prospects-dim-2019-01-11&sa=U&ved=2ahUKEwiyw_fvmt_4AhXVTWwGHR7ZAzIQxfQBegQIAhAC&usg=AOvVaw24Q9vT_z2p7nR2AP1WizQI',\n",
       " '/url?q=https://www.nasdaq.com/articles/trading-style-zacks-style-score-and-vgm-score-2016-03-30&sa=U&ved=2ahUKEwiyw_fvmt_4AhXVTWwGHR7ZAzIQxfQBegQIBBAC&usg=AOvVaw0rHQOGAbPR_tjFTCCSXIYp',\n",
       " '/url?q=https://bcs-express.ru/novosti-i-analitika/indiia-mozhet-kupit-rossiiskie-neftianye-aktivy&sa=U&ved=2ahUKEwiyw_fvmt_4AhXVTWwGHR7ZAzIQxfQBegQIBRAC&usg=AOvVaw0WftuZtyY_QQbQ6EDJjbld',\n",
       " '/url?q=https://dazeinfo.com/2014/07/17/raw-images-videos-malaysian-airline-crash-mh17-twitter-facebook/&sa=U&ved=2ahUKEwiyw_fvmt_4AhXVTWwGHR7ZAzIQxfQBegQIARAC&usg=AOvVaw0HpXpsw9UOPW26xxVwJN6S',\n",
       " '/search?q=hindustan+times+AAPL&num=50&ie=UTF-8&tbm=nws&ei=rdnCYvK4F9WbseMPnrKPkAM&start=50&sa=N',\n",
       " '/url?q=https://support.google.com/websearch%3Fp%3Dws_settings_location%26hl%3Den-IN&sa=U&ved=0ahUKEwiyw_fvmt_4AhXVTWwGHR7ZAzIQty4IwwI&usg=AOvVaw0YK37P71CGiIGn6AkM-7Pi',\n",
       " '/url?q=https://accounts.google.com/ServiceLogin%3Fcontinue%3Dhttps://www.google.com/search%253Fq%253Dhindustan%252Btimes%252BAAPL%2526tbm%253Dnws%2526num%253D50%26hl%3Den&sa=U&ved=0ahUKEwiyw_fvmt_4AhXVTWwGHR7ZAzIQxs8CCMQC&usg=AOvVaw1Wv3fzlDGECABHvsOmUaLE',\n",
       " 'https://www.google.com/preferences?hl=en-IN&fg=1&sa=X&ved=0ahUKEwiyw_fvmt_4AhXVTWwGHR7ZAzIQ5fUCCMUC',\n",
       " 'https://policies.google.com/privacy?hl=en-IN&fg=1',\n",
       " 'https://policies.google.com/terms?hl=en-IN&fg=1']"
      ]
     },
     "execution_count": 51,
     "metadata": {},
     "output_type": "execute_result"
    }
   ],
   "source": [
    "#site is a Keyword argument and its default Value is yahoo+finance\n",
    "#other examples of site can be livemint,money+control,hindustan+times\n",
    "example_for_site = google_search_stocknews(\"AAPL\",50,site='hindustan+times') \n",
    "example_for_site"
   ]
  },
  {
   "cell_type": "code",
   "execution_count": 52,
   "id": "3812be71",
   "metadata": {},
   "outputs": [
    {
     "data": {
      "text/plain": [
       "{'MSFT': ['/?sa=X&ved=0ahUKEwjbl_zymt_4AhVqRmwGHbv6AJIQOwgC',\n",
       "  '/search?q=yahoo+finance+MSFT&tbm=nws&num=5&ie=UTF-8&gbv=1&sei=s9nCYpvyLeqMseMPu_WDkAk',\n",
       "  '/search?q=yahoo+finance+MSFT&num=5&ie=UTF-8&source=lnms&sa=X&ved=0ahUKEwjbl_zymt_4AhVqRmwGHbv6AJIQ_AUIBSgA',\n",
       "  '/search?q=yahoo+finance+MSFT&num=5&ie=UTF-8&tbm=shop&source=lnms&sa=X&ved=0ahUKEwjbl_zymt_4AhVqRmwGHbv6AJIQ_AUIBygC',\n",
       "  '/search?q=yahoo+finance+MSFT&num=5&ie=UTF-8&tbm=vid&source=lnms&sa=X&ved=0ahUKEwjbl_zymt_4AhVqRmwGHbv6AJIQ_AUICCgD',\n",
       "  '/search?q=yahoo+finance+MSFT&num=5&ie=UTF-8&tbm=isch&source=lnms&sa=X&ved=0ahUKEwjbl_zymt_4AhVqRmwGHbv6AJIQ_AUICSgE',\n",
       "  'https://maps.google.com/maps?q=yahoo+finance+MSFT&num=5&um=1&ie=UTF-8&sa=X&ved=0ahUKEwjbl_zymt_4AhVqRmwGHbv6AJIQ_AUICigF',\n",
       "  '/search?q=yahoo+finance+MSFT&num=5&ie=UTF-8&tbm=bks&source=lnms&sa=X&ved=0ahUKEwjbl_zymt_4AhVqRmwGHbv6AJIQ_AUICygG',\n",
       "  '/advanced_search',\n",
       "  '/search?q=yahoo+finance+MSFT&num=5&ie=UTF-8&tbm=nws&source=lnt&tbs=qdr:h&sa=X&ved=0ahUKEwjbl_zymt_4AhVqRmwGHbv6AJIQpwUIDQ',\n",
       "  '/search?q=yahoo+finance+MSFT&num=5&ie=UTF-8&tbm=nws&source=lnt&tbs=qdr:d&sa=X&ved=0ahUKEwjbl_zymt_4AhVqRmwGHbv6AJIQpwUIDg',\n",
       "  '/search?q=yahoo+finance+MSFT&num=5&ie=UTF-8&tbm=nws&source=lnt&tbs=qdr:w&sa=X&ved=0ahUKEwjbl_zymt_4AhVqRmwGHbv6AJIQpwUIDw',\n",
       "  '/search?q=yahoo+finance+MSFT&num=5&ie=UTF-8&tbm=nws&source=lnt&tbs=qdr:m&sa=X&ved=0ahUKEwjbl_zymt_4AhVqRmwGHbv6AJIQpwUIEA',\n",
       "  '/search?q=yahoo+finance+MSFT&num=5&ie=UTF-8&tbm=nws&source=lnt&tbs=qdr:y&sa=X&ved=0ahUKEwjbl_zymt_4AhVqRmwGHbv6AJIQpwUIEQ',\n",
       "  '/search?q=yahoo+finance+MSFT&num=5&ie=UTF-8&tbm=nws&source=lnt&tbs=ar:1&sa=X&ved=0ahUKEwjbl_zymt_4AhVqRmwGHbv6AJIQpwUIEg',\n",
       "  '/search?q=yahoo+finance+MSFT&num=5&ie=UTF-8&tbm=nws&source=lnt&tbs=sbd:1&sa=X&ved=0ahUKEwjbl_zymt_4AhVqRmwGHbv6AJIQpwUIFA',\n",
       "  '/url?q=https://finance.yahoo.com/news/microsoft-cofounder-paul-allen-owned-134159807.html&sa=U&ved=2ahUKEwjbl_zymt_4AhVqRmwGHbv6AJIQxfQBegQIAxAC&usg=AOvVaw1N7WkEM5YKqM42vMDwo4ef',\n",
       "  '/url?q=https://finance.yahoo.com/news/zacks-analyst-blog-highlights-microsoft-134701381.html&sa=U&ved=2ahUKEwjbl_zymt_4AhVqRmwGHbv6AJIQxfQBegQIBBAC&usg=AOvVaw3N58ewK1SSJbDDq5FI4Apn',\n",
       "  '/url?q=https://finance.yahoo.com/news/technisys-integrates-platform-microsoft-cloud-120000535.html&sa=U&ved=2ahUKEwjbl_zymt_4AhVqRmwGHbv6AJIQxfQBegQIAhAC&usg=AOvVaw1Mdcu0IwfQgGwin0L-VhiF',\n",
       "  '/url?q=https://finance.yahoo.com/news/cloocus-recognized-winner-2022-microsoft-190000159.html&sa=U&ved=2ahUKEwjbl_zymt_4AhVqRmwGHbv6AJIQxfQBegQIABAC&usg=AOvVaw3vK6nNWI7QiDkX9fgLPTqv',\n",
       "  '/url?q=https://finance.yahoo.com/news/tesla-apple-microsoft-peloton-all-of-tech-companies-hitting-the-brakes-on-hiring-202428628.html&sa=U&ved=2ahUKEwjbl_zymt_4AhVqRmwGHbv6AJIQxfQBegQIARAC&usg=AOvVaw2yHPHjiO7UzwVGvSXXEWXH',\n",
       "  '/search?q=yahoo+finance+MSFT&num=5&ie=UTF-8&tbm=nws&ei=s9nCYpvyLeqMseMPu_WDkAk&start=5&sa=N',\n",
       "  '/url?q=https://support.google.com/websearch%3Fp%3Dws_settings_location%26hl%3Den-IN&sa=U&ved=0ahUKEwjbl_zymt_4AhVqRmwGHbv6AJIQty4INQ&usg=AOvVaw2BulmpzyS-f0eDokg9CO8k',\n",
       "  '/url?q=https://accounts.google.com/ServiceLogin%3Fcontinue%3Dhttps://www.google.com/search%253Fq%253Dyahoo%252Bfinance%252BMSFT%2526tbm%253Dnws%2526num%253D5%26hl%3Den&sa=U&ved=0ahUKEwjbl_zymt_4AhVqRmwGHbv6AJIQxs8CCDY&usg=AOvVaw0656tY0SKHICNvrtZIYTvp',\n",
       "  'https://www.google.com/preferences?hl=en-IN&fg=1&sa=X&ved=0ahUKEwjbl_zymt_4AhVqRmwGHbv6AJIQ5fUCCDc',\n",
       "  'https://policies.google.com/privacy?hl=en-IN&fg=1',\n",
       "  'https://policies.google.com/terms?hl=en-IN&fg=1'],\n",
       " 'TSLA': ['/?sa=X&ved=0ahUKEwjLsKrzmt_4AhWORmwGHeohAZwQOwgC',\n",
       "  '/search?q=yahoo+finance+TSLA&tbm=nws&num=5&ie=UTF-8&gbv=1&sei=tNnCYsuGH46NseMP6sOE4Ak',\n",
       "  '/search?q=yahoo+finance+TSLA&num=5&ie=UTF-8&source=lnms&sa=X&ved=0ahUKEwjLsKrzmt_4AhWORmwGHeohAZwQ_AUIBSgA',\n",
       "  '/search?q=yahoo+finance+TSLA&num=5&ie=UTF-8&tbm=bks&source=lnms&sa=X&ved=0ahUKEwjLsKrzmt_4AhWORmwGHeohAZwQ_AUIBygC',\n",
       "  '/search?q=yahoo+finance+TSLA&num=5&ie=UTF-8&tbm=shop&source=lnms&sa=X&ved=0ahUKEwjLsKrzmt_4AhWORmwGHeohAZwQ_AUICCgD',\n",
       "  '/search?q=yahoo+finance+TSLA&num=5&ie=UTF-8&tbm=isch&source=lnms&sa=X&ved=0ahUKEwjLsKrzmt_4AhWORmwGHeohAZwQ_AUICSgE',\n",
       "  'https://maps.google.com/maps?q=yahoo+finance+TSLA&num=5&um=1&ie=UTF-8&sa=X&ved=0ahUKEwjLsKrzmt_4AhWORmwGHeohAZwQ_AUICigF',\n",
       "  '/search?q=yahoo+finance+TSLA&num=5&ie=UTF-8&tbm=vid&source=lnms&sa=X&ved=0ahUKEwjLsKrzmt_4AhWORmwGHeohAZwQ_AUICygG',\n",
       "  '/advanced_search',\n",
       "  '/search?q=yahoo+finance+TSLA&num=5&ie=UTF-8&tbm=nws&source=lnt&tbs=qdr:h&sa=X&ved=0ahUKEwjLsKrzmt_4AhWORmwGHeohAZwQpwUIDQ',\n",
       "  '/search?q=yahoo+finance+TSLA&num=5&ie=UTF-8&tbm=nws&source=lnt&tbs=qdr:d&sa=X&ved=0ahUKEwjLsKrzmt_4AhWORmwGHeohAZwQpwUIDg',\n",
       "  '/search?q=yahoo+finance+TSLA&num=5&ie=UTF-8&tbm=nws&source=lnt&tbs=qdr:w&sa=X&ved=0ahUKEwjLsKrzmt_4AhWORmwGHeohAZwQpwUIDw',\n",
       "  '/search?q=yahoo+finance+TSLA&num=5&ie=UTF-8&tbm=nws&source=lnt&tbs=qdr:m&sa=X&ved=0ahUKEwjLsKrzmt_4AhWORmwGHeohAZwQpwUIEA',\n",
       "  '/search?q=yahoo+finance+TSLA&num=5&ie=UTF-8&tbm=nws&source=lnt&tbs=qdr:y&sa=X&ved=0ahUKEwjLsKrzmt_4AhWORmwGHeohAZwQpwUIEQ',\n",
       "  '/search?q=yahoo+finance+TSLA&num=5&ie=UTF-8&tbm=nws&source=lnt&tbs=ar:1&sa=X&ved=0ahUKEwjLsKrzmt_4AhWORmwGHeohAZwQpwUIEg',\n",
       "  '/search?q=yahoo+finance+TSLA&num=5&ie=UTF-8&tbm=nws&source=lnt&tbs=sbd:1&sa=X&ved=0ahUKEwjLsKrzmt_4AhWORmwGHeohAZwQpwUIFA',\n",
       "  '/url?q=https://finance.yahoo.com/news/teslas-run-record-deliveries-may-160922541.html&sa=U&ved=2ahUKEwjLsKrzmt_4AhWORmwGHeohAZwQxfQBegQIBBAC&usg=AOvVaw3Wqs8EdShHG9i79ZZELC5A',\n",
       "  '/url?q=https://finance.yahoo.com/news/china-electric-vehicle-stocks-rage-010001191.html&sa=U&ved=2ahUKEwjLsKrzmt_4AhWORmwGHeohAZwQxfQBegQIARAC&usg=AOvVaw18S3jr28bNNmf-32UKVkI8',\n",
       "  '/url?q=https://finance.yahoo.com/news/tesla-stock-split-june-2022-212130185.html&sa=U&ved=2ahUKEwjLsKrzmt_4AhWORmwGHeohAZwQxfQBegQIAxAC&usg=AOvVaw2fuBUgs0pNUuzPzKQbvCjn',\n",
       "  '/url?q=https://finance.yahoo.com/news/tesla-closes-office-layoff-hits-052303957.html&sa=U&ved=2ahUKEwjLsKrzmt_4AhWORmwGHeohAZwQxfQBegQIAhAC&usg=AOvVaw2LLsPSC_MbARTDBOkZexvu',\n",
       "  '/url?q=https://au.finance.yahoo.com/news/tesla-recalls-faulty-cars-safety-glitch-113600162.html&sa=U&ved=2ahUKEwjLsKrzmt_4AhWORmwGHeohAZwQxfQBegQIABAC&usg=AOvVaw2tMs-Ar7Wx-4S_-a-M2wY-',\n",
       "  '/search?q=yahoo+finance+TSLA&num=5&ie=UTF-8&tbm=nws&ei=tNnCYsuGH46NseMP6sOE4Ak&start=5&sa=N',\n",
       "  '/url?q=https://support.google.com/websearch%3Fp%3Dws_settings_location%26hl%3Den-IN&sa=U&ved=0ahUKEwjLsKrzmt_4AhWORmwGHeohAZwQty4INQ&usg=AOvVaw3wdN-S1LW1AM01fRisOPy3',\n",
       "  '/url?q=https://accounts.google.com/ServiceLogin%3Fcontinue%3Dhttps://www.google.com/search%253Fq%253Dyahoo%252Bfinance%252BTSLA%2526tbm%253Dnws%2526num%253D5%26hl%3Den&sa=U&ved=0ahUKEwjLsKrzmt_4AhWORmwGHeohAZwQxs8CCDY&usg=AOvVaw3h6oCh-AT1SqK2kuQEq4Uv',\n",
       "  'https://www.google.com/preferences?hl=en-IN&fg=1&sa=X&ved=0ahUKEwjLsKrzmt_4AhWORmwGHeohAZwQ5fUCCDc',\n",
       "  'https://policies.google.com/privacy?hl=en-IN&fg=1',\n",
       "  'https://policies.google.com/terms?hl=en-IN&fg=1'],\n",
       " 'BTC': ['/?sa=X&ved=0ahUKEwj2_NLzmt_4AhUITmwGHSRoBwAQOwgC',\n",
       "  '/search?q=yahoo+finance+BTC&tbm=nws&num=5&ie=UTF-8&gbv=1&sei=tdnCYrbOCoicseMPpNAd',\n",
       "  '/search?q=yahoo+finance+BTC&num=5&ie=UTF-8&source=lnms&sa=X&ved=0ahUKEwj2_NLzmt_4AhUITmwGHSRoBwAQ_AUIBSgA',\n",
       "  '/search?q=yahoo+finance+BTC&num=5&ie=UTF-8&tbm=shop&source=lnms&sa=X&ved=0ahUKEwj2_NLzmt_4AhUITmwGHSRoBwAQ_AUIBygC',\n",
       "  '/search?q=yahoo+finance+BTC&num=5&ie=UTF-8&tbm=isch&source=lnms&sa=X&ved=0ahUKEwj2_NLzmt_4AhUITmwGHSRoBwAQ_AUICCgD',\n",
       "  'https://maps.google.com/maps?q=yahoo+finance+BTC&num=5&um=1&ie=UTF-8&sa=X&ved=0ahUKEwj2_NLzmt_4AhUITmwGHSRoBwAQ_AUICSgE',\n",
       "  '/search?q=yahoo+finance+BTC&num=5&ie=UTF-8&tbm=vid&source=lnms&sa=X&ved=0ahUKEwj2_NLzmt_4AhUITmwGHSRoBwAQ_AUICigF',\n",
       "  '/search?q=yahoo+finance+BTC&num=5&ie=UTF-8&tbm=bks&source=lnms&sa=X&ved=0ahUKEwj2_NLzmt_4AhUITmwGHSRoBwAQ_AUICygG',\n",
       "  '/advanced_search',\n",
       "  '/search?q=yahoo+finance+BTC&num=5&ie=UTF-8&tbm=nws&source=lnt&tbs=qdr:h&sa=X&ved=0ahUKEwj2_NLzmt_4AhUITmwGHSRoBwAQpwUIDQ',\n",
       "  '/search?q=yahoo+finance+BTC&num=5&ie=UTF-8&tbm=nws&source=lnt&tbs=qdr:d&sa=X&ved=0ahUKEwj2_NLzmt_4AhUITmwGHSRoBwAQpwUIDg',\n",
       "  '/search?q=yahoo+finance+BTC&num=5&ie=UTF-8&tbm=nws&source=lnt&tbs=qdr:w&sa=X&ved=0ahUKEwj2_NLzmt_4AhUITmwGHSRoBwAQpwUIDw',\n",
       "  '/search?q=yahoo+finance+BTC&num=5&ie=UTF-8&tbm=nws&source=lnt&tbs=qdr:m&sa=X&ved=0ahUKEwj2_NLzmt_4AhUITmwGHSRoBwAQpwUIEA',\n",
       "  '/search?q=yahoo+finance+BTC&num=5&ie=UTF-8&tbm=nws&source=lnt&tbs=qdr:y&sa=X&ved=0ahUKEwj2_NLzmt_4AhUITmwGHSRoBwAQpwUIEQ',\n",
       "  '/search?q=yahoo+finance+BTC&num=5&ie=UTF-8&tbm=nws&source=lnt&tbs=ar:1&sa=X&ved=0ahUKEwj2_NLzmt_4AhUITmwGHSRoBwAQpwUIEg',\n",
       "  '/search?q=yahoo+finance+BTC&num=5&ie=UTF-8&tbm=nws&source=lnt&tbs=sbd:1&sa=X&ved=0ahUKEwj2_NLzmt_4AhUITmwGHSRoBwAQpwUIFA',\n",
       "  '/url?q=https://finance.yahoo.com/news/traders-saying-bitcoins-biggest-monthly-090000278.html&sa=U&ved=2ahUKEwj2_NLzmt_4AhUITmwGHSRoBwAQxfQBegQIAhAC&usg=AOvVaw2kHTUDvFf8s9x9HoUnJ_0x',\n",
       "  '/url?q=https://finance.yahoo.com/news/bitcoin-price-june-17-2022-203000768.html&sa=U&ved=2ahUKEwj2_NLzmt_4AhUITmwGHSRoBwAQxfQBegQIABAC&usg=AOvVaw3T2RvqH7-P0QZAsZ-x1GRh',\n",
       "  '/url?q=https://finance.yahoo.com/news/enormous-outflows-largest-bitcoin-etf-195429300.html&sa=U&ved=2ahUKEwj2_NLzmt_4AhUITmwGHSRoBwAQxfQBegQIARAC&usg=AOvVaw28wk9m9D6MEOKf5i0kDWHT',\n",
       "  '/url?q=https://finance.yahoo.com/news/software-firm-meitu-lost-52-080351060.html&sa=U&ved=2ahUKEwj2_NLzmt_4AhUITmwGHSRoBwAQxfQBegQIAxAC&usg=AOvVaw17keifd4CuM_a5_kp01Vex',\n",
       "  '/url?q=https://uk.finance.yahoo.com/news/the-crypto-mile-bitcoin-dip-fall-135754345.html&sa=U&ved=2ahUKEwj2_NLzmt_4AhUITmwGHSRoBwAQxfQBegQIBBAC&usg=AOvVaw1JdgCA76JYcIzIyRnbulTH',\n",
       "  '/search?q=yahoo+finance+BTC&num=5&ie=UTF-8&tbm=nws&ei=tdnCYrbOCoicseMPpNAd&start=5&sa=N',\n",
       "  '/url?q=https://support.google.com/websearch%3Fp%3Dws_settings_location%26hl%3Den-IN&sa=U&ved=0ahUKEwj2_NLzmt_4AhUITmwGHSRoBwAQty4INQ&usg=AOvVaw3v52yyfvcKslndxIRgAFgM',\n",
       "  '/url?q=https://accounts.google.com/ServiceLogin%3Fcontinue%3Dhttps://www.google.com/search%253Fq%253Dyahoo%252Bfinance%252BBTC%2526tbm%253Dnws%2526num%253D5%26hl%3Den&sa=U&ved=0ahUKEwj2_NLzmt_4AhUITmwGHSRoBwAQxs8CCDY&usg=AOvVaw1vw6hGmLoqrd5SX1j8Z_Qc',\n",
       "  'https://www.google.com/preferences?hl=en-IN&fg=1&sa=X&ved=0ahUKEwj2_NLzmt_4AhUITmwGHSRoBwAQ5fUCCDc',\n",
       "  'https://policies.google.com/privacy?hl=en-IN&fg=1',\n",
       "  'https://policies.google.com/terms?hl=en-IN&fg=1']}"
      ]
     },
     "execution_count": 52,
     "metadata": {},
     "output_type": "execute_result"
    }
   ],
   "source": [
    "# storing the URLs in a dictionary\n",
    "raw_urls_to_dictionary = {ticker:google_search_stocknews(ticker,5) for ticker in tickers_2}\n",
    "raw_urls_to_dictionary"
   ]
  },
  {
   "cell_type": "code",
   "execution_count": 53,
   "id": "31072cc1",
   "metadata": {},
   "outputs": [],
   "source": [
    "def strip_unwanted_urls(urls):\n",
    "    try:\n",
    "        # list of x that we dont want in our urls\n",
    "        strip_list = ['maps','policies', 'preferences', 'accounts', 'support']\n",
    "        value = []\n",
    "        # LOOPING through URLs in oone ticker at a time\n",
    "        for url in urls: \n",
    "            if 'https://' in url and not any(strip_word in url for strip_word in strip_list):\n",
    "                result = re.findall(r'(https?://\\S+)', url)[0].split('&')[0]\n",
    "                value.append(result)\n",
    "        return list(set(value))\n",
    "        '''\n",
    "        list(set(value)) It removes the duplicate Values\n",
    "        Solution 2:output =[]\n",
    "        [output.append(x) for x in value if x not in output]\n",
    "        '''\n",
    "    except Exception as e:\n",
    "        print(e)"
   ]
  },
  {
   "cell_type": "code",
   "execution_count": 54,
   "id": "18128026",
   "metadata": {},
   "outputs": [
    {
     "data": {
      "text/plain": [
       "5"
      ]
     },
     "execution_count": 54,
     "metadata": {},
     "output_type": "execute_result"
    }
   ],
   "source": [
    "(strip_unwanted_urls(raw_urls_to_dictionary['TSLA'])) \n",
    "len(strip_unwanted_urls(raw_urls_to_dictionary['TSLA']))"
   ]
  },
  {
   "cell_type": "code",
   "execution_count": 55,
   "id": "67adabb7",
   "metadata": {},
   "outputs": [
    {
     "data": {
      "text/plain": [
       "{'MSFT': ['https://finance.yahoo.com/news/zacks-analyst-blog-highlights-microsoft-134701381.html',\n",
       "  'https://finance.yahoo.com/news/technisys-integrates-platform-microsoft-cloud-120000535.html',\n",
       "  'https://finance.yahoo.com/news/tesla-apple-microsoft-peloton-all-of-tech-companies-hitting-the-brakes-on-hiring-202428628.html',\n",
       "  'https://finance.yahoo.com/news/cloocus-recognized-winner-2022-microsoft-190000159.html',\n",
       "  'https://finance.yahoo.com/news/microsoft-cofounder-paul-allen-owned-134159807.html'],\n",
       " 'TSLA': ['https://finance.yahoo.com/news/china-electric-vehicle-stocks-rage-010001191.html',\n",
       "  'https://finance.yahoo.com/news/teslas-run-record-deliveries-may-160922541.html',\n",
       "  'https://finance.yahoo.com/news/tesla-stock-split-june-2022-212130185.html',\n",
       "  'https://au.finance.yahoo.com/news/tesla-recalls-faulty-cars-safety-glitch-113600162.html',\n",
       "  'https://finance.yahoo.com/news/tesla-closes-office-layoff-hits-052303957.html'],\n",
       " 'BTC': ['https://uk.finance.yahoo.com/news/the-crypto-mile-bitcoin-dip-fall-135754345.html',\n",
       "  'https://finance.yahoo.com/news/traders-saying-bitcoins-biggest-monthly-090000278.html',\n",
       "  'https://finance.yahoo.com/news/enormous-outflows-largest-bitcoin-etf-195429300.html',\n",
       "  'https://finance.yahoo.com/news/software-firm-meitu-lost-52-080351060.html',\n",
       "  'https://finance.yahoo.com/news/bitcoin-price-june-17-2022-203000768.html']}"
      ]
     },
     "execution_count": 55,
     "metadata": {},
     "output_type": "execute_result"
    }
   ],
   "source": [
    "final_urls_list = {ticker:strip_unwanted_urls(raw_urls_to_dictionary[ticker]) for ticker in raw_urls_to_dictionary.keys()}\n",
    "#final_urls_list = {ticker:strip_unwanted_urls(raw_urls_to_dictionary[ticker]) for ticker in ticker_2}\n",
    "len(final_urls_list['MSFT'])\n",
    "final_urls_list"
   ]
  },
  {
   "cell_type": "markdown",
   "id": "37dae632",
   "metadata": {},
   "source": [
    "### 4b_2 Searching and Webscrapping final URLs\n",
    "1. **def scrape_articles(URLs):** The function scrapes the Url for text and limits it to 350 words by parsing it."
   ]
  },
  {
   "cell_type": "code",
   "execution_count": 56,
   "id": "09d1e2fd",
   "metadata": {},
   "outputs": [],
   "source": [
    "def scrape_articles(URLs):\n",
    "    try:\n",
    "        ARTICLES = []\n",
    "        counter =0\n",
    "        for url in URLs: \n",
    "            r = requests.get(url)\n",
    "            soup = BeautifulSoup(r.text, 'html.parser')\n",
    "            paragraphs = soup.find_all('p')\n",
    "            text = [paragraph.text for paragraph in paragraphs]\n",
    "            words = ' '.join(text).split(' ')[:350]\n",
    "            ARTICLE = ' '.join(words)\n",
    "            ARTICLES.append(ARTICLE)\n",
    "            print(counter)\n",
    "            counter+=1\n",
    "        return ARTICLES\n",
    "    except Exception as e:\n",
    "        print(e)"
   ]
  },
  {
   "cell_type": "code",
   "execution_count": 57,
   "id": "be5d2443",
   "metadata": {},
   "outputs": [
    {
     "name": "stdout",
     "output_type": "stream",
     "text": [
      "0\n",
      "1\n",
      "2\n",
      "3\n",
      "4\n",
      "0\n",
      "1\n",
      "2\n",
      "3\n",
      "4\n",
      "0\n",
      "1\n",
      "2\n",
      "3\n",
      "4\n"
     ]
    },
    {
     "data": {
      "text/plain": [
       "{'MSFT': [\"Chicago, IL – June 15, 2022 – Zacks.com announces the list of stocks featured in the Analyst Blog. Every day the Zacks Equity Research analysts discuss the latest news and events impacting stocks and the financial markets. Stocks recently featured in the blog include: Microsoft Corp. MSFT, Amgen Inc. AMGN, Honeywell International Inc. HON, Booking Holdings Inc. BKNG and Stryker Corp. SYK. The Zacks Research Daily presents the best research output of our analyst team. Today's Research Daily features new research reports on 16 major stocks, including Microsoft Corp., Amgen Inc., and Honeywell International Inc. These research reports have been hand-picked from the roughly 70 reports published by our analyst team today.\\xa0You can see all of today's research reports here >>> Microsoft shares have held up better than the broader Tech sector in the ongoing market decline (down -19.6% in the year-to-date period vs. -24.2% decline for the Zacks Tech sector), reflecting the company's entrenched standing in the space. But the stock has nevertheless lagged the broader market as investors reprice the risks associated with a faster growing software player in a rising interest rate environment. Nevertheless, Microsoft's performance is benefiting from strength in its Azure cloud platform amid accelerated global digital transformation. Teams' user growth is gaining from continuation of remote work and mainstream adoption of hybrid/flexible work models. Recovery in the advertising and job markets boosted LinkedIn and Search revenues. Solid uptake of new Xbox consoles is aiding the gaming segment performance. The company is witnessing growth in the user base of its different applications including Microsoft 365 suite, Dynamics and Power Platform. Microsoft expects Surface revenues to grow in the mid-teens range, driven by strong demand for premium devices. (You can read the full research report on Microsoft here >>>) Amgen shares have outperformed the Zacks Medical - Biomedical and Genetics industry over the past year (+2.1% vs. -45.5%) on the back of a robust pipeline of early and late-stage assets. Several phase III readouts are due in 2022. Lumakras, a first-in-class lung cancer treatment, is off to an excellent start while its label expansion studies are\",\n",
       "  'Through this integration financial institutions can personalize their banking experience, adopt digital innovations, and uncover new revenue streams by embracing the cloud MIAMI, June 27, 2022 /PRNewswire/ -- Technisys, the company behind Cyberbank, the cloud-native, next-gen digital banking platform, has integrated its platform with Microsoft Cloud for Financial Services to offer financial institutions (FIs) the ability to differentiate and redefine the customer experience within a cloud-native, end-to-end financial services technologies, accelerating a bank\\'s digital transformation. This integration allows scalability for even the largest banks with up to 150 million customers. Many banks today are managing legacy systems siloed across internal departments. This limits the institutions\\' ability to deliver a seamless customer experience consistently across channels - prohibiting FIs from being customer-centric, agile, future-proof, and scalable. This integration provides a strong and well-defined path to build a complete banking ecosystem for FI\\'s. It creates a platform for a more cohesive digital transformation process that will enable banks to deliver exceptional customer experiences, lower operational costs, and a digital edge. \"Our integration with Microsoft strengthens our commitment to redefining the banking experience for consumers and business owners,\" says Mike Santos, CEO of Technisys. \"We are empowering banks to create and deliver novel and tailored financial products, designed to be integral to customer lifestyles. Now, combined with\\xa0 Microsoft Azure\\'s cloud computing platform, we will enable FIs to embrace a digital transformation more quickly and cost effectively - without disrupting day-to-day business. It\\'s a compelling and proven value proposition.\" \"Technisys\\' integration with Microsoft Cloud for Financial Services enables financial institutions to accelerate their digital journey and transition to a cloud model,\" said Bill Borden, Corporate Vice President of Worldwide Financial Services at Microsoft. \"We know that pursuing a digital transformation is challenging, but with the powerful capabilities of both Technisys and Microsoft we can empower our customers to innovate faster and focus more on delivering value to their customers, versus maintaining their legacy systems.\" The integration introduces capabilities that come from the unveiling of a new and robust partner ecosystem with a proven, next-gen digital banking platform - where FI\\'s can differentiate, deliver personalization,',\n",
       "  'Tech companies continue to hit the breaks on hiring against the backdrop of a declining stock market and recession fears. On June 30th, Meta\\'s (META) founder and CEO Mark Zuckerberg said the social media giant would scale back hiring and warned of an economic downturn. \"If I had to bet, I\\'d say that this might be one of the worst downturns that we\\'ve seen in recent history,\" Zuckerberg told employees during a weekly Q&A session which was recorded and heard by Reuters.  Earlier in June, Tesla\\'s CEO Elon Musk ordered a hiring pause worldwide, citing a “super bad feeling” about the economy.  JPMorgan\\'s CEO Jamie Dimon also warned of an economic “hurricane\" ahead as the Federal Reserve continues its process of normalizing interest rates. Hiring pauses, rescinded offers, and layoffs accelerated last quarter as stocks in every sector of the S&P 500 declined. Communications Services and Technology were among the worst performing sectors, behind Consumer Discretionary. The S&P 500 closed out its biggest loss for the first half of the year since 1970. Yahoo Finance is tracking how tech companies are responding to a bear stock market, and a slowing economy. Meta (META) Facebook\\'s parent company plans to slash hiring plans for engineers by at least 30%, according to Reuters. In late June, CEO Mark Zuckerberg told employees the company aims to hire between 6,000-7,000 engineers in 2022, down from an initial target closer to 10,000. Meta had confirmed it would limit its intake of new employees in May, but exact figures had not been reported. The social media giant had 77,805 employees worldwide as of March 31, 2022. Spotify (SPOT) The world\\'s largest online streaming service has been on a spending spree, plowing cash into its podcast division in an effort to dive deeper into the higher margin business. But the company isn\\'t immune to the current economic backdrop. According to Bloomberg, Spotify will cut its hiring plans back by 25%, meaning the company will not stop hiring new employees, but will bring on fewer workers than originally expected in the year ahead. Redfin (RDFN) Online real',\n",
       "  'SEOUL, South Korea, June 29, 2022 /PRNewswire/ -- Cloocus, a leading cloud experts group specialized in Microsoft, today announced it has won the Country of the Year 2022 Microsoft Partner of the Year Award. The company was honored among a global field of top Microsoft partners for demonstrating excellence in innovation and implementation of customer solutions based on Microsoft technology. \"The partner of the Year Award is awarded to the partner that has shown the highest performance in Microsoft business. Receiving this award for the second consecutive year, I feel great responsibility to strive more,\" said Steve Hong, the CEO of Cloocus. \"We will do our best to become a partner with the best technology to support 3 Cloud – Azure, Microsoft365, and Dynamics365 & Power Platform.\" The Microsoft Partner of the Year Awards recognize Microsoft partners that have developed and delivered outstanding Microsoft-based applications, services and devices during the past year. Awards were classified in various categories, with honorees chosen from a set of more than 3,900 submitted nominations from more than 100 countries worldwide. Cloocus was recognized for providing outstanding and services in Korea. Despite being founded for only three years, Cloocus has grown in a rapid pace this year. Since its earlier stage, Cloocus has heavily invested in Microsoft\\'s cloud technology and acquired \"Azure Expert MSP,\" which is Microsoft\\'s top global technology grade. Among the Korean partners, it holds the most advanced specialization certifications, which is the highest grade of Azure technology per specific workloads, for Cloud Migration, Hybrid Cloud, Security, Application Modernization, Data & AI, and more. By utilizing the latest technologies of \"Azure Digital Twin Platform,\" \"Azure Databricks,\" and \"Azure Machine Learning\" for its recent project with Hyundai Motor Group, it has proven its exceptional expertise in Data and AI services. An e-approval solution optimized for Korean work environments, \"ClooWorks,\" has also been launched based on Microsoft Teams. As the first Microsoft Cloud Center of Excellence (CCoE) partner in Korea, it is recruiting partners to do its Microsoft business together and is striving to expand its Microsoft-based cloud ecosystem. With Microsoft Korea, Cloocus opened the',\n",
       "  'Speculation is mounting that late Microsoft cofounder Paul Allen\\'s pro sports teams could be sold. Nike founder Phil Knight already submitted a $2 billion bid for the Portland Trail Blazers. Allen\\'s trust has sold off other assets, including property and a yacht, since his death in 2018. When Microsoft cofounder Paul Allen died in 2018, he left behind a collection of assets ranging from multimillion-dollar properties to a 414-foot megayacht. While much of it has been sold in the years since, two expensive — and high-profile — holdings remain: the NBA\\' Portland Trail Blazers and the NFL\\' Seattle Seahawks. The fates of Allen\\'s pro sports teams have been unclear since his death, when his trust passed into the hands of his sister, Jody Allen. Jody Allen hasn\\'t given a single interview in the intervening years, which means there are few clues about the future of the two teams. But speculation is mounting that both teams could be sold off to fulfill the terms of Paul Allen\\'s estate, and sold off in the near future. With both teams valued at or above $2 billion, there\\'s a small pool of moguls wealthy enough to submit a bid — and one famous exec has already made an offer. Here\\'s what we know about Allen\\'s estate, and the future of his teams. Allen made his fortune building Microsoft with Bill Gates Paul Allen and his Microsoft cofounder, Bill Gates, met in high school and founded the company in 1975 — it was Allen who coined the name \"Microsoft.\" Allen left the company in the early 1980s after being diagnosed with non-Hodgkins lymphoma. In the decades that followed, he spent his time as a philanthropist, donating millions, and pursuing his hobbies, like exploring shipwrecks, music, collecting art and mansions, and, eventually, purchasing the Blazers and the Seahawks. At the time of Allen\\'s death, Forbes placed his net worth at $20 billion. He bought the Portland Trail Blazers in 1988 Allen paid $70 million for the Blazers back in the late 1980s and promised to keep the team in Portland — today, the Blazers are valued'],\n",
       " 'TSLA': ['(Bloomberg) -- Shares of China’s electric-vehicle makers are trouncing global industry leader Tesla Inc., bolstered by Beijing’s consumption incentives and heavy dip-buying from investors. Most Read from Bloomberg Hyundai Quietly Climbs the EV Sales Charts and Elon Musk Notices Rep. Mary Miller Calls Roe Decision ‘Victory for White Life’ Russia Is Hours Away From Its First Foreign Default in a Century Russia Defaults on Foreign Debt for First Time Since 1918 Germany Pushes for G-7 Reversal on Fossil Fuels in Climate Blow American depository receipts of Nio Inc., XPeng Inc. and Li Auto Inc. have surged at least 64% each over the past month to be among the top gainers in Chinese stocks traded in the US. The sharp rally reflects improving sentiment following a monthslong slump due to worries over high valuation and supply bottlenecks. Their gains easily beat Tesla’s 17% advance, with the divergence in China and US policy outlooks and investor jitters over how Elon Musk will fund a potential Twitter Inc. deal weighing on the EV giant’s share price. China’s EV industry hit a trough during Shanghai’s lockdown -- when not even one car was sold in the city in April and factories were forced to shut down or operate under heavy restrictions. Authorities have since unveiled a slew of stimulus measures to revive the sector, including subsidies, higher quota for car ownership in Shanghai and Guangdong, and a possible extension of purchase tax exemption for new energy vehicles. READ: Tesla Cut, Chinese Rivals Added by Oldest EV Fund in Korea “There are fund flows buying the dip and capturing the sector’s bounce,” said Andy Wong, fund manager at LW Asset Management Advisors Ltd. in Hong Kong. However, short-term upside potential has narrowed following the recent surge, he noted. Meanwhile, Tesla’s shares have seen huge swings and are down about 36% from this quarter’s high in April, even though the firm has staged a remarkable comeback in terms of its production in China. The US automaker’s looming job cuts, uncertainty over Musk’s Twitter deal, and his latest comments about new factories in Germany and Texas losing',\n",
       "  'By Hyunjoo Jin and Akash Sriram SAN FRANCISCO (Reuters) - Tesla Inc is expected to end its nearly two-year-long run of record quarterly deliveries as a prolonged COVID-related shutdown in Shanghai hit its production and supply chain, highlighting the risks of its reliance on China. While Tesla Chief Executive Elon Musk has been pursuing the acquisition of social media platform Twitter Inc, his crown jewel, Tesla, has grappled with production glitches in China and slow output growth at new factories in Texas and Berlin. Analysts expect Tesla to report deliveries of 295,078 vehicles for the second quarter as early as Friday, according to Refinitiv data. Several analysts have slashed their estimates further to about 260,000 due to China\\'s prolonged lockdown. This would be down from its record deliveries of 310,048 the preceding quarter, marking Tesla\\'s first quarter-on-quarter decline in deliveries since the first quarter of 2020. The world\\'s most valuable automaker has posted record deliveries every quarter since the third quarter of 2020, weathering pandemic and supply-chain disruptions better than most automakers. China has been instrumental in Tesla\\'s rapid increase of vehicle production and Musk has praised workers there for \"burning the 3 a.m. oil.\" But China\\'s prolonged zero-COVID lockdown - Wedbush analyst Dan Ives called it Tesla\\'s \"albatross\" this quarter - caused deeper disruptions to output than Musk predicted. Tesla\\'s low-cost, lucrative Shanghai factory produced roughly half of the company\\'s total cars delivered last year, and Ives estimated the shutdown wiped out about 70,000 units in the quarter. Musk said in April that Tesla\\'s overall vehicle production in the second quarter would be \"roughly on par\" with the first quarter, driven by a China rebound. But he recently said Tesla had a \"very tough quarter,\" citing production and supply-chain challenges in China. Musk also said Tesla\\'s new factories in Texas and Berlin are \"gigantic money furnaces\" losing billions of dollars as they struggle to increase production quickly. He said the carmaker\\'s supply-chain problems are not over and keeping the factories running remains a concern. \"The key question is the magnitude of the (China production) decline and whether the Fremont',\n",
       "  'Tesla (TSLA) announced in its annual proxy statement released late Friday it will seek shareholder approval to split its stock 3-for-1. Shareholders will vote on the proposal at Tesla\\'s annual meeting on August 4th. Tesla shares rose as much as 3% after hours on Friday following the news; shares fell 3.1% during Friday\\'s regular trading session. Tesla shares have dropped 34% so far this year. In its filing, Tesla said the proposed stock split, \"would help reset the market price of our common stock so that our employees will have more flexibility in managing their equity, all of which, in our view, may help maximize stockholder value. In addition, as retail investors have expressed a high level of interest in investing in our stock, we believe the Stock Split will also make our common stock more accessible to our retail shareholders.\" Tesla says the 3-for-1 stock split would be executed via a special dividend given to investors. Back in March Tesla had said it would ask for authorization of the stock split at its annual meeting; now, the company is disclosing how that split will go down. This marks the company\\'s second stock split in less than two years — in August 2020, Tesla split its stock 5-for-1. Separately, the company revealed Larry Ellison, executive chairman of Oracle (ORCL) and a member of Tesla\\'s board, would be stepping down. Ellison joined the company\\'s board in 2018, a move that followed Ellison disclosing a stake in the company. Tesla\\'s board will go down to 7 members from 8 after Ellison departs. Correction: an earlier version of this story incorrectly said Tesla\\'s August 2020 stock split was 4-for-1, this has been updated to 5-for-1. — Pras Subramanian is a reporter for Yahoo Finance. You can follow him on Twitter and on Instagram. Read the latest financial and business news from Yahoo Finance Follow Yahoo Finance on Twitter, Instagram, YouTube, Facebook, Flipboard, and LinkedIn Related Quotes Tesla Inc reported 273 vehicle crashes since July involving advanced driving assistance systems, more than any other automaker, according to data U.S. auto safety regulators released on',\n",
       "  \"Get Fully Briefed with Yahoo Finance, delivered straight to your inbox. Tesla (TSLA) models 3 and Y are being recalled in Germany because of a technical problem in the cars’ emergency system that has affected 59,000 vehicles globally. The Federal Motor Transport Authority found a software flaw was causing a breakdown of the eCall, which is designed to automatically contact emergency responders in the event of a serious accident. “Software error leads to failure of the eCall system,” the agency said, adding that the fault has only been identified in Model Y and 3 units produced this year. German media first reported on the notice on Saturday. The federal agency can only order a recall in Germany, but said on its website that a total of more than 59,129 Teslas would be affected worldwide. Read more: Oil swings as fuel prices cling to record highs The Model 3 is currently the best-selling EV in the UK, having sold 34,783 units last year, figures from the Society of Motor Manufacturers and Traders (SMMT) show. Affected owners in Germany are being told to call the manufacturer or drive to an authorised repair shop for a software update. Emergency Call or eCall is an emergency call system that automatically contacts emergency responders and communicates standard information to a Public Safety Answering Point in the event of a serious accident or emergency. This service gets activated automatically if airbags deploy or a severe collision is detected. The recall is just one of the many headaches CEO Elon Musk has had to face this year as Tesla also recalled 130,000 vehicles across the US in May due to overheating touch screens. Read more: UK car production rises for first time in almost a year The US National Highway Traffic Safety Administration (NHTSA) early in June upgraded its probe into 830,000 Tesla vehicles with the advanced driver assistance system Autopilot, after more than a dozen cars using its self-driving system crashed into parked emergency vehicles. Musk announced on Saturday Tesla delivered 17.9% fewer electric vehicles in the second quarter because of China's COVID-19 shutdown and disruptions\",\n",
       "  'By Hyunjoo Jin SAN FRANCISCO (Reuters) - Tesla has shuttered its office in San Mateo, California and laid off roughly 200 employees working on its Autopilot driver-assistant system there, one of the people told Reuters, in a move seen as accelerating cost-cutting. Most of the laid-off people had been hourly workers, that person said. Early this month, Tesla Chief Executive Elon Musk told top managers he had a \"super bad feeling\" about the economy and that the maker of electric cars needed to cut staff by about 10%. Later, the billionaire said that the 10% cuts would apply only to salaried workers and that hourly staff numbers were still expected to grow. \"Tesla clearly is in a major cost-cutting mode,\" said Raj Rajkumar, professor of electrical and computer engineering at Carnegie Mellon University. \"This (staff reduction) likely indicates that 2Q 2022 has been pretty rough on the company due to the shutdown in Shanghai, raw material costs and supply chain problems.\" Anti-pandemic measures in Shanghai have depressed Tesla\\'s production there. The laid-off person who spoke to Reuters said employees at the satellite office had previously been told that they would move to an office in Palo Alto in stages beginning this month after the San Mateo lease expired. But most of the workers were laid off on Tuesday. \"It was definitely kind of numbing,\" he said. \"Yeah, we\\'re definitely shocked; we\\'re definitely blindsided.\" Some workers expected Tesla to shift some of the jobs to lower-wage workers in Buffalo, New York, to save costs. Tesla did not immediately respond to a Reuters request for comment. Many people in Tesla\\'s San Mateo office work on data annotation - reviewing and labeling various visuals collected from Tesla vehicles to teach the cars\\' Autopilot system how to handle certain kinds of road scenarios. A number of Tesla data annotation employees said on Linkedin on Tuesday that they had been laid off. \"So kind of a disappointing day today. Myself along with almost the whole San Mateo Branch at Tesla just got laid off,\" Caeser Rosas, a data annotation specialist, said on a Linkedin post.'],\n",
       " 'BTC': [\"Watch: The Crypto Mile - The Power and Potential of Cryptocurrencies Crypto is often heralded as the best innovation since world wide web and its disruptive power as the force that is going to redefine the world's financial networks. Its backers vouch by its liberating and reforming potential to switch transactions to decentralised finance, thus getting rid of intermediaries, including and most importantly banks. Critics, however, point out that the blockchain technology that crypto is based on has some merits but claims of crypto tokens replacing money is pure baloney. That, however, hasn't deterred punters taking huge bets. Some made big gains, several lost fortunes – and lifelong savings. In recent months the crypto crash has only become deeper, with several false alarms of 'hitting the bottom'. The crypto market cap has shrunk from $3.2tn (£2.6tn) in November 2021 to barely $1tn. Bitcoin (BTC-USD) tanked to below $20,000 earlier in June, while ether, the token linked to the Ethereum (ETH-USD) blockchain, fell to nearly $1,000. The crypto churn is still on, and many claim that those still standing at the end will be the Amazons of the post-dotcom crash. Amid this backdrop comes Yahoo Finance's new show 'The Crypto Mile' where we will be interviewing some of the leading figures in the industry, both backers and critics, to try and make sense of everything: from buying plots in the metaverse to owning NFTs. Episode 1, published today, features a diverse range of opinions from Johns Hopkins University Applied Economics professor Steve Hanke, bitcoin educator and entrepreneur Jimmy Song, and 'the real Wolf of Wall Street' Jordon Belfort. We try to assess if bitcoin has finally hit the floor after recent downward spiral into prices not seen since 2017, or it still has further to fall. Read more: Crypto: Tether hole widens as it loses another billion in a day Bitcoin had a recent rebound, jumping from levels not seen since 2017 to now stand at $21,443, up around 5% in the last seven days. Ethereum, the second largest cryptocurrency by market capitalisation, has also rebounded to $1,234, up 10% in\",\n",
       "  'Don\\'t miss CoinDesk\\'s Consensus 2022, the must-attend crypto & blockchain festival experience of the year in Austin, TX this June 9-12. Bitcoin slid almost 38% in June to record its second-biggest monthly loss since its debut in 2009. It traded over $31,000 on June 1 and dropped to as low as $17,700 mid-month, before recovering and ending the month at $19,209, according to CoinGecko data. The monthly decline is second only to bitcoin\\'s plunge of 38.6% in August 2011, and pushed prices below 2017\\'s highs. June\\'s losses came amid declining macroeconomic sentiment, fears of inflation and systemic risks from within the crypto ecosystem, such as the possible insolvency of crypto lender Celsius Network and the blowup of crypto hedge fund Three Arrows Capital. “The losses were caused by many factors,\" said Ali Kassab, chairman of crypto investment firm Centurion & Co. “These included monetary policies bordering on central banks\\' response to rising inflation fueled by COVID-19 and the ongoing Russo-Ukrainian war. \"From Terra’s collapse to the liquidation of Three Arrows Capital and unending layoffs, the bad trend in the crypto industry weighed down the price of bitcoin,” Kassab added, noting he expected institutional investments “to pour into the asset” and create \"better price performance\" in July. Others such as Chris Terry of lending platform SmartFi say they expect bitcoin to trade in a fairly narrow range in the short term. “The feeling of the trading desk is that if bitcoin stays in the $18,000 to $20,000 [range], it\\'s going to be a long drawn out, and we could be in this trading range now for weeks,” he said. “Everybody kind of feels that bitcoin needs to wash out and take out all the short positions and reset, which would be probably the full 80% retracement, which is typical in the markets, which would be down in the $12,000 to $13,000 range,” Terry added. Central bankers renewed fears of rate hikes among investors earlier this week at the European Central Bank’s annual forum. Federal Reserve Chairman Jerome Powell reiterated the central bank\\'s commitment to increasing interest rates to curtail inflation. Speaking',\n",
       "  \"Strategist Michael Antonelli joins Jared Blikre to break down the Fed decision and more at 2 P.M. ET Wednesday. Don't miss CoinDesk's Consensus 2022, the must-attend crypto & blockchain festival experience of the year in Austin, TX this June 9-12. The world's largest bitcoin (BTC) spot exchange-traded fund lost half of its assets under management last Friday, which might have exacerbated bitcoin’s crash on Saturday. The Purpose Bitcoin ETF saw an outflow of 24,510 bitcoins on Friday, the most severe redemption in a single day since the fund made its debut on the Canadian Stock Exchange in April 2021, according to the Norway-based Arcane Research. The outflows mean that the fund had to sell about $500 million in BTC at Friday’s price, adding to the selling pressure in an already shaky crypto market, Arcane wrote in a report. “The enormous outflows are likely caused by a forced seller in a huge liquidation,” Arcane analyst Vetle Lunde wrote. “The forced selling of the 24,000 BTC could have triggered BTC’s move down towards $17,600 this weekend.” Bitcoin (BTC) dropped below $20,000 on Saturday, tumbling to as low as $17,678. Traders were rattled by fears of crypto industry insolvencies, as crypto lender Celsius Network halted client withdrawals, BlockFi sought additional financing and crypto hedge fund Three Arrows Capital confirmed it suffered heavy losses. The weekend's price action also marked the first time that the largest cryptocurrency had fallen below its previous cycle’s all-time high, notched in December 2017, of $19,783. Bitcoin ETFs track the value of bitcoin and provide a way to invest in the largest cryptocurrency without dealing directly with crypto; they can be bought, sold and traded on traditional stock market exchanges instead of on cryptocurrency trading platforms. ETFs actively add and sell bitcoin to match investors investing in and redeeming from the fund. The Purpose Bitcoin ETF was by far the largest bitcoin-focused exchange-traded product, managing almost 48,000 bitcoins before Friday’s redemptions. Now, the fund holds only about 23,300 BTC. Another bitcoin-focused fund, the 3iQ CoinShares Bitcoin ETF, suffered large outflows last month, selling 7,401 BTC of its holdings. As\",\n",
       "  \"Don't miss CoinDesk's Consensus 2022, the must-attend crypto & blockchain festival experience of the year in Austin, TX this June 9-12. Hong Kong-listed software firm Meitu (1357) likely lost RMB 274.9 million to RMB 349.9 million ($41.1 million to $52.3 million) in the first half of 2022, mostly due to a fall in the value of its crypto holdings. The firm's losses almost doubled, a 99.6% to 154.1% increase, compared to the same period last year, it said in a filing with the Hong Kong Stock Exchange on July 1. The Cayman-islands incorporated firm Meitu is known in China for its synonymous AI-powered face beautification app. The price of major cryptocurrencies has fallen dramatically in the past month, bitcoin (BTC) lost almost 38% in June, its second-biggest monthly loss since its launch in 2009. Meitu bought 940.89 BTC and 31,000 ether (ETH) in the spring of 2021, but has not made any moves to sell or buy crypto since then, according to the filing. Read more: What Traders Are Saying About Bitcoin's Biggest Monthly Loss in 11 Years High-quality items seldom go on sale. Grab them when they do. The stock market has gotten off to a brutal start in the first half of 2022.  Meanwhile, the Nasdaq Composite index has slid a staggering 29% during that stretch.  With a decline of roughly 7% this year, Berkshire Hathaway stock has held up significantly better than the market at large, but Warren Buffett's company has stocks in its portfolio that have recorded dramatic losses amid current market pressures. Schiff publicly predicted the great financial crash of 2008. Will he be right again? Bitcoin might have cemented its status as “digital gold,” but one other widely touted purpose has yet to properly play out. The daddy of crypto is supposed to be a hedge against inflation but recent times have shown that soaring inflation has not provided a tailwind. In fact, Bitcoin's performance has followed the lead of the equity market, and mirroring the wide downturn in 2022, bitcoin’s price has tumbled over 70% since peaking last November. That said,\",\n",
       "  'It has been a rough week for crypto investors. After briefly dipping to $20,293 per unit early Friday, the bitcoin (BTC-USD) price has fluctuated between $20,000 and $21,200 and is currently trading at $20,591, a loss of 2.37% in the last 24 hours and 29% over the past week. Ether (ETH-USD), which is more intertwined with crypto’s DeFi segment that has lately wrecked havoc on the risk management strategies of significant industry players, trades at $1,086 per coin, a loss of almost 3% on the day, and around 36% in the last week. Crypto’s total market capitalization has dropped by almost $300 billion since last Friday’s hot inflation data, from $1.19 trillion to $893 billion as of Friday afternoon, according to Coinmarketcap. \"We are in the throes of a crypto winter,\" Future Perfect Ventures partner Jalak Jobanputra told Yahoo Finance Live. Jobanputra notes that despite bitcoin’s sizable drawdown, it has so far held above $20,000, an important psychological level for buyer support. \"If we see more contagion within the crypto markets and more funds start to fail [things] could change, but I still think of [bitcoin] as the most blue-chip crypto that’s not as exposed to questionable risk management practices,\" Jobanputra added. Inside the sector, a liquidity crisis has pressured a string of crypto hedge funds and lenders. Firms including Coinbase (COIN) have announced layoffs, while some firms have been forced to liquidate positions or freeze customer accounts. Following the crypto lender Celsius Network’s move to freeze all customer accounts, Babel Finance has also cooled trading, citing “unusual liquidity pressures” according to a customer note. Amidst the panic, several crypto firms including BlockFi, Genesis Trading and FTX have come out publicly stating they’ve liquidated certain overleveraged counterparties on their platform with some speculation and evidence pointing to Three Arrows Capital. \"Crypto is going through a classic deleveraging cycle and it has to continue that cycle until it hits bottom,\" Matt Hougan, chief investment officer of Bitwise told Yahoo Finance Live, adding that volatility will persist over the next few weeks. Some data shows, however, that investors are still eager to']}"
      ]
     },
     "execution_count": 57,
     "metadata": {},
     "output_type": "execute_result"
    }
   ],
   "source": [
    "articles = {ticker:scrape_articles(final_urls_list[ticker]) for ticker in final_urls_list.keys()}\n",
    "#articles = {ticker:scrape_articles(final_urls_list[ticker]) for ticker in tickers_2}     \n",
    "articles"
   ]
  },
  {
   "cell_type": "code",
   "execution_count": 58,
   "id": "2a416dd7",
   "metadata": {},
   "outputs": [
    {
     "data": {
      "text/plain": [
       "['(Bloomberg) -- Shares of China’s electric-vehicle makers are trouncing global industry leader Tesla Inc., bolstered by Beijing’s consumption incentives and heavy dip-buying from investors. Most Read from Bloomberg Hyundai Quietly Climbs the EV Sales Charts and Elon Musk Notices Rep. Mary Miller Calls Roe Decision ‘Victory for White Life’ Russia Is Hours Away From Its First Foreign Default in a Century Russia Defaults on Foreign Debt for First Time Since 1918 Germany Pushes for G-7 Reversal on Fossil Fuels in Climate Blow American depository receipts of Nio Inc., XPeng Inc. and Li Auto Inc. have surged at least 64% each over the past month to be among the top gainers in Chinese stocks traded in the US. The sharp rally reflects improving sentiment following a monthslong slump due to worries over high valuation and supply bottlenecks. Their gains easily beat Tesla’s 17% advance, with the divergence in China and US policy outlooks and investor jitters over how Elon Musk will fund a potential Twitter Inc. deal weighing on the EV giant’s share price. China’s EV industry hit a trough during Shanghai’s lockdown -- when not even one car was sold in the city in April and factories were forced to shut down or operate under heavy restrictions. Authorities have since unveiled a slew of stimulus measures to revive the sector, including subsidies, higher quota for car ownership in Shanghai and Guangdong, and a possible extension of purchase tax exemption for new energy vehicles. READ: Tesla Cut, Chinese Rivals Added by Oldest EV Fund in Korea “There are fund flows buying the dip and capturing the sector’s bounce,” said Andy Wong, fund manager at LW Asset Management Advisors Ltd. in Hong Kong. However, short-term upside potential has narrowed following the recent surge, he noted. Meanwhile, Tesla’s shares have seen huge swings and are down about 36% from this quarter’s high in April, even though the firm has staged a remarkable comeback in terms of its production in China. The US automaker’s looming job cuts, uncertainty over Musk’s Twitter deal, and his latest comments about new factories in Germany and Texas losing',\n",
       " 'By Hyunjoo Jin and Akash Sriram SAN FRANCISCO (Reuters) - Tesla Inc is expected to end its nearly two-year-long run of record quarterly deliveries as a prolonged COVID-related shutdown in Shanghai hit its production and supply chain, highlighting the risks of its reliance on China. While Tesla Chief Executive Elon Musk has been pursuing the acquisition of social media platform Twitter Inc, his crown jewel, Tesla, has grappled with production glitches in China and slow output growth at new factories in Texas and Berlin. Analysts expect Tesla to report deliveries of 295,078 vehicles for the second quarter as early as Friday, according to Refinitiv data. Several analysts have slashed their estimates further to about 260,000 due to China\\'s prolonged lockdown. This would be down from its record deliveries of 310,048 the preceding quarter, marking Tesla\\'s first quarter-on-quarter decline in deliveries since the first quarter of 2020. The world\\'s most valuable automaker has posted record deliveries every quarter since the third quarter of 2020, weathering pandemic and supply-chain disruptions better than most automakers. China has been instrumental in Tesla\\'s rapid increase of vehicle production and Musk has praised workers there for \"burning the 3 a.m. oil.\" But China\\'s prolonged zero-COVID lockdown - Wedbush analyst Dan Ives called it Tesla\\'s \"albatross\" this quarter - caused deeper disruptions to output than Musk predicted. Tesla\\'s low-cost, lucrative Shanghai factory produced roughly half of the company\\'s total cars delivered last year, and Ives estimated the shutdown wiped out about 70,000 units in the quarter. Musk said in April that Tesla\\'s overall vehicle production in the second quarter would be \"roughly on par\" with the first quarter, driven by a China rebound. But he recently said Tesla had a \"very tough quarter,\" citing production and supply-chain challenges in China. Musk also said Tesla\\'s new factories in Texas and Berlin are \"gigantic money furnaces\" losing billions of dollars as they struggle to increase production quickly. He said the carmaker\\'s supply-chain problems are not over and keeping the factories running remains a concern. \"The key question is the magnitude of the (China production) decline and whether the Fremont',\n",
       " 'Tesla (TSLA) announced in its annual proxy statement released late Friday it will seek shareholder approval to split its stock 3-for-1. Shareholders will vote on the proposal at Tesla\\'s annual meeting on August 4th. Tesla shares rose as much as 3% after hours on Friday following the news; shares fell 3.1% during Friday\\'s regular trading session. Tesla shares have dropped 34% so far this year. In its filing, Tesla said the proposed stock split, \"would help reset the market price of our common stock so that our employees will have more flexibility in managing their equity, all of which, in our view, may help maximize stockholder value. In addition, as retail investors have expressed a high level of interest in investing in our stock, we believe the Stock Split will also make our common stock more accessible to our retail shareholders.\" Tesla says the 3-for-1 stock split would be executed via a special dividend given to investors. Back in March Tesla had said it would ask for authorization of the stock split at its annual meeting; now, the company is disclosing how that split will go down. This marks the company\\'s second stock split in less than two years — in August 2020, Tesla split its stock 5-for-1. Separately, the company revealed Larry Ellison, executive chairman of Oracle (ORCL) and a member of Tesla\\'s board, would be stepping down. Ellison joined the company\\'s board in 2018, a move that followed Ellison disclosing a stake in the company. Tesla\\'s board will go down to 7 members from 8 after Ellison departs. Correction: an earlier version of this story incorrectly said Tesla\\'s August 2020 stock split was 4-for-1, this has been updated to 5-for-1. — Pras Subramanian is a reporter for Yahoo Finance. You can follow him on Twitter and on Instagram. Read the latest financial and business news from Yahoo Finance Follow Yahoo Finance on Twitter, Instagram, YouTube, Facebook, Flipboard, and LinkedIn Related Quotes Tesla Inc reported 273 vehicle crashes since July involving advanced driving assistance systems, more than any other automaker, according to data U.S. auto safety regulators released on',\n",
       " \"Get Fully Briefed with Yahoo Finance, delivered straight to your inbox. Tesla (TSLA) models 3 and Y are being recalled in Germany because of a technical problem in the cars’ emergency system that has affected 59,000 vehicles globally. The Federal Motor Transport Authority found a software flaw was causing a breakdown of the eCall, which is designed to automatically contact emergency responders in the event of a serious accident. “Software error leads to failure of the eCall system,” the agency said, adding that the fault has only been identified in Model Y and 3 units produced this year. German media first reported on the notice on Saturday. The federal agency can only order a recall in Germany, but said on its website that a total of more than 59,129 Teslas would be affected worldwide. Read more: Oil swings as fuel prices cling to record highs The Model 3 is currently the best-selling EV in the UK, having sold 34,783 units last year, figures from the Society of Motor Manufacturers and Traders (SMMT) show. Affected owners in Germany are being told to call the manufacturer or drive to an authorised repair shop for a software update. Emergency Call or eCall is an emergency call system that automatically contacts emergency responders and communicates standard information to a Public Safety Answering Point in the event of a serious accident or emergency. This service gets activated automatically if airbags deploy or a severe collision is detected. The recall is just one of the many headaches CEO Elon Musk has had to face this year as Tesla also recalled 130,000 vehicles across the US in May due to overheating touch screens. Read more: UK car production rises for first time in almost a year The US National Highway Traffic Safety Administration (NHTSA) early in June upgraded its probe into 830,000 Tesla vehicles with the advanced driver assistance system Autopilot, after more than a dozen cars using its self-driving system crashed into parked emergency vehicles. Musk announced on Saturday Tesla delivered 17.9% fewer electric vehicles in the second quarter because of China's COVID-19 shutdown and disruptions\",\n",
       " 'By Hyunjoo Jin SAN FRANCISCO (Reuters) - Tesla has shuttered its office in San Mateo, California and laid off roughly 200 employees working on its Autopilot driver-assistant system there, one of the people told Reuters, in a move seen as accelerating cost-cutting. Most of the laid-off people had been hourly workers, that person said. Early this month, Tesla Chief Executive Elon Musk told top managers he had a \"super bad feeling\" about the economy and that the maker of electric cars needed to cut staff by about 10%. Later, the billionaire said that the 10% cuts would apply only to salaried workers and that hourly staff numbers were still expected to grow. \"Tesla clearly is in a major cost-cutting mode,\" said Raj Rajkumar, professor of electrical and computer engineering at Carnegie Mellon University. \"This (staff reduction) likely indicates that 2Q 2022 has been pretty rough on the company due to the shutdown in Shanghai, raw material costs and supply chain problems.\" Anti-pandemic measures in Shanghai have depressed Tesla\\'s production there. The laid-off person who spoke to Reuters said employees at the satellite office had previously been told that they would move to an office in Palo Alto in stages beginning this month after the San Mateo lease expired. But most of the workers were laid off on Tuesday. \"It was definitely kind of numbing,\" he said. \"Yeah, we\\'re definitely shocked; we\\'re definitely blindsided.\" Some workers expected Tesla to shift some of the jobs to lower-wage workers in Buffalo, New York, to save costs. Tesla did not immediately respond to a Reuters request for comment. Many people in Tesla\\'s San Mateo office work on data annotation - reviewing and labeling various visuals collected from Tesla vehicles to teach the cars\\' Autopilot system how to handle certain kinds of road scenarios. A number of Tesla data annotation employees said on Linkedin on Tuesday that they had been laid off. \"So kind of a disappointing day today. Myself along with almost the whole San Mateo Branch at Tesla just got laid off,\" Caeser Rosas, a data annotation specialist, said on a Linkedin post.']"
      ]
     },
     "execution_count": 58,
     "metadata": {},
     "output_type": "execute_result"
    }
   ],
   "source": [
    "articles[\"TSLA\"]"
   ]
  },
  {
   "cell_type": "markdown",
   "id": "a73bcbd3",
   "metadata": {},
   "source": [
    "### 4b_3 Summarizing"
   ]
  },
  {
   "cell_type": "markdown",
   "id": "f57e658f",
   "metadata": {},
   "source": [
    "##### Type2: Summarization Model ------------> Pegasus Model"
   ]
  },
  {
   "cell_type": "code",
   "execution_count": 59,
   "id": "e7c87a36",
   "metadata": {},
   "outputs": [
    {
     "data": {
      "text/plain": [
       "{'MSFT': ['Research Daily features new research reports on 16 major stocks.',\n",
       "  'Technisys has integrated its platform with Microsoft Cloud for Financial Services.',\n",
       "  'Meta, Spotify to cut hiring plans by at least 30%. Facebook, Tesla, Redfin also suspending hiring.',\n",
       "  'Cloocus won the Country of the Year 2022 Microsoft Partner of the Year Award.',\n",
       "  'Portland Trail Blazers and Seattle Seahawks could be sold. Nike founder Phil Knight already submitted a $2 billion bid for the Blazers'],\n",
       " 'TSLA': ['Tesla’s share price is down about 36% from this quarter’s high. China’s EV industry hit a trough during Shanghai lockdown',\n",
       "  'Analysts expect Tesla to report record second-quarter deliveries. China production glitches, slow output growth highlight risks',\n",
       "  'Tesla says 3-for-1 stock split would reset market price. Larry Ellison to leave Tesla board after joining in 2020',\n",
       "  'Model Y and 3 cars made this year are being recalled. Fault has been linked to 59,000 vehicles globally',\n",
       "  'Tesla previously said it would move to Palo Alto. Workers previously told they would move to Palo Alto in stages'],\n",
       " 'BTC': ['On the first episode of The Crypto Mile, we speak to Bitcoin educator and entrepreneur Jimmy Song.',\n",
       "  'June was second-biggest monthly decline since 2009 debut. Analysts see short-term range between $18,000 and $20,000',\n",
       "  'Purpose Bitcoin ETF saw large redemptions on Friday. Bitcoin fell below $20,000 for the first time since December 2017',\n",
       "  'Meitu’s crypto losses almost doubled in first half of 2022.',\n",
       "  'Bitcoin is down nearly 30% in the past week, Ether is down 36%. Liquidity crisis has affected a string of crypto hedge funds and lenders']}"
      ]
     },
     "execution_count": 59,
     "metadata": {},
     "output_type": "execute_result"
    }
   ],
   "source": [
    "summaries = {ticker:pegasus_summarize(articles[ticker]) for ticker in tickers_2}\n",
    "summaries"
   ]
  },
  {
   "cell_type": "markdown",
   "id": "ed507323",
   "metadata": {},
   "source": [
    "###  4b_4 Adding Sentiment Analysis (Using transformers)"
   ]
  },
  {
   "cell_type": "code",
   "execution_count": 60,
   "id": "ecd28b25",
   "metadata": {},
   "outputs": [
    {
     "name": "stderr",
     "output_type": "stream",
     "text": [
      "No model was supplied, defaulted to distilbert-base-uncased-finetuned-sst-2-english and revision af0f99b (https://huggingface.co/distilbert-base-uncased-finetuned-sst-2-english).\n",
      "Using a pipeline without specifying a model name and revision in production is not recommended.\n"
     ]
    },
    {
     "data": {
      "application/vnd.jupyter.widget-view+json": {
       "model_id": "3b0c1d54f8964d81abc248f06e254190",
       "version_major": 2,
       "version_minor": 0
      },
      "text/plain": [
       "Downloading:   0%|          | 0.00/629 [00:00<?, ?B/s]"
      ]
     },
     "metadata": {},
     "output_type": "display_data"
    },
    {
     "data": {
      "application/vnd.jupyter.widget-view+json": {
       "model_id": "48e35eb5fa054dd2ae7b0473bc94cb07",
       "version_major": 2,
       "version_minor": 0
      },
      "text/plain": [
       "Downloading:   0%|          | 0.00/255M [00:00<?, ?B/s]"
      ]
     },
     "metadata": {},
     "output_type": "display_data"
    },
    {
     "data": {
      "application/vnd.jupyter.widget-view+json": {
       "model_id": "06af6f29390040c1aebe004111af9519",
       "version_major": 2,
       "version_minor": 0
      },
      "text/plain": [
       "Downloading:   0%|          | 0.00/48.0 [00:00<?, ?B/s]"
      ]
     },
     "metadata": {},
     "output_type": "display_data"
    },
    {
     "data": {
      "application/vnd.jupyter.widget-view+json": {
       "model_id": "5d8485f3a09344dc88f0f285875b99f0",
       "version_major": 2,
       "version_minor": 0
      },
      "text/plain": [
       "Downloading:   0%|          | 0.00/226k [00:00<?, ?B/s]"
      ]
     },
     "metadata": {},
     "output_type": "display_data"
    },
    {
     "data": {
      "application/vnd.jupyter.widget-view+json": {
       "model_id": "c6c9d496e71040ba85b8b61f4b99fc28",
       "version_major": 2,
       "version_minor": 0
      },
      "text/plain": [
       "Downloading:   0%|          | 0.00/629 [00:00<?, ?B/s]"
      ]
     },
     "metadata": {},
     "output_type": "display_data"
    }
   ],
   "source": [
    "sentiment = pipeline('sentiment-analysis')"
   ]
  },
  {
   "cell_type": "code",
   "execution_count": 61,
   "id": "4086f297",
   "metadata": {},
   "outputs": [
    {
     "data": {
      "text/plain": [
       "{'MSFT': [{'label': 'POSITIVE', 'score': 0.9659997820854187},\n",
       "  {'label': 'POSITIVE', 'score': 0.939801812171936},\n",
       "  {'label': 'NEGATIVE', 'score': 0.9990224838256836},\n",
       "  {'label': 'POSITIVE', 'score': 0.998275876045227},\n",
       "  {'label': 'NEGATIVE', 'score': 0.9984826445579529}],\n",
       " 'TSLA': [{'label': 'NEGATIVE', 'score': 0.9993332028388977},\n",
       "  {'label': 'NEGATIVE', 'score': 0.9980570673942566},\n",
       "  {'label': 'NEGATIVE', 'score': 0.9975124597549438},\n",
       "  {'label': 'NEGATIVE', 'score': 0.9993908405303955},\n",
       "  {'label': 'NEGATIVE', 'score': 0.9569297432899475}],\n",
       " 'BTC': [{'label': 'POSITIVE', 'score': 0.8162856101989746},\n",
       "  {'label': 'NEGATIVE', 'score': 0.9959582686424255},\n",
       "  {'label': 'NEGATIVE', 'score': 0.9984312653541565},\n",
       "  {'label': 'NEGATIVE', 'score': 0.9983428716659546},\n",
       "  {'label': 'NEGATIVE', 'score': 0.9992375373840332}]}"
      ]
     },
     "execution_count": 61,
     "metadata": {},
     "output_type": "execute_result"
    }
   ],
   "source": [
    "scores = {ticker:sentiment(summaries[ticker]) for ticker in tickers_2}\n",
    "scores"
   ]
  },
  {
   "cell_type": "markdown",
   "id": "6b9f9dcb",
   "metadata": {},
   "source": [
    "### 4b_5 Export to CSV"
   ]
  },
  {
   "cell_type": "markdown",
   "id": "6bd25c25",
   "metadata": {},
   "source": [
    "def create_csv(summaries, scores, final_urls_list) is self explanatory as we export all the required information to CSV file."
   ]
  },
  {
   "cell_type": "code",
   "execution_count": 62,
   "id": "c2467f30",
   "metadata": {},
   "outputs": [],
   "source": [
    "def create_csv(summaries, scores, final_urls_list):\n",
    "    try:\n",
    "        output = []\n",
    "        for ticker in tickers_2:\n",
    "            for counter in range(len(summaries[ticker])):\n",
    "                output_this = [\n",
    "                    ticker,\n",
    "                    summaries[ticker][counter],\n",
    "                    scores[ticker][counter]['label'],\n",
    "                    scores[ticker][counter]['score'],\n",
    "                    final_urls_list_list[ticker][counter]\n",
    "                ]\n",
    "                output.append(output_this)\n",
    "        output.insert(0, ['Ticker', 'Summary', 'Label', 'Confidence', 'URL'])\n",
    "        with open('ticket_summaries.csv', mode='w', newline='') as f:\n",
    "            csv_writer = csv.writer(f, delimiter=',', quotechar='\"', quoting=csv.QUOTE_MINIMAL)\n",
    "            csv_writer.writerows(final_output)\n",
    "        return output\n",
    "    except Exception as e:\n",
    "        print(e)"
   ]
  },
  {
   "cell_type": "markdown",
   "id": "26a3a24d",
   "metadata": {},
   "source": [
    "### Summarizing Pipleline 2:"
   ]
  },
  {
   "cell_type": "markdown",
   "id": "8e1075b9",
   "metadata": {},
   "source": [
    "1. Scraped the URLs for the corresponding ticker and Nerws agency.\n",
    "2. Strip out unwanted URLs from URL list.\n",
    "3. Scrape News Articles for corresponding URLs.\n",
    "4. Summarized the scraped articles using Pegasus model.\n",
    "5. Create a CSV file with the needed fields."
   ]
  },
  {
   "cell_type": "markdown",
   "id": "abbfb473",
   "metadata": {},
   "source": [
    "## Conclusion"
   ]
  },
  {
   "cell_type": "markdown",
   "id": "f42a31c0",
   "metadata": {},
   "source": [
    "In conclusion this project is a great NLP Sentiment analyser base highly customizable for your project needs. I have made functions to facilitate customization easy. So I hope this project helps the investors out in the world. Also in Github it is under MIT Licence."
   ]
  },
  {
   "cell_type": "markdown",
   "id": "cbd542c4",
   "metadata": {},
   "source": [
    "### Other References:\n",
    "- https://github.com/nicknochnack/Stock-and-Crypto-News-ScrapingSummarizationSentiment\n",
    "- https://www.geeksforgeeks.org/implementing-web-scraping-python-beautiful-soup/\n",
    "- https://www.w3schools.com/python/"
   ]
  },
  {
   "cell_type": "code",
   "execution_count": null,
   "id": "7064dabb",
   "metadata": {},
   "outputs": [],
   "source": [
    "import jovian\n",
    "project = \"Sentiment_analysis_finviz\"\n",
    "jovian.commit(project=project)"
   ]
  },
  {
   "cell_type": "code",
   "execution_count": null,
   "id": "71a94986",
   "metadata": {},
   "outputs": [],
   "source": []
  }
 ],
 "metadata": {
  "kernelspec": {
   "display_name": "Python 3",
   "language": "python",
   "name": "python3"
  },
  "language_info": {
   "codemirror_mode": {
    "name": "ipython",
    "version": 3
   },
   "file_extension": ".py",
   "mimetype": "text/x-python",
   "name": "python",
   "nbconvert_exporter": "python",
   "pygments_lexer": "ipython3",
   "version": "3.8.8"
  }
 },
 "nbformat": 4,
 "nbformat_minor": 5
}
